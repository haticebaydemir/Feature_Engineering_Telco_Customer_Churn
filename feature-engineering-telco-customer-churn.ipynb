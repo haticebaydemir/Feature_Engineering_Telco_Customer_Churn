{
 "cells": [
  {
   "cell_type": "markdown",
   "id": "0ce0f335",
   "metadata": {
    "papermill": {
     "duration": 0.024087,
     "end_time": "2024-12-18T09:55:52.685522",
     "exception": false,
     "start_time": "2024-12-18T09:55:52.661435",
     "status": "completed"
    },
    "tags": []
   },
   "source": [
    "# Libraries"
   ]
  },
  {
   "cell_type": "code",
   "execution_count": 1,
   "id": "ad7cd472",
   "metadata": {
    "execution": {
     "iopub.execute_input": "2024-12-18T09:55:52.732841Z",
     "iopub.status.busy": "2024-12-18T09:55:52.732311Z",
     "iopub.status.idle": "2024-12-18T09:55:56.001105Z",
     "shell.execute_reply": "2024-12-18T09:55:56.000023Z"
    },
    "papermill": {
     "duration": 3.295347,
     "end_time": "2024-12-18T09:55:56.003667",
     "exception": false,
     "start_time": "2024-12-18T09:55:52.708320",
     "status": "completed"
    },
    "tags": []
   },
   "outputs": [],
   "source": [
    "# Necessary Libraries and Functions\n",
    "import numpy as np  # For numerical computations\n",
    "import pandas as pd  # For data manipulation and analysis\n",
    "import matplotlib.pyplot as plt  # For basic data visualization\n",
    "import seaborn as sns  # For advanced and attractive data visualization\n",
    "from catboost import CatBoostClassifier  # A classifier optimized for categorical features\n",
    "from sklearn.metrics import (accuracy_score, precision_score, recall_score, \n",
    "                             f1_score, roc_auc_score)  # Metrics to evaluate model performance\n",
    "from sklearn.model_selection import (train_test_split, GridSearchCV, \n",
    "                                      cross_validate)  # Data splitting, hyperparameter tuning, and cross-validation\n",
    "from sklearn.preprocessing import LabelEncoder  # For encoding categorical labels to numeric\n",
    "from sklearn.preprocessing import StandardScaler  # For standardizing features\n",
    "import warnings  # To manage warning messages\n",
    "warnings.simplefilter(action=\"ignore\")  # Ignore all warning messages for cleaner outputs"
   ]
  },
  {
   "cell_type": "code",
   "execution_count": 2,
   "id": "4a433650",
   "metadata": {
    "execution": {
     "iopub.execute_input": "2024-12-18T09:55:56.050680Z",
     "iopub.status.busy": "2024-12-18T09:55:56.050109Z",
     "iopub.status.idle": "2024-12-18T09:56:07.735786Z",
     "shell.execute_reply": "2024-12-18T09:56:07.734551Z"
    },
    "papermill": {
     "duration": 11.711984,
     "end_time": "2024-12-18T09:56:07.738331",
     "exception": false,
     "start_time": "2024-12-18T09:55:56.026347",
     "status": "completed"
    },
    "tags": []
   },
   "outputs": [
    {
     "name": "stdout",
     "output_type": "stream",
     "text": [
      "Requirement already satisfied: catboost in /opt/conda/lib/python3.10/site-packages (1.2.7)\r\n",
      "Requirement already satisfied: graphviz in /opt/conda/lib/python3.10/site-packages (from catboost) (0.20.3)\r\n",
      "Requirement already satisfied: matplotlib in /opt/conda/lib/python3.10/site-packages (from catboost) (3.7.5)\r\n",
      "Requirement already satisfied: numpy<2.0,>=1.16.0 in /opt/conda/lib/python3.10/site-packages (from catboost) (1.26.4)\r\n",
      "Requirement already satisfied: pandas>=0.24 in /opt/conda/lib/python3.10/site-packages (from catboost) (2.2.3)\r\n",
      "Requirement already satisfied: scipy in /opt/conda/lib/python3.10/site-packages (from catboost) (1.14.1)\r\n",
      "Requirement already satisfied: plotly in /opt/conda/lib/python3.10/site-packages (from catboost) (5.22.0)\r\n",
      "Requirement already satisfied: six in /opt/conda/lib/python3.10/site-packages (from catboost) (1.16.0)\r\n",
      "Requirement already satisfied: python-dateutil>=2.8.2 in /opt/conda/lib/python3.10/site-packages (from pandas>=0.24->catboost) (2.9.0.post0)\r\n",
      "Requirement already satisfied: pytz>=2020.1 in /opt/conda/lib/python3.10/site-packages (from pandas>=0.24->catboost) (2024.1)\r\n",
      "Requirement already satisfied: tzdata>=2022.7 in /opt/conda/lib/python3.10/site-packages (from pandas>=0.24->catboost) (2024.1)\r\n",
      "Requirement already satisfied: contourpy>=1.0.1 in /opt/conda/lib/python3.10/site-packages (from matplotlib->catboost) (1.2.1)\r\n",
      "Requirement already satisfied: cycler>=0.10 in /opt/conda/lib/python3.10/site-packages (from matplotlib->catboost) (0.12.1)\r\n",
      "Requirement already satisfied: fonttools>=4.22.0 in /opt/conda/lib/python3.10/site-packages (from matplotlib->catboost) (4.53.0)\r\n",
      "Requirement already satisfied: kiwisolver>=1.0.1 in /opt/conda/lib/python3.10/site-packages (from matplotlib->catboost) (1.4.5)\r\n",
      "Requirement already satisfied: packaging>=20.0 in /opt/conda/lib/python3.10/site-packages (from matplotlib->catboost) (21.3)\r\n",
      "Requirement already satisfied: pillow>=6.2.0 in /opt/conda/lib/python3.10/site-packages (from matplotlib->catboost) (10.3.0)\r\n",
      "Requirement already satisfied: pyparsing>=2.3.1 in /opt/conda/lib/python3.10/site-packages (from matplotlib->catboost) (3.1.2)\r\n",
      "Requirement already satisfied: tenacity>=6.2.0 in /opt/conda/lib/python3.10/site-packages (from plotly->catboost) (8.3.0)\r\n"
     ]
    }
   ],
   "source": [
    "# Installing the CatBoost library\n",
    "# CatBoost is a gradient boosting library optimized for categorical data. \n",
    "# It is widely used for machine learning tasks involving structured data.\n",
    "!pip install catboost"
   ]
  },
  {
   "cell_type": "code",
   "execution_count": 3,
   "id": "d956c721",
   "metadata": {
    "execution": {
     "iopub.execute_input": "2024-12-18T09:56:07.785860Z",
     "iopub.status.busy": "2024-12-18T09:56:07.784714Z",
     "iopub.status.idle": "2024-12-18T09:56:07.850474Z",
     "shell.execute_reply": "2024-12-18T09:56:07.849441Z"
    },
    "papermill": {
     "duration": 0.092015,
     "end_time": "2024-12-18T09:56:07.852881",
     "exception": false,
     "start_time": "2024-12-18T09:56:07.760866",
     "status": "completed"
    },
    "tags": []
   },
   "outputs": [],
   "source": [
    "#Loading the dataset\n",
    "df = pd.read_csv('/kaggle/input/telco-customer-churn/WA_Fn-UseC_-Telco-Customer-Churn.csv')"
   ]
  },
  {
   "cell_type": "code",
   "execution_count": 4,
   "id": "d354e6c1",
   "metadata": {
    "execution": {
     "iopub.execute_input": "2024-12-18T09:56:07.899800Z",
     "iopub.status.busy": "2024-12-18T09:56:07.899376Z",
     "iopub.status.idle": "2024-12-18T09:56:07.938855Z",
     "shell.execute_reply": "2024-12-18T09:56:07.937812Z"
    },
    "papermill": {
     "duration": 0.06572,
     "end_time": "2024-12-18T09:56:07.941326",
     "exception": false,
     "start_time": "2024-12-18T09:56:07.875606",
     "status": "completed"
    },
    "tags": []
   },
   "outputs": [
    {
     "data": {
      "text/html": [
       "<div>\n",
       "<style scoped>\n",
       "    .dataframe tbody tr th:only-of-type {\n",
       "        vertical-align: middle;\n",
       "    }\n",
       "\n",
       "    .dataframe tbody tr th {\n",
       "        vertical-align: top;\n",
       "    }\n",
       "\n",
       "    .dataframe thead th {\n",
       "        text-align: right;\n",
       "    }\n",
       "</style>\n",
       "<table border=\"1\" class=\"dataframe\">\n",
       "  <thead>\n",
       "    <tr style=\"text-align: right;\">\n",
       "      <th></th>\n",
       "      <th>customerID</th>\n",
       "      <th>gender</th>\n",
       "      <th>SeniorCitizen</th>\n",
       "      <th>Partner</th>\n",
       "      <th>Dependents</th>\n",
       "      <th>tenure</th>\n",
       "      <th>PhoneService</th>\n",
       "      <th>MultipleLines</th>\n",
       "      <th>InternetService</th>\n",
       "      <th>OnlineSecurity</th>\n",
       "      <th>...</th>\n",
       "      <th>DeviceProtection</th>\n",
       "      <th>TechSupport</th>\n",
       "      <th>StreamingTV</th>\n",
       "      <th>StreamingMovies</th>\n",
       "      <th>Contract</th>\n",
       "      <th>PaperlessBilling</th>\n",
       "      <th>PaymentMethod</th>\n",
       "      <th>MonthlyCharges</th>\n",
       "      <th>TotalCharges</th>\n",
       "      <th>Churn</th>\n",
       "    </tr>\n",
       "  </thead>\n",
       "  <tbody>\n",
       "    <tr>\n",
       "      <th>0</th>\n",
       "      <td>7590-VHVEG</td>\n",
       "      <td>Female</td>\n",
       "      <td>0</td>\n",
       "      <td>Yes</td>\n",
       "      <td>No</td>\n",
       "      <td>1</td>\n",
       "      <td>No</td>\n",
       "      <td>No phone service</td>\n",
       "      <td>DSL</td>\n",
       "      <td>No</td>\n",
       "      <td>...</td>\n",
       "      <td>No</td>\n",
       "      <td>No</td>\n",
       "      <td>No</td>\n",
       "      <td>No</td>\n",
       "      <td>Month-to-month</td>\n",
       "      <td>Yes</td>\n",
       "      <td>Electronic check</td>\n",
       "      <td>29.85</td>\n",
       "      <td>29.85</td>\n",
       "      <td>No</td>\n",
       "    </tr>\n",
       "    <tr>\n",
       "      <th>1</th>\n",
       "      <td>5575-GNVDE</td>\n",
       "      <td>Male</td>\n",
       "      <td>0</td>\n",
       "      <td>No</td>\n",
       "      <td>No</td>\n",
       "      <td>34</td>\n",
       "      <td>Yes</td>\n",
       "      <td>No</td>\n",
       "      <td>DSL</td>\n",
       "      <td>Yes</td>\n",
       "      <td>...</td>\n",
       "      <td>Yes</td>\n",
       "      <td>No</td>\n",
       "      <td>No</td>\n",
       "      <td>No</td>\n",
       "      <td>One year</td>\n",
       "      <td>No</td>\n",
       "      <td>Mailed check</td>\n",
       "      <td>56.95</td>\n",
       "      <td>1889.5</td>\n",
       "      <td>No</td>\n",
       "    </tr>\n",
       "    <tr>\n",
       "      <th>2</th>\n",
       "      <td>3668-QPYBK</td>\n",
       "      <td>Male</td>\n",
       "      <td>0</td>\n",
       "      <td>No</td>\n",
       "      <td>No</td>\n",
       "      <td>2</td>\n",
       "      <td>Yes</td>\n",
       "      <td>No</td>\n",
       "      <td>DSL</td>\n",
       "      <td>Yes</td>\n",
       "      <td>...</td>\n",
       "      <td>No</td>\n",
       "      <td>No</td>\n",
       "      <td>No</td>\n",
       "      <td>No</td>\n",
       "      <td>Month-to-month</td>\n",
       "      <td>Yes</td>\n",
       "      <td>Mailed check</td>\n",
       "      <td>53.85</td>\n",
       "      <td>108.15</td>\n",
       "      <td>Yes</td>\n",
       "    </tr>\n",
       "    <tr>\n",
       "      <th>3</th>\n",
       "      <td>7795-CFOCW</td>\n",
       "      <td>Male</td>\n",
       "      <td>0</td>\n",
       "      <td>No</td>\n",
       "      <td>No</td>\n",
       "      <td>45</td>\n",
       "      <td>No</td>\n",
       "      <td>No phone service</td>\n",
       "      <td>DSL</td>\n",
       "      <td>Yes</td>\n",
       "      <td>...</td>\n",
       "      <td>Yes</td>\n",
       "      <td>Yes</td>\n",
       "      <td>No</td>\n",
       "      <td>No</td>\n",
       "      <td>One year</td>\n",
       "      <td>No</td>\n",
       "      <td>Bank transfer (automatic)</td>\n",
       "      <td>42.30</td>\n",
       "      <td>1840.75</td>\n",
       "      <td>No</td>\n",
       "    </tr>\n",
       "    <tr>\n",
       "      <th>4</th>\n",
       "      <td>9237-HQITU</td>\n",
       "      <td>Female</td>\n",
       "      <td>0</td>\n",
       "      <td>No</td>\n",
       "      <td>No</td>\n",
       "      <td>2</td>\n",
       "      <td>Yes</td>\n",
       "      <td>No</td>\n",
       "      <td>Fiber optic</td>\n",
       "      <td>No</td>\n",
       "      <td>...</td>\n",
       "      <td>No</td>\n",
       "      <td>No</td>\n",
       "      <td>No</td>\n",
       "      <td>No</td>\n",
       "      <td>Month-to-month</td>\n",
       "      <td>Yes</td>\n",
       "      <td>Electronic check</td>\n",
       "      <td>70.70</td>\n",
       "      <td>151.65</td>\n",
       "      <td>Yes</td>\n",
       "    </tr>\n",
       "  </tbody>\n",
       "</table>\n",
       "<p>5 rows × 21 columns</p>\n",
       "</div>"
      ],
      "text/plain": [
       "   customerID  gender  SeniorCitizen Partner Dependents  tenure PhoneService  \\\n",
       "0  7590-VHVEG  Female              0     Yes         No       1           No   \n",
       "1  5575-GNVDE    Male              0      No         No      34          Yes   \n",
       "2  3668-QPYBK    Male              0      No         No       2          Yes   \n",
       "3  7795-CFOCW    Male              0      No         No      45           No   \n",
       "4  9237-HQITU  Female              0      No         No       2          Yes   \n",
       "\n",
       "      MultipleLines InternetService OnlineSecurity  ... DeviceProtection  \\\n",
       "0  No phone service             DSL             No  ...               No   \n",
       "1                No             DSL            Yes  ...              Yes   \n",
       "2                No             DSL            Yes  ...               No   \n",
       "3  No phone service             DSL            Yes  ...              Yes   \n",
       "4                No     Fiber optic             No  ...               No   \n",
       "\n",
       "  TechSupport StreamingTV StreamingMovies        Contract PaperlessBilling  \\\n",
       "0          No          No              No  Month-to-month              Yes   \n",
       "1          No          No              No        One year               No   \n",
       "2          No          No              No  Month-to-month              Yes   \n",
       "3         Yes          No              No        One year               No   \n",
       "4          No          No              No  Month-to-month              Yes   \n",
       "\n",
       "               PaymentMethod MonthlyCharges  TotalCharges Churn  \n",
       "0           Electronic check          29.85         29.85    No  \n",
       "1               Mailed check          56.95        1889.5    No  \n",
       "2               Mailed check          53.85        108.15   Yes  \n",
       "3  Bank transfer (automatic)          42.30       1840.75    No  \n",
       "4           Electronic check          70.70        151.65   Yes  \n",
       "\n",
       "[5 rows x 21 columns]"
      ]
     },
     "execution_count": 4,
     "metadata": {},
     "output_type": "execute_result"
    }
   ],
   "source": [
    "df.head()"
   ]
  },
  {
   "cell_type": "code",
   "execution_count": 5,
   "id": "de4f5888",
   "metadata": {
    "execution": {
     "iopub.execute_input": "2024-12-18T09:56:07.990362Z",
     "iopub.status.busy": "2024-12-18T09:56:07.989529Z",
     "iopub.status.idle": "2024-12-18T09:56:07.996091Z",
     "shell.execute_reply": "2024-12-18T09:56:07.995156Z"
    },
    "papermill": {
     "duration": 0.033486,
     "end_time": "2024-12-18T09:56:07.998128",
     "exception": false,
     "start_time": "2024-12-18T09:56:07.964642",
     "status": "completed"
    },
    "tags": []
   },
   "outputs": [
    {
     "data": {
      "text/plain": [
       "(7043, 21)"
      ]
     },
     "execution_count": 5,
     "metadata": {},
     "output_type": "execute_result"
    }
   ],
   "source": [
    "df.shape"
   ]
  },
  {
   "cell_type": "code",
   "execution_count": 6,
   "id": "92b1f297",
   "metadata": {
    "execution": {
     "iopub.execute_input": "2024-12-18T09:56:08.045183Z",
     "iopub.status.busy": "2024-12-18T09:56:08.044824Z",
     "iopub.status.idle": "2024-12-18T09:56:08.075504Z",
     "shell.execute_reply": "2024-12-18T09:56:08.074435Z"
    },
    "papermill": {
     "duration": 0.057131,
     "end_time": "2024-12-18T09:56:08.077894",
     "exception": false,
     "start_time": "2024-12-18T09:56:08.020763",
     "status": "completed"
    },
    "tags": []
   },
   "outputs": [
    {
     "name": "stdout",
     "output_type": "stream",
     "text": [
      "<class 'pandas.core.frame.DataFrame'>\n",
      "RangeIndex: 7043 entries, 0 to 7042\n",
      "Data columns (total 21 columns):\n",
      " #   Column            Non-Null Count  Dtype  \n",
      "---  ------            --------------  -----  \n",
      " 0   customerID        7043 non-null   object \n",
      " 1   gender            7043 non-null   object \n",
      " 2   SeniorCitizen     7043 non-null   int64  \n",
      " 3   Partner           7043 non-null   object \n",
      " 4   Dependents        7043 non-null   object \n",
      " 5   tenure            7043 non-null   int64  \n",
      " 6   PhoneService      7043 non-null   object \n",
      " 7   MultipleLines     7043 non-null   object \n",
      " 8   InternetService   7043 non-null   object \n",
      " 9   OnlineSecurity    7043 non-null   object \n",
      " 10  OnlineBackup      7043 non-null   object \n",
      " 11  DeviceProtection  7043 non-null   object \n",
      " 12  TechSupport       7043 non-null   object \n",
      " 13  StreamingTV       7043 non-null   object \n",
      " 14  StreamingMovies   7043 non-null   object \n",
      " 15  Contract          7043 non-null   object \n",
      " 16  PaperlessBilling  7043 non-null   object \n",
      " 17  PaymentMethod     7043 non-null   object \n",
      " 18  MonthlyCharges    7043 non-null   float64\n",
      " 19  TotalCharges      7043 non-null   object \n",
      " 20  Churn             7043 non-null   object \n",
      "dtypes: float64(1), int64(2), object(18)\n",
      "memory usage: 1.1+ MB\n"
     ]
    }
   ],
   "source": [
    "df.info()"
   ]
  },
  {
   "cell_type": "code",
   "execution_count": 7,
   "id": "ee066c8f",
   "metadata": {
    "execution": {
     "iopub.execute_input": "2024-12-18T09:56:08.125924Z",
     "iopub.status.busy": "2024-12-18T09:56:08.125533Z",
     "iopub.status.idle": "2024-12-18T09:56:08.134439Z",
     "shell.execute_reply": "2024-12-18T09:56:08.133201Z"
    },
    "papermill": {
     "duration": 0.035401,
     "end_time": "2024-12-18T09:56:08.136554",
     "exception": false,
     "start_time": "2024-12-18T09:56:08.101153",
     "status": "completed"
    },
    "tags": []
   },
   "outputs": [],
   "source": [
    "# Converting the 'TotalCharges' column to numeric data type\n",
    "# Any errors during conversion (e.g., non-numeric values) will be set to NaN.\n",
    "df[\"TotalCharges\"] = pd.to_numeric(df[\"TotalCharges\"], errors='coerce')"
   ]
  },
  {
   "cell_type": "code",
   "execution_count": 8,
   "id": "4dc90b95",
   "metadata": {
    "execution": {
     "iopub.execute_input": "2024-12-18T09:56:08.183662Z",
     "iopub.status.busy": "2024-12-18T09:56:08.183252Z",
     "iopub.status.idle": "2024-12-18T09:56:08.201237Z",
     "shell.execute_reply": "2024-12-18T09:56:08.200083Z"
    },
    "papermill": {
     "duration": 0.044303,
     "end_time": "2024-12-18T09:56:08.203589",
     "exception": false,
     "start_time": "2024-12-18T09:56:08.159286",
     "status": "completed"
    },
    "tags": []
   },
   "outputs": [
    {
     "name": "stdout",
     "output_type": "stream",
     "text": [
      "<class 'pandas.core.frame.DataFrame'>\n",
      "RangeIndex: 7043 entries, 0 to 7042\n",
      "Data columns (total 21 columns):\n",
      " #   Column            Non-Null Count  Dtype  \n",
      "---  ------            --------------  -----  \n",
      " 0   customerID        7043 non-null   object \n",
      " 1   gender            7043 non-null   object \n",
      " 2   SeniorCitizen     7043 non-null   int64  \n",
      " 3   Partner           7043 non-null   object \n",
      " 4   Dependents        7043 non-null   object \n",
      " 5   tenure            7043 non-null   int64  \n",
      " 6   PhoneService      7043 non-null   object \n",
      " 7   MultipleLines     7043 non-null   object \n",
      " 8   InternetService   7043 non-null   object \n",
      " 9   OnlineSecurity    7043 non-null   object \n",
      " 10  OnlineBackup      7043 non-null   object \n",
      " 11  DeviceProtection  7043 non-null   object \n",
      " 12  TechSupport       7043 non-null   object \n",
      " 13  StreamingTV       7043 non-null   object \n",
      " 14  StreamingMovies   7043 non-null   object \n",
      " 15  Contract          7043 non-null   object \n",
      " 16  PaperlessBilling  7043 non-null   object \n",
      " 17  PaymentMethod     7043 non-null   object \n",
      " 18  MonthlyCharges    7043 non-null   float64\n",
      " 19  TotalCharges      7032 non-null   float64\n",
      " 20  Churn             7043 non-null   object \n",
      "dtypes: float64(2), int64(2), object(17)\n",
      "memory usage: 1.1+ MB\n"
     ]
    }
   ],
   "source": [
    "df.info()"
   ]
  },
  {
   "cell_type": "code",
   "execution_count": 9,
   "id": "331ffd91",
   "metadata": {
    "execution": {
     "iopub.execute_input": "2024-12-18T09:56:08.254765Z",
     "iopub.status.busy": "2024-12-18T09:56:08.253459Z",
     "iopub.status.idle": "2024-12-18T09:56:08.267054Z",
     "shell.execute_reply": "2024-12-18T09:56:08.265739Z"
    },
    "papermill": {
     "duration": 0.042109,
     "end_time": "2024-12-18T09:56:08.269215",
     "exception": false,
     "start_time": "2024-12-18T09:56:08.227106",
     "status": "completed"
    },
    "tags": []
   },
   "outputs": [],
   "source": [
    "# Converting 'Churn' column values to binary (1 for 'Yes', 0 for 'No')\n",
    "# This is useful for classification tasks where the target variable should be numeric.\n",
    "df[\"Churn\"] = df[\"Churn\"].apply(lambda x : 1 if x == \"Yes\" else 0)"
   ]
  },
  {
   "cell_type": "markdown",
   "id": "cfe447ef",
   "metadata": {
    "papermill": {
     "duration": 0.024253,
     "end_time": "2024-12-18T09:56:08.317433",
     "exception": false,
     "start_time": "2024-12-18T09:56:08.293180",
     "status": "completed"
    },
    "tags": []
   },
   "source": [
    "## Exploratory Data Analysis (EDA)"
   ]
  },
  {
   "cell_type": "markdown",
   "id": "09429d09",
   "metadata": {
    "papermill": {
     "duration": 0.022731,
     "end_time": "2024-12-18T09:56:08.363572",
     "exception": false,
     "start_time": "2024-12-18T09:56:08.340841",
     "status": "completed"
    },
    "tags": []
   },
   "source": [
    "**Exploratory Data Analysis (EDA)** is a process used to analyze and summarize the main characteristics of a dataset, usually with visual methods, before applying complex models.\n",
    "\n",
    "**Key Steps in EDA**:\n",
    "1. **Data Cleaning**: Handling missing values, errors, and duplicates.\n",
    "2. **Descriptive Statistics**: Using measures like mean, median, and standard deviation to understand data distribution.\n",
    "3. **Data Visualization**: Creating plots (e.g., histograms, boxplots, scatter plots) to visually explore the data.\n",
    "4. **Correlation Analysis**: Checking relationships between variables using correlation coefficients.\n",
    "5. **Outlier Detection**: Identifying unusual data points that may affect analysis.\n",
    "6. **Feature Engineering**: Creating new features to improve analysis\n",
    "\n",
    "**Goals of EDA:**\n",
    "- Understand the data: Discover patterns and distributions.\n",
    "- Identify outliers: Find unusual data points.\n",
    "- Test assumptions: Ensure data meets the assumptions needed for modeling.\n",
    "- Generate hypotheses: Identify relationships for further analysis.\n",
    "EDA is crucial for getting a good understanding of the data before moving to more advanced analysis."
   ]
  },
  {
   "cell_type": "code",
   "execution_count": 10,
   "id": "fa80aee8",
   "metadata": {
    "execution": {
     "iopub.execute_input": "2024-12-18T09:56:08.412850Z",
     "iopub.status.busy": "2024-12-18T09:56:08.411851Z",
     "iopub.status.idle": "2024-12-18T09:56:08.439089Z",
     "shell.execute_reply": "2024-12-18T09:56:08.437702Z"
    },
    "papermill": {
     "duration": 0.055456,
     "end_time": "2024-12-18T09:56:08.442056",
     "exception": false,
     "start_time": "2024-12-18T09:56:08.386600",
     "status": "completed"
    },
    "tags": []
   },
   "outputs": [
    {
     "data": {
      "text/html": [
       "<div>\n",
       "<style scoped>\n",
       "    .dataframe tbody tr th:only-of-type {\n",
       "        vertical-align: middle;\n",
       "    }\n",
       "\n",
       "    .dataframe tbody tr th {\n",
       "        vertical-align: top;\n",
       "    }\n",
       "\n",
       "    .dataframe thead th {\n",
       "        text-align: right;\n",
       "    }\n",
       "</style>\n",
       "<table border=\"1\" class=\"dataframe\">\n",
       "  <thead>\n",
       "    <tr style=\"text-align: right;\">\n",
       "      <th></th>\n",
       "      <th>customerID</th>\n",
       "      <th>gender</th>\n",
       "      <th>SeniorCitizen</th>\n",
       "      <th>Partner</th>\n",
       "      <th>Dependents</th>\n",
       "      <th>tenure</th>\n",
       "      <th>PhoneService</th>\n",
       "      <th>MultipleLines</th>\n",
       "      <th>InternetService</th>\n",
       "      <th>OnlineSecurity</th>\n",
       "      <th>...</th>\n",
       "      <th>DeviceProtection</th>\n",
       "      <th>TechSupport</th>\n",
       "      <th>StreamingTV</th>\n",
       "      <th>StreamingMovies</th>\n",
       "      <th>Contract</th>\n",
       "      <th>PaperlessBilling</th>\n",
       "      <th>PaymentMethod</th>\n",
       "      <th>MonthlyCharges</th>\n",
       "      <th>TotalCharges</th>\n",
       "      <th>Churn</th>\n",
       "    </tr>\n",
       "  </thead>\n",
       "  <tbody>\n",
       "    <tr>\n",
       "      <th>0</th>\n",
       "      <td>7590-VHVEG</td>\n",
       "      <td>Female</td>\n",
       "      <td>0</td>\n",
       "      <td>Yes</td>\n",
       "      <td>No</td>\n",
       "      <td>1</td>\n",
       "      <td>No</td>\n",
       "      <td>No phone service</td>\n",
       "      <td>DSL</td>\n",
       "      <td>No</td>\n",
       "      <td>...</td>\n",
       "      <td>No</td>\n",
       "      <td>No</td>\n",
       "      <td>No</td>\n",
       "      <td>No</td>\n",
       "      <td>Month-to-month</td>\n",
       "      <td>Yes</td>\n",
       "      <td>Electronic check</td>\n",
       "      <td>29.85</td>\n",
       "      <td>29.85</td>\n",
       "      <td>0</td>\n",
       "    </tr>\n",
       "    <tr>\n",
       "      <th>1</th>\n",
       "      <td>5575-GNVDE</td>\n",
       "      <td>Male</td>\n",
       "      <td>0</td>\n",
       "      <td>No</td>\n",
       "      <td>No</td>\n",
       "      <td>34</td>\n",
       "      <td>Yes</td>\n",
       "      <td>No</td>\n",
       "      <td>DSL</td>\n",
       "      <td>Yes</td>\n",
       "      <td>...</td>\n",
       "      <td>Yes</td>\n",
       "      <td>No</td>\n",
       "      <td>No</td>\n",
       "      <td>No</td>\n",
       "      <td>One year</td>\n",
       "      <td>No</td>\n",
       "      <td>Mailed check</td>\n",
       "      <td>56.95</td>\n",
       "      <td>1889.50</td>\n",
       "      <td>0</td>\n",
       "    </tr>\n",
       "    <tr>\n",
       "      <th>2</th>\n",
       "      <td>3668-QPYBK</td>\n",
       "      <td>Male</td>\n",
       "      <td>0</td>\n",
       "      <td>No</td>\n",
       "      <td>No</td>\n",
       "      <td>2</td>\n",
       "      <td>Yes</td>\n",
       "      <td>No</td>\n",
       "      <td>DSL</td>\n",
       "      <td>Yes</td>\n",
       "      <td>...</td>\n",
       "      <td>No</td>\n",
       "      <td>No</td>\n",
       "      <td>No</td>\n",
       "      <td>No</td>\n",
       "      <td>Month-to-month</td>\n",
       "      <td>Yes</td>\n",
       "      <td>Mailed check</td>\n",
       "      <td>53.85</td>\n",
       "      <td>108.15</td>\n",
       "      <td>1</td>\n",
       "    </tr>\n",
       "    <tr>\n",
       "      <th>3</th>\n",
       "      <td>7795-CFOCW</td>\n",
       "      <td>Male</td>\n",
       "      <td>0</td>\n",
       "      <td>No</td>\n",
       "      <td>No</td>\n",
       "      <td>45</td>\n",
       "      <td>No</td>\n",
       "      <td>No phone service</td>\n",
       "      <td>DSL</td>\n",
       "      <td>Yes</td>\n",
       "      <td>...</td>\n",
       "      <td>Yes</td>\n",
       "      <td>Yes</td>\n",
       "      <td>No</td>\n",
       "      <td>No</td>\n",
       "      <td>One year</td>\n",
       "      <td>No</td>\n",
       "      <td>Bank transfer (automatic)</td>\n",
       "      <td>42.30</td>\n",
       "      <td>1840.75</td>\n",
       "      <td>0</td>\n",
       "    </tr>\n",
       "    <tr>\n",
       "      <th>4</th>\n",
       "      <td>9237-HQITU</td>\n",
       "      <td>Female</td>\n",
       "      <td>0</td>\n",
       "      <td>No</td>\n",
       "      <td>No</td>\n",
       "      <td>2</td>\n",
       "      <td>Yes</td>\n",
       "      <td>No</td>\n",
       "      <td>Fiber optic</td>\n",
       "      <td>No</td>\n",
       "      <td>...</td>\n",
       "      <td>No</td>\n",
       "      <td>No</td>\n",
       "      <td>No</td>\n",
       "      <td>No</td>\n",
       "      <td>Month-to-month</td>\n",
       "      <td>Yes</td>\n",
       "      <td>Electronic check</td>\n",
       "      <td>70.70</td>\n",
       "      <td>151.65</td>\n",
       "      <td>1</td>\n",
       "    </tr>\n",
       "  </tbody>\n",
       "</table>\n",
       "<p>5 rows × 21 columns</p>\n",
       "</div>"
      ],
      "text/plain": [
       "   customerID  gender  SeniorCitizen Partner Dependents  tenure PhoneService  \\\n",
       "0  7590-VHVEG  Female              0     Yes         No       1           No   \n",
       "1  5575-GNVDE    Male              0      No         No      34          Yes   \n",
       "2  3668-QPYBK    Male              0      No         No       2          Yes   \n",
       "3  7795-CFOCW    Male              0      No         No      45           No   \n",
       "4  9237-HQITU  Female              0      No         No       2          Yes   \n",
       "\n",
       "      MultipleLines InternetService OnlineSecurity  ... DeviceProtection  \\\n",
       "0  No phone service             DSL             No  ...               No   \n",
       "1                No             DSL            Yes  ...              Yes   \n",
       "2                No             DSL            Yes  ...               No   \n",
       "3  No phone service             DSL            Yes  ...              Yes   \n",
       "4                No     Fiber optic             No  ...               No   \n",
       "\n",
       "  TechSupport StreamingTV StreamingMovies        Contract PaperlessBilling  \\\n",
       "0          No          No              No  Month-to-month              Yes   \n",
       "1          No          No              No        One year               No   \n",
       "2          No          No              No  Month-to-month              Yes   \n",
       "3         Yes          No              No        One year               No   \n",
       "4          No          No              No  Month-to-month              Yes   \n",
       "\n",
       "               PaymentMethod MonthlyCharges  TotalCharges  Churn  \n",
       "0           Electronic check          29.85         29.85      0  \n",
       "1               Mailed check          56.95       1889.50      0  \n",
       "2               Mailed check          53.85        108.15      1  \n",
       "3  Bank transfer (automatic)          42.30       1840.75      0  \n",
       "4           Electronic check          70.70        151.65      1  \n",
       "\n",
       "[5 rows x 21 columns]"
      ]
     },
     "execution_count": 10,
     "metadata": {},
     "output_type": "execute_result"
    }
   ],
   "source": [
    "#Print the first 5 rows of the dataframe.\n",
    "df.head()"
   ]
  },
  {
   "cell_type": "code",
   "execution_count": 11,
   "id": "8b855a66",
   "metadata": {
    "execution": {
     "iopub.execute_input": "2024-12-18T09:56:08.509541Z",
     "iopub.status.busy": "2024-12-18T09:56:08.508566Z",
     "iopub.status.idle": "2024-12-18T09:56:08.515472Z",
     "shell.execute_reply": "2024-12-18T09:56:08.514398Z"
    },
    "papermill": {
     "duration": 0.042087,
     "end_time": "2024-12-18T09:56:08.517558",
     "exception": false,
     "start_time": "2024-12-18T09:56:08.475471",
     "status": "completed"
    },
    "tags": []
   },
   "outputs": [
    {
     "data": {
      "text/plain": [
       "(7043, 21)"
      ]
     },
     "execution_count": 11,
     "metadata": {},
     "output_type": "execute_result"
    }
   ],
   "source": [
    "df.shape # Shape"
   ]
  },
  {
   "cell_type": "code",
   "execution_count": 12,
   "id": "957a57d9",
   "metadata": {
    "execution": {
     "iopub.execute_input": "2024-12-18T09:56:08.566439Z",
     "iopub.status.busy": "2024-12-18T09:56:08.565806Z",
     "iopub.status.idle": "2024-12-18T09:56:08.573975Z",
     "shell.execute_reply": "2024-12-18T09:56:08.572982Z"
    },
    "papermill": {
     "duration": 0.034778,
     "end_time": "2024-12-18T09:56:08.576003",
     "exception": false,
     "start_time": "2024-12-18T09:56:08.541225",
     "status": "completed"
    },
    "tags": []
   },
   "outputs": [
    {
     "data": {
      "text/plain": [
       "customerID           object\n",
       "gender               object\n",
       "SeniorCitizen         int64\n",
       "Partner              object\n",
       "Dependents           object\n",
       "tenure                int64\n",
       "PhoneService         object\n",
       "MultipleLines        object\n",
       "InternetService      object\n",
       "OnlineSecurity       object\n",
       "OnlineBackup         object\n",
       "DeviceProtection     object\n",
       "TechSupport          object\n",
       "StreamingTV          object\n",
       "StreamingMovies      object\n",
       "Contract             object\n",
       "PaperlessBilling     object\n",
       "PaymentMethod        object\n",
       "MonthlyCharges      float64\n",
       "TotalCharges        float64\n",
       "Churn                 int64\n",
       "dtype: object"
      ]
     },
     "execution_count": 12,
     "metadata": {},
     "output_type": "execute_result"
    }
   ],
   "source": [
    "df.dtypes # Types"
   ]
  },
  {
   "cell_type": "code",
   "execution_count": 13,
   "id": "3ea8c348",
   "metadata": {
    "execution": {
     "iopub.execute_input": "2024-12-18T09:56:08.624882Z",
     "iopub.status.busy": "2024-12-18T09:56:08.624476Z",
     "iopub.status.idle": "2024-12-18T09:56:08.645809Z",
     "shell.execute_reply": "2024-12-18T09:56:08.644754Z"
    },
    "papermill": {
     "duration": 0.048559,
     "end_time": "2024-12-18T09:56:08.648029",
     "exception": false,
     "start_time": "2024-12-18T09:56:08.599470",
     "status": "completed"
    },
    "tags": []
   },
   "outputs": [
    {
     "data": {
      "text/html": [
       "<div>\n",
       "<style scoped>\n",
       "    .dataframe tbody tr th:only-of-type {\n",
       "        vertical-align: middle;\n",
       "    }\n",
       "\n",
       "    .dataframe tbody tr th {\n",
       "        vertical-align: top;\n",
       "    }\n",
       "\n",
       "    .dataframe thead th {\n",
       "        text-align: right;\n",
       "    }\n",
       "</style>\n",
       "<table border=\"1\" class=\"dataframe\">\n",
       "  <thead>\n",
       "    <tr style=\"text-align: right;\">\n",
       "      <th></th>\n",
       "      <th>customerID</th>\n",
       "      <th>gender</th>\n",
       "      <th>SeniorCitizen</th>\n",
       "      <th>Partner</th>\n",
       "      <th>Dependents</th>\n",
       "      <th>tenure</th>\n",
       "      <th>PhoneService</th>\n",
       "      <th>MultipleLines</th>\n",
       "      <th>InternetService</th>\n",
       "      <th>OnlineSecurity</th>\n",
       "      <th>...</th>\n",
       "      <th>DeviceProtection</th>\n",
       "      <th>TechSupport</th>\n",
       "      <th>StreamingTV</th>\n",
       "      <th>StreamingMovies</th>\n",
       "      <th>Contract</th>\n",
       "      <th>PaperlessBilling</th>\n",
       "      <th>PaymentMethod</th>\n",
       "      <th>MonthlyCharges</th>\n",
       "      <th>TotalCharges</th>\n",
       "      <th>Churn</th>\n",
       "    </tr>\n",
       "  </thead>\n",
       "  <tbody>\n",
       "    <tr>\n",
       "      <th>0</th>\n",
       "      <td>7590-VHVEG</td>\n",
       "      <td>Female</td>\n",
       "      <td>0</td>\n",
       "      <td>Yes</td>\n",
       "      <td>No</td>\n",
       "      <td>1</td>\n",
       "      <td>No</td>\n",
       "      <td>No phone service</td>\n",
       "      <td>DSL</td>\n",
       "      <td>No</td>\n",
       "      <td>...</td>\n",
       "      <td>No</td>\n",
       "      <td>No</td>\n",
       "      <td>No</td>\n",
       "      <td>No</td>\n",
       "      <td>Month-to-month</td>\n",
       "      <td>Yes</td>\n",
       "      <td>Electronic check</td>\n",
       "      <td>29.85</td>\n",
       "      <td>29.85</td>\n",
       "      <td>0</td>\n",
       "    </tr>\n",
       "    <tr>\n",
       "      <th>1</th>\n",
       "      <td>5575-GNVDE</td>\n",
       "      <td>Male</td>\n",
       "      <td>0</td>\n",
       "      <td>No</td>\n",
       "      <td>No</td>\n",
       "      <td>34</td>\n",
       "      <td>Yes</td>\n",
       "      <td>No</td>\n",
       "      <td>DSL</td>\n",
       "      <td>Yes</td>\n",
       "      <td>...</td>\n",
       "      <td>Yes</td>\n",
       "      <td>No</td>\n",
       "      <td>No</td>\n",
       "      <td>No</td>\n",
       "      <td>One year</td>\n",
       "      <td>No</td>\n",
       "      <td>Mailed check</td>\n",
       "      <td>56.95</td>\n",
       "      <td>1889.50</td>\n",
       "      <td>0</td>\n",
       "    </tr>\n",
       "    <tr>\n",
       "      <th>2</th>\n",
       "      <td>3668-QPYBK</td>\n",
       "      <td>Male</td>\n",
       "      <td>0</td>\n",
       "      <td>No</td>\n",
       "      <td>No</td>\n",
       "      <td>2</td>\n",
       "      <td>Yes</td>\n",
       "      <td>No</td>\n",
       "      <td>DSL</td>\n",
       "      <td>Yes</td>\n",
       "      <td>...</td>\n",
       "      <td>No</td>\n",
       "      <td>No</td>\n",
       "      <td>No</td>\n",
       "      <td>No</td>\n",
       "      <td>Month-to-month</td>\n",
       "      <td>Yes</td>\n",
       "      <td>Mailed check</td>\n",
       "      <td>53.85</td>\n",
       "      <td>108.15</td>\n",
       "      <td>1</td>\n",
       "    </tr>\n",
       "    <tr>\n",
       "      <th>3</th>\n",
       "      <td>7795-CFOCW</td>\n",
       "      <td>Male</td>\n",
       "      <td>0</td>\n",
       "      <td>No</td>\n",
       "      <td>No</td>\n",
       "      <td>45</td>\n",
       "      <td>No</td>\n",
       "      <td>No phone service</td>\n",
       "      <td>DSL</td>\n",
       "      <td>Yes</td>\n",
       "      <td>...</td>\n",
       "      <td>Yes</td>\n",
       "      <td>Yes</td>\n",
       "      <td>No</td>\n",
       "      <td>No</td>\n",
       "      <td>One year</td>\n",
       "      <td>No</td>\n",
       "      <td>Bank transfer (automatic)</td>\n",
       "      <td>42.30</td>\n",
       "      <td>1840.75</td>\n",
       "      <td>0</td>\n",
       "    </tr>\n",
       "    <tr>\n",
       "      <th>4</th>\n",
       "      <td>9237-HQITU</td>\n",
       "      <td>Female</td>\n",
       "      <td>0</td>\n",
       "      <td>No</td>\n",
       "      <td>No</td>\n",
       "      <td>2</td>\n",
       "      <td>Yes</td>\n",
       "      <td>No</td>\n",
       "      <td>Fiber optic</td>\n",
       "      <td>No</td>\n",
       "      <td>...</td>\n",
       "      <td>No</td>\n",
       "      <td>No</td>\n",
       "      <td>No</td>\n",
       "      <td>No</td>\n",
       "      <td>Month-to-month</td>\n",
       "      <td>Yes</td>\n",
       "      <td>Electronic check</td>\n",
       "      <td>70.70</td>\n",
       "      <td>151.65</td>\n",
       "      <td>1</td>\n",
       "    </tr>\n",
       "  </tbody>\n",
       "</table>\n",
       "<p>5 rows × 21 columns</p>\n",
       "</div>"
      ],
      "text/plain": [
       "   customerID  gender  SeniorCitizen Partner Dependents  tenure PhoneService  \\\n",
       "0  7590-VHVEG  Female              0     Yes         No       1           No   \n",
       "1  5575-GNVDE    Male              0      No         No      34          Yes   \n",
       "2  3668-QPYBK    Male              0      No         No       2          Yes   \n",
       "3  7795-CFOCW    Male              0      No         No      45           No   \n",
       "4  9237-HQITU  Female              0      No         No       2          Yes   \n",
       "\n",
       "      MultipleLines InternetService OnlineSecurity  ... DeviceProtection  \\\n",
       "0  No phone service             DSL             No  ...               No   \n",
       "1                No             DSL            Yes  ...              Yes   \n",
       "2                No             DSL            Yes  ...               No   \n",
       "3  No phone service             DSL            Yes  ...              Yes   \n",
       "4                No     Fiber optic             No  ...               No   \n",
       "\n",
       "  TechSupport StreamingTV StreamingMovies        Contract PaperlessBilling  \\\n",
       "0          No          No              No  Month-to-month              Yes   \n",
       "1          No          No              No        One year               No   \n",
       "2          No          No              No  Month-to-month              Yes   \n",
       "3         Yes          No              No        One year               No   \n",
       "4          No          No              No  Month-to-month              Yes   \n",
       "\n",
       "               PaymentMethod MonthlyCharges  TotalCharges  Churn  \n",
       "0           Electronic check          29.85         29.85      0  \n",
       "1               Mailed check          56.95       1889.50      0  \n",
       "2               Mailed check          53.85        108.15      1  \n",
       "3  Bank transfer (automatic)          42.30       1840.75      0  \n",
       "4           Electronic check          70.70        151.65      1  \n",
       "\n",
       "[5 rows x 21 columns]"
      ]
     },
     "execution_count": 13,
     "metadata": {},
     "output_type": "execute_result"
    }
   ],
   "source": [
    "df.head(5) # Head"
   ]
  },
  {
   "cell_type": "code",
   "execution_count": 14,
   "id": "4411c1de",
   "metadata": {
    "execution": {
     "iopub.execute_input": "2024-12-18T09:56:08.697870Z",
     "iopub.status.busy": "2024-12-18T09:56:08.696879Z",
     "iopub.status.idle": "2024-12-18T09:56:08.719087Z",
     "shell.execute_reply": "2024-12-18T09:56:08.718071Z"
    },
    "papermill": {
     "duration": 0.049605,
     "end_time": "2024-12-18T09:56:08.721448",
     "exception": false,
     "start_time": "2024-12-18T09:56:08.671843",
     "status": "completed"
    },
    "tags": []
   },
   "outputs": [
    {
     "data": {
      "text/html": [
       "<div>\n",
       "<style scoped>\n",
       "    .dataframe tbody tr th:only-of-type {\n",
       "        vertical-align: middle;\n",
       "    }\n",
       "\n",
       "    .dataframe tbody tr th {\n",
       "        vertical-align: top;\n",
       "    }\n",
       "\n",
       "    .dataframe thead th {\n",
       "        text-align: right;\n",
       "    }\n",
       "</style>\n",
       "<table border=\"1\" class=\"dataframe\">\n",
       "  <thead>\n",
       "    <tr style=\"text-align: right;\">\n",
       "      <th></th>\n",
       "      <th>customerID</th>\n",
       "      <th>gender</th>\n",
       "      <th>SeniorCitizen</th>\n",
       "      <th>Partner</th>\n",
       "      <th>Dependents</th>\n",
       "      <th>tenure</th>\n",
       "      <th>PhoneService</th>\n",
       "      <th>MultipleLines</th>\n",
       "      <th>InternetService</th>\n",
       "      <th>OnlineSecurity</th>\n",
       "      <th>...</th>\n",
       "      <th>DeviceProtection</th>\n",
       "      <th>TechSupport</th>\n",
       "      <th>StreamingTV</th>\n",
       "      <th>StreamingMovies</th>\n",
       "      <th>Contract</th>\n",
       "      <th>PaperlessBilling</th>\n",
       "      <th>PaymentMethod</th>\n",
       "      <th>MonthlyCharges</th>\n",
       "      <th>TotalCharges</th>\n",
       "      <th>Churn</th>\n",
       "    </tr>\n",
       "  </thead>\n",
       "  <tbody>\n",
       "    <tr>\n",
       "      <th>7038</th>\n",
       "      <td>6840-RESVB</td>\n",
       "      <td>Male</td>\n",
       "      <td>0</td>\n",
       "      <td>Yes</td>\n",
       "      <td>Yes</td>\n",
       "      <td>24</td>\n",
       "      <td>Yes</td>\n",
       "      <td>Yes</td>\n",
       "      <td>DSL</td>\n",
       "      <td>Yes</td>\n",
       "      <td>...</td>\n",
       "      <td>Yes</td>\n",
       "      <td>Yes</td>\n",
       "      <td>Yes</td>\n",
       "      <td>Yes</td>\n",
       "      <td>One year</td>\n",
       "      <td>Yes</td>\n",
       "      <td>Mailed check</td>\n",
       "      <td>84.80</td>\n",
       "      <td>1990.50</td>\n",
       "      <td>0</td>\n",
       "    </tr>\n",
       "    <tr>\n",
       "      <th>7039</th>\n",
       "      <td>2234-XADUH</td>\n",
       "      <td>Female</td>\n",
       "      <td>0</td>\n",
       "      <td>Yes</td>\n",
       "      <td>Yes</td>\n",
       "      <td>72</td>\n",
       "      <td>Yes</td>\n",
       "      <td>Yes</td>\n",
       "      <td>Fiber optic</td>\n",
       "      <td>No</td>\n",
       "      <td>...</td>\n",
       "      <td>Yes</td>\n",
       "      <td>No</td>\n",
       "      <td>Yes</td>\n",
       "      <td>Yes</td>\n",
       "      <td>One year</td>\n",
       "      <td>Yes</td>\n",
       "      <td>Credit card (automatic)</td>\n",
       "      <td>103.20</td>\n",
       "      <td>7362.90</td>\n",
       "      <td>0</td>\n",
       "    </tr>\n",
       "    <tr>\n",
       "      <th>7040</th>\n",
       "      <td>4801-JZAZL</td>\n",
       "      <td>Female</td>\n",
       "      <td>0</td>\n",
       "      <td>Yes</td>\n",
       "      <td>Yes</td>\n",
       "      <td>11</td>\n",
       "      <td>No</td>\n",
       "      <td>No phone service</td>\n",
       "      <td>DSL</td>\n",
       "      <td>Yes</td>\n",
       "      <td>...</td>\n",
       "      <td>No</td>\n",
       "      <td>No</td>\n",
       "      <td>No</td>\n",
       "      <td>No</td>\n",
       "      <td>Month-to-month</td>\n",
       "      <td>Yes</td>\n",
       "      <td>Electronic check</td>\n",
       "      <td>29.60</td>\n",
       "      <td>346.45</td>\n",
       "      <td>0</td>\n",
       "    </tr>\n",
       "    <tr>\n",
       "      <th>7041</th>\n",
       "      <td>8361-LTMKD</td>\n",
       "      <td>Male</td>\n",
       "      <td>1</td>\n",
       "      <td>Yes</td>\n",
       "      <td>No</td>\n",
       "      <td>4</td>\n",
       "      <td>Yes</td>\n",
       "      <td>Yes</td>\n",
       "      <td>Fiber optic</td>\n",
       "      <td>No</td>\n",
       "      <td>...</td>\n",
       "      <td>No</td>\n",
       "      <td>No</td>\n",
       "      <td>No</td>\n",
       "      <td>No</td>\n",
       "      <td>Month-to-month</td>\n",
       "      <td>Yes</td>\n",
       "      <td>Mailed check</td>\n",
       "      <td>74.40</td>\n",
       "      <td>306.60</td>\n",
       "      <td>1</td>\n",
       "    </tr>\n",
       "    <tr>\n",
       "      <th>7042</th>\n",
       "      <td>3186-AJIEK</td>\n",
       "      <td>Male</td>\n",
       "      <td>0</td>\n",
       "      <td>No</td>\n",
       "      <td>No</td>\n",
       "      <td>66</td>\n",
       "      <td>Yes</td>\n",
       "      <td>No</td>\n",
       "      <td>Fiber optic</td>\n",
       "      <td>Yes</td>\n",
       "      <td>...</td>\n",
       "      <td>Yes</td>\n",
       "      <td>Yes</td>\n",
       "      <td>Yes</td>\n",
       "      <td>Yes</td>\n",
       "      <td>Two year</td>\n",
       "      <td>Yes</td>\n",
       "      <td>Bank transfer (automatic)</td>\n",
       "      <td>105.65</td>\n",
       "      <td>6844.50</td>\n",
       "      <td>0</td>\n",
       "    </tr>\n",
       "  </tbody>\n",
       "</table>\n",
       "<p>5 rows × 21 columns</p>\n",
       "</div>"
      ],
      "text/plain": [
       "      customerID  gender  SeniorCitizen Partner Dependents  tenure  \\\n",
       "7038  6840-RESVB    Male              0     Yes        Yes      24   \n",
       "7039  2234-XADUH  Female              0     Yes        Yes      72   \n",
       "7040  4801-JZAZL  Female              0     Yes        Yes      11   \n",
       "7041  8361-LTMKD    Male              1     Yes         No       4   \n",
       "7042  3186-AJIEK    Male              0      No         No      66   \n",
       "\n",
       "     PhoneService     MultipleLines InternetService OnlineSecurity  ...  \\\n",
       "7038          Yes               Yes             DSL            Yes  ...   \n",
       "7039          Yes               Yes     Fiber optic             No  ...   \n",
       "7040           No  No phone service             DSL            Yes  ...   \n",
       "7041          Yes               Yes     Fiber optic             No  ...   \n",
       "7042          Yes                No     Fiber optic            Yes  ...   \n",
       "\n",
       "     DeviceProtection TechSupport StreamingTV StreamingMovies        Contract  \\\n",
       "7038              Yes         Yes         Yes             Yes        One year   \n",
       "7039              Yes          No         Yes             Yes        One year   \n",
       "7040               No          No          No              No  Month-to-month   \n",
       "7041               No          No          No              No  Month-to-month   \n",
       "7042              Yes         Yes         Yes             Yes        Two year   \n",
       "\n",
       "     PaperlessBilling              PaymentMethod MonthlyCharges  TotalCharges  \\\n",
       "7038              Yes               Mailed check          84.80       1990.50   \n",
       "7039              Yes    Credit card (automatic)         103.20       7362.90   \n",
       "7040              Yes           Electronic check          29.60        346.45   \n",
       "7041              Yes               Mailed check          74.40        306.60   \n",
       "7042              Yes  Bank transfer (automatic)         105.65       6844.50   \n",
       "\n",
       "      Churn  \n",
       "7038      0  \n",
       "7039      0  \n",
       "7040      0  \n",
       "7041      1  \n",
       "7042      0  \n",
       "\n",
       "[5 rows x 21 columns]"
      ]
     },
     "execution_count": 14,
     "metadata": {},
     "output_type": "execute_result"
    }
   ],
   "source": [
    "df.tail(5) # Tail"
   ]
  },
  {
   "cell_type": "code",
   "execution_count": 15,
   "id": "95aa5b9d",
   "metadata": {
    "execution": {
     "iopub.execute_input": "2024-12-18T09:56:08.829836Z",
     "iopub.status.busy": "2024-12-18T09:56:08.828664Z",
     "iopub.status.idle": "2024-12-18T09:56:08.844162Z",
     "shell.execute_reply": "2024-12-18T09:56:08.843104Z"
    },
    "papermill": {
     "duration": 0.100366,
     "end_time": "2024-12-18T09:56:08.846689",
     "exception": false,
     "start_time": "2024-12-18T09:56:08.746323",
     "status": "completed"
    },
    "tags": []
   },
   "outputs": [
    {
     "data": {
      "text/plain": [
       "customerID           0\n",
       "gender               0\n",
       "SeniorCitizen        0\n",
       "Partner              0\n",
       "Dependents           0\n",
       "tenure               0\n",
       "PhoneService         0\n",
       "MultipleLines        0\n",
       "InternetService      0\n",
       "OnlineSecurity       0\n",
       "OnlineBackup         0\n",
       "DeviceProtection     0\n",
       "TechSupport          0\n",
       "StreamingTV          0\n",
       "StreamingMovies      0\n",
       "Contract             0\n",
       "PaperlessBilling     0\n",
       "PaymentMethod        0\n",
       "MonthlyCharges       0\n",
       "TotalCharges        11\n",
       "Churn                0\n",
       "dtype: int64"
      ]
     },
     "execution_count": 15,
     "metadata": {},
     "output_type": "execute_result"
    }
   ],
   "source": [
    "df.isnull().sum() # NA"
   ]
  },
  {
   "cell_type": "markdown",
   "id": "e52afe79",
   "metadata": {
    "papermill": {
     "duration": 0.025576,
     "end_time": "2024-12-18T09:56:08.898011",
     "exception": false,
     "start_time": "2024-12-18T09:56:08.872435",
     "status": "completed"
    },
    "tags": []
   },
   "source": [
    "*df.isnull().sum()* checks for missing (NaN) values in each column of the dataset. It's a crucial step in data cleaning, as missing data needs to be handled properly (e.g., filling or dropping missing values) for accurate analysis. This command helps quickly identify missing values in the dataset."
   ]
  },
  {
   "cell_type": "code",
   "execution_count": 16,
   "id": "342165e9",
   "metadata": {
    "execution": {
     "iopub.execute_input": "2024-12-18T09:56:08.950386Z",
     "iopub.status.busy": "2024-12-18T09:56:08.950027Z",
     "iopub.status.idle": "2024-12-18T09:56:08.964551Z",
     "shell.execute_reply": "2024-12-18T09:56:08.963488Z"
    },
    "papermill": {
     "duration": 0.043601,
     "end_time": "2024-12-18T09:56:08.966856",
     "exception": false,
     "start_time": "2024-12-18T09:56:08.923255",
     "status": "completed"
    },
    "tags": []
   },
   "outputs": [
    {
     "name": "stdout",
     "output_type": "stream",
     "text": [
      "                 0.00    0.05      0.50     0.95      0.99     1.00\n",
      "SeniorCitizen    0.00   0.000     0.000     1.00     1.000     1.00\n",
      "tenure           0.00   1.000    29.000    72.00    72.000    72.00\n",
      "MonthlyCharges  18.25  19.650    70.350   107.40   114.729   118.75\n",
      "TotalCharges    18.80  49.605  1397.475  6923.59  8039.883  8684.80\n",
      "Churn            0.00   0.000     0.000     1.00     1.000     1.00\n"
     ]
    }
   ],
   "source": [
    "df_numeric = df.select_dtypes(include=['number'])\n",
    "quantiles = df_numeric.quantile([0, 0.05, 0.50, 0.95, 0.99, 1]).T\n",
    "print(quantiles)"
   ]
  },
  {
   "cell_type": "code",
   "execution_count": 17,
   "id": "bb871cc2",
   "metadata": {
    "execution": {
     "iopub.execute_input": "2024-12-18T09:56:09.017782Z",
     "iopub.status.busy": "2024-12-18T09:56:09.016426Z",
     "iopub.status.idle": "2024-12-18T09:56:09.030101Z",
     "shell.execute_reply": "2024-12-18T09:56:09.029064Z"
    },
    "papermill": {
     "duration": 0.0413,
     "end_time": "2024-12-18T09:56:09.032374",
     "exception": false,
     "start_time": "2024-12-18T09:56:08.991074",
     "status": "completed"
    },
    "tags": []
   },
   "outputs": [
    {
     "name": "stdout",
     "output_type": "stream",
     "text": [
      "                 0.00    0.05      0.50     0.95      0.99     1.00\n",
      "SeniorCitizen    0.00   0.000     0.000     1.00     1.000     1.00\n",
      "tenure           0.00   1.000    29.000    72.00    72.000    72.00\n",
      "MonthlyCharges  18.25  19.650    70.350   107.40   114.729   118.75\n",
      "TotalCharges    18.80  49.605  1397.475  6923.59  8039.883  8684.80\n",
      "Churn            0.00   0.000     0.000     1.00     1.000     1.00\n"
     ]
    }
   ],
   "source": [
    "# Selecting only the numerical columns from the dataframe\n",
    "# This filters out non-numeric columns, focusing only on the columns that contain numerical data.\n",
    "df_numeric = df.select_dtypes(include=['number'])\n",
    "\n",
    "# Calculating specific quantiles for the numeric columns\n",
    "# This gives key statistical values like min, 5th percentile, median, 95th percentile, etc.\n",
    "quantiles = df_numeric.quantile([0, 0.05, 0.50, 0.95, 0.99, 1]).T\n",
    "\n",
    "# Printing the quantiles to inspect the distribution of the numeric columns\n",
    "print(quantiles)"
   ]
  },
  {
   "cell_type": "markdown",
   "id": "a5305b65",
   "metadata": {
    "papermill": {
     "duration": 0.025082,
     "end_time": "2024-12-18T09:56:09.081848",
     "exception": false,
     "start_time": "2024-12-18T09:56:09.056766",
     "status": "completed"
    },
    "tags": []
   },
   "source": [
    "- df.select_dtypes(include=['number']): Selects only the numerical columns from the dataframe, excluding non-numeric data.\n",
    " \n",
    "- df_numeric.quantile([0, 0.05, 0.50, 0.95, 0.99, 1]).T: Calculates specified quantiles (e.g., 0%, 5%, 50%, 95%, 99%, 100%) for numeric columns, helping to understand data distribution. .T transposes the result for better readability, displaying quantiles as rows."
   ]
  },
  {
   "cell_type": "code",
   "execution_count": 18,
   "id": "7fc9657e",
   "metadata": {
    "execution": {
     "iopub.execute_input": "2024-12-18T09:56:09.131829Z",
     "iopub.status.busy": "2024-12-18T09:56:09.131427Z",
     "iopub.status.idle": "2024-12-18T09:56:09.149386Z",
     "shell.execute_reply": "2024-12-18T09:56:09.148225Z"
    },
    "papermill": {
     "duration": 0.045909,
     "end_time": "2024-12-18T09:56:09.151880",
     "exception": false,
     "start_time": "2024-12-18T09:56:09.105971",
     "status": "completed"
    },
    "tags": []
   },
   "outputs": [
    {
     "name": "stdout",
     "output_type": "stream",
     "text": [
      "<class 'pandas.core.frame.DataFrame'>\n",
      "RangeIndex: 7043 entries, 0 to 7042\n",
      "Data columns (total 21 columns):\n",
      " #   Column            Non-Null Count  Dtype  \n",
      "---  ------            --------------  -----  \n",
      " 0   customerID        7043 non-null   object \n",
      " 1   gender            7043 non-null   object \n",
      " 2   SeniorCitizen     7043 non-null   int64  \n",
      " 3   Partner           7043 non-null   object \n",
      " 4   Dependents        7043 non-null   object \n",
      " 5   tenure            7043 non-null   int64  \n",
      " 6   PhoneService      7043 non-null   object \n",
      " 7   MultipleLines     7043 non-null   object \n",
      " 8   InternetService   7043 non-null   object \n",
      " 9   OnlineSecurity    7043 non-null   object \n",
      " 10  OnlineBackup      7043 non-null   object \n",
      " 11  DeviceProtection  7043 non-null   object \n",
      " 12  TechSupport       7043 non-null   object \n",
      " 13  StreamingTV       7043 non-null   object \n",
      " 14  StreamingMovies   7043 non-null   object \n",
      " 15  Contract          7043 non-null   object \n",
      " 16  PaperlessBilling  7043 non-null   object \n",
      " 17  PaymentMethod     7043 non-null   object \n",
      " 18  MonthlyCharges    7043 non-null   float64\n",
      " 19  TotalCharges      7032 non-null   float64\n",
      " 20  Churn             7043 non-null   int64  \n",
      "dtypes: float64(2), int64(3), object(16)\n",
      "memory usage: 1.1+ MB\n"
     ]
    }
   ],
   "source": [
    "# Displaying a summary of the dataset\n",
    "# This provides information about the number of non-null entries, column data types, and memory usage.\n",
    "df.info()"
   ]
  },
  {
   "cell_type": "markdown",
   "id": "cf8a2ed2",
   "metadata": {
    "papermill": {
     "duration": 0.024971,
     "end_time": "2024-12-18T09:56:09.201571",
     "exception": false,
     "start_time": "2024-12-18T09:56:09.176600",
     "status": "completed"
    },
    "tags": []
   },
   "source": [
    "## Numerical and Categorical Variables Detection"
   ]
  },
  {
   "cell_type": "code",
   "execution_count": 19,
   "id": "a99ad2b2",
   "metadata": {
    "execution": {
     "iopub.execute_input": "2024-12-18T09:56:09.253165Z",
     "iopub.status.busy": "2024-12-18T09:56:09.252776Z",
     "iopub.status.idle": "2024-12-18T09:56:09.262186Z",
     "shell.execute_reply": "2024-12-18T09:56:09.260989Z"
    },
    "papermill": {
     "duration": 0.038113,
     "end_time": "2024-12-18T09:56:09.264365",
     "exception": false,
     "start_time": "2024-12-18T09:56:09.226252",
     "status": "completed"
    },
    "tags": []
   },
   "outputs": [],
   "source": [
    "def grab_col_names(dataframe, cat_th=10, car_th=20):\n",
    "    \"\"\"\n",
    "    This function categorizes columns into categorical, numerical, and cardinal categorical variables.\n",
    "    Note: Categorical variables may also include numerical columns that are treated as categories.\n",
    "\n",
    "    Parameters\n",
    "    ----------\n",
    "    dataframe: dataframe\n",
    "        The dataframe from which variable names are to be extracted\n",
    "    cat_th: int, optional\n",
    "        Threshold for distinguishing numerical columns that should be treated as categorical (default is 10)\n",
    "    car_th: int, optional\n",
    "        Threshold for distinguishing categorical columns with cardinality (default is 20)\n",
    "\n",
    "    Returns\n",
    "    -------\n",
    "    cat_cols: list\n",
    "        List of categorical variable names\n",
    "    num_cols: list\n",
    "        List of numerical variable names\n",
    "    cat_but_car: list\n",
    "        List of categorical variables that are cardinal\n",
    "\n",
    "    Examples\n",
    "    --------\n",
    "    import seaborn as sns\n",
    "    df = sns.load_dataset(\"iris\")\n",
    "    print(grab_col_names(df))\n",
    "\n",
    "    Notes\n",
    "    ------\n",
    "    cat_cols + num_cols + cat_but_car = total number of variables\n",
    "    num_but_cat are included in cat_cols.\n",
    "    \"\"\"\n",
    "\n",
    "    # Identify categorical columns (including numerical ones treated as categorical)\n",
    "    cat_cols = [col for col in dataframe.columns if dataframe[col].dtypes == \"O\"]\n",
    "    \n",
    "    # Identify numerical columns that should be treated as categorical\n",
    "    num_but_cat = [col for col in dataframe.columns if dataframe[col].nunique() < cat_th and dataframe[col].dtypes != \"O\"]\n",
    "    \n",
    "    # Identify categorical columns with high cardinality\n",
    "    cat_but_car = [col for col in dataframe.columns if dataframe[col].nunique() > car_th and dataframe[col].dtypes == \"O\"]\n",
    "    \n",
    "    # Update cat_cols to exclude columns that are categorical with high cardinality\n",
    "    cat_cols = cat_cols + num_but_cat\n",
    "    cat_cols = [col for col in cat_cols if col not in cat_but_car]\n",
    "\n",
    "    # Identify numerical columns\n",
    "    num_cols = [col for col in dataframe.columns if dataframe[col].dtypes != \"O\"]\n",
    "    num_cols = [col for col in num_cols if col not in num_but_cat]\n",
    "\n",
    "    # Output the number of observations and variables, and the count of each category\n",
    "    print(f\"Observations: {dataframe.shape[0]}\")\n",
    "    print(f\"Variables: {dataframe.shape[1]}\")\n",
    "    print(f'cat_cols: {len(cat_cols)}')\n",
    "    print(f'num_cols: {len(num_cols)}')\n",
    "    print(f'cat_but_car: {len(cat_but_car)}')\n",
    "    print(f'num_but_cat: {len(num_but_cat)}')\n",
    "\n",
    "    return cat_cols, num_cols, cat_but_car"
   ]
  },
  {
   "cell_type": "code",
   "execution_count": 20,
   "id": "706145ce",
   "metadata": {
    "execution": {
     "iopub.execute_input": "2024-12-18T09:56:09.317895Z",
     "iopub.status.busy": "2024-12-18T09:56:09.317490Z",
     "iopub.status.idle": "2024-12-18T09:56:09.343126Z",
     "shell.execute_reply": "2024-12-18T09:56:09.342014Z"
    },
    "papermill": {
     "duration": 0.055309,
     "end_time": "2024-12-18T09:56:09.345309",
     "exception": false,
     "start_time": "2024-12-18T09:56:09.290000",
     "status": "completed"
    },
    "tags": []
   },
   "outputs": [
    {
     "name": "stdout",
     "output_type": "stream",
     "text": [
      "Observations: 7043\n",
      "Variables: 21\n",
      "cat_cols: 17\n",
      "num_cols: 3\n",
      "cat_but_car: 1\n",
      "num_but_cat: 2\n"
     ]
    }
   ],
   "source": [
    "# Grabbing column names based on their types (categorical, numerical, and cardinal categorical)\n",
    "# This function categorizes columns into cat_cols (categorical), num_cols (numerical), and cat_but_car (categorical with high cardinality).\n",
    "cat_cols, num_cols, cat_but_car = grab_col_names(df)"
   ]
  },
  {
   "cell_type": "code",
   "execution_count": 21,
   "id": "d0031741",
   "metadata": {
    "execution": {
     "iopub.execute_input": "2024-12-18T09:56:09.397306Z",
     "iopub.status.busy": "2024-12-18T09:56:09.396919Z",
     "iopub.status.idle": "2024-12-18T09:56:09.403832Z",
     "shell.execute_reply": "2024-12-18T09:56:09.402888Z"
    },
    "papermill": {
     "duration": 0.035162,
     "end_time": "2024-12-18T09:56:09.405837",
     "exception": false,
     "start_time": "2024-12-18T09:56:09.370675",
     "status": "completed"
    },
    "tags": []
   },
   "outputs": [
    {
     "data": {
      "text/plain": [
       "['gender',\n",
       " 'Partner',\n",
       " 'Dependents',\n",
       " 'PhoneService',\n",
       " 'MultipleLines',\n",
       " 'InternetService',\n",
       " 'OnlineSecurity',\n",
       " 'OnlineBackup',\n",
       " 'DeviceProtection',\n",
       " 'TechSupport',\n",
       " 'StreamingTV',\n",
       " 'StreamingMovies',\n",
       " 'Contract',\n",
       " 'PaperlessBilling',\n",
       " 'PaymentMethod',\n",
       " 'SeniorCitizen',\n",
       " 'Churn']"
      ]
     },
     "execution_count": 21,
     "metadata": {},
     "output_type": "execute_result"
    }
   ],
   "source": [
    "cat_cols"
   ]
  },
  {
   "cell_type": "code",
   "execution_count": 22,
   "id": "e7836c23",
   "metadata": {
    "execution": {
     "iopub.execute_input": "2024-12-18T09:56:09.458263Z",
     "iopub.status.busy": "2024-12-18T09:56:09.457478Z",
     "iopub.status.idle": "2024-12-18T09:56:09.463989Z",
     "shell.execute_reply": "2024-12-18T09:56:09.462920Z"
    },
    "papermill": {
     "duration": 0.034524,
     "end_time": "2024-12-18T09:56:09.465924",
     "exception": false,
     "start_time": "2024-12-18T09:56:09.431400",
     "status": "completed"
    },
    "tags": []
   },
   "outputs": [
    {
     "data": {
      "text/plain": [
       "['tenure', 'MonthlyCharges', 'TotalCharges']"
      ]
     },
     "execution_count": 22,
     "metadata": {},
     "output_type": "execute_result"
    }
   ],
   "source": [
    "num_cols"
   ]
  },
  {
   "cell_type": "code",
   "execution_count": 23,
   "id": "cf7e7773",
   "metadata": {
    "execution": {
     "iopub.execute_input": "2024-12-18T09:56:09.517035Z",
     "iopub.status.busy": "2024-12-18T09:56:09.516657Z",
     "iopub.status.idle": "2024-12-18T09:56:09.522716Z",
     "shell.execute_reply": "2024-12-18T09:56:09.521663Z"
    },
    "papermill": {
     "duration": 0.034112,
     "end_time": "2024-12-18T09:56:09.524693",
     "exception": false,
     "start_time": "2024-12-18T09:56:09.490581",
     "status": "completed"
    },
    "tags": []
   },
   "outputs": [
    {
     "data": {
      "text/plain": [
       "['customerID']"
      ]
     },
     "execution_count": 23,
     "metadata": {},
     "output_type": "execute_result"
    }
   ],
   "source": [
    "cat_but_car"
   ]
  },
  {
   "cell_type": "markdown",
   "id": "4c97fcd1",
   "metadata": {
    "papermill": {
     "duration": 0.024405,
     "end_time": "2024-12-18T09:56:09.574244",
     "exception": false,
     "start_time": "2024-12-18T09:56:09.549839",
     "status": "completed"
    },
    "tags": []
   },
   "source": [
    "## Analysis of Categorical Variables"
   ]
  },
  {
   "cell_type": "code",
   "execution_count": 24,
   "id": "fb1d2e41",
   "metadata": {
    "execution": {
     "iopub.execute_input": "2024-12-18T09:56:09.625212Z",
     "iopub.status.busy": "2024-12-18T09:56:09.624806Z",
     "iopub.status.idle": "2024-12-18T09:56:09.631080Z",
     "shell.execute_reply": "2024-12-18T09:56:09.630269Z"
    },
    "papermill": {
     "duration": 0.034197,
     "end_time": "2024-12-18T09:56:09.633069",
     "exception": false,
     "start_time": "2024-12-18T09:56:09.598872",
     "status": "completed"
    },
    "tags": []
   },
   "outputs": [],
   "source": [
    "def cat_summary(dataframe, col_name, plot=False):\n",
    "    \"\"\"\n",
    "    Summarizes a categorical column by showing value counts and their percentages.\n",
    "    Optionally, plots a countplot for visual inspection of the distribution.\n",
    "\n",
    "    Parameters\n",
    "    ----------\n",
    "    dataframe: pandas.DataFrame\n",
    "        The input dataframe containing the data.\n",
    "    col_name: str\n",
    "        The categorical column to summarize.\n",
    "    plot: bool, optional\n",
    "        If True, displays a countplot of the column (default is False).\n",
    "\n",
    "    Returns\n",
    "    -------\n",
    "    None\n",
    "        Prints the value counts and optionally shows a plot.\n",
    "    \"\"\"\n",
    "    # Display value counts and percentage distribution for the categorical column\n",
    "    summary = pd.DataFrame({col_name: dataframe[col_name].value_counts(),\n",
    "                            \"Ratio\": 100 * dataframe[col_name].value_counts() / len(dataframe)})\n",
    "    print(summary)\n",
    "    print(\"##########################################\")\n",
    "    \n",
    "    # Plot the distribution if 'plot' is set to True\n",
    "    if plot:\n",
    "        sns.countplot(x=dataframe[col_name], data=dataframe)\n",
    "        plt.show()"
   ]
  },
  {
   "cell_type": "markdown",
   "id": "8a09743e",
   "metadata": {
    "papermill": {
     "duration": 0.024284,
     "end_time": "2024-12-18T09:56:09.682498",
     "exception": false,
     "start_time": "2024-12-18T09:56:09.658214",
     "status": "completed"
    },
    "tags": []
   },
   "source": [
    "- cat_summary(dataframe, col_name, plot=False): This function summarizes the categorical column by displaying the count of each category and its percentage in the dataset.\n",
    "- summary: A DataFrame is created showing the value counts and the corresponding percentage (Ratio) for each category.\n",
    "- sns.countplot(...): If plot=True, it visualizes the distribution of categories using a count plot.\n",
    "  \n",
    "This function is ideal for quickly analyzing the distribution of categorical variables. It provides both numerical summaries and visual inspection options."
   ]
  },
  {
   "cell_type": "code",
   "execution_count": 25,
   "id": "7d4d1238",
   "metadata": {
    "execution": {
     "iopub.execute_input": "2024-12-18T09:56:09.733699Z",
     "iopub.status.busy": "2024-12-18T09:56:09.733273Z",
     "iopub.status.idle": "2024-12-18T09:56:09.797345Z",
     "shell.execute_reply": "2024-12-18T09:56:09.796363Z"
    },
    "papermill": {
     "duration": 0.093016,
     "end_time": "2024-12-18T09:56:09.800260",
     "exception": false,
     "start_time": "2024-12-18T09:56:09.707244",
     "status": "completed"
    },
    "tags": []
   },
   "outputs": [
    {
     "name": "stdout",
     "output_type": "stream",
     "text": [
      "        gender     Ratio\n",
      "gender                  \n",
      "Male      3555  50.47565\n",
      "Female    3488  49.52435\n",
      "##########################################\n",
      "         Partner     Ratio\n",
      "Partner                   \n",
      "No          3641  51.69672\n",
      "Yes         3402  48.30328\n",
      "##########################################\n",
      "            Dependents      Ratio\n",
      "Dependents                       \n",
      "No                4933  70.041176\n",
      "Yes               2110  29.958824\n",
      "##########################################\n",
      "              PhoneService      Ratio\n",
      "PhoneService                         \n",
      "Yes                   6361  90.316626\n",
      "No                     682   9.683374\n",
      "##########################################\n",
      "                  MultipleLines      Ratio\n",
      "MultipleLines                             \n",
      "No                         3390  48.132898\n",
      "Yes                        2971  42.183729\n",
      "No phone service            682   9.683374\n",
      "##########################################\n",
      "                 InternetService      Ratio\n",
      "InternetService                            \n",
      "Fiber optic                 3096  43.958540\n",
      "DSL                         2421  34.374556\n",
      "No                          1526  21.666903\n",
      "##########################################\n",
      "                     OnlineSecurity      Ratio\n",
      "OnlineSecurity                                \n",
      "No                             3498  49.666335\n",
      "Yes                            2019  28.666761\n",
      "No internet service            1526  21.666903\n",
      "##########################################\n",
      "                     OnlineBackup      Ratio\n",
      "OnlineBackup                                \n",
      "No                           3088  43.844952\n",
      "Yes                          2429  34.488144\n",
      "No internet service          1526  21.666903\n",
      "##########################################\n",
      "                     DeviceProtection      Ratio\n",
      "DeviceProtection                                \n",
      "No                               3095  43.944342\n",
      "Yes                              2422  34.388755\n",
      "No internet service              1526  21.666903\n",
      "##########################################\n",
      "                     TechSupport      Ratio\n",
      "TechSupport                                \n",
      "No                          3473  49.311373\n",
      "Yes                         2044  29.021724\n",
      "No internet service         1526  21.666903\n",
      "##########################################\n",
      "                     StreamingTV      Ratio\n",
      "StreamingTV                                \n",
      "No                          2810  39.897771\n",
      "Yes                         2707  38.435326\n",
      "No internet service         1526  21.666903\n",
      "##########################################\n",
      "                     StreamingMovies      Ratio\n",
      "StreamingMovies                                \n",
      "No                              2785  39.542808\n",
      "Yes                             2732  38.790288\n",
      "No internet service             1526  21.666903\n",
      "##########################################\n",
      "                Contract      Ratio\n",
      "Contract                           \n",
      "Month-to-month      3875  55.019168\n",
      "Two year            1695  24.066449\n",
      "One year            1473  20.914383\n",
      "##########################################\n",
      "                  PaperlessBilling      Ratio\n",
      "PaperlessBilling                             \n",
      "Yes                           4171  59.221922\n",
      "No                            2872  40.778078\n",
      "##########################################\n",
      "                           PaymentMethod      Ratio\n",
      "PaymentMethod                                      \n",
      "Electronic check                    2365  33.579441\n",
      "Mailed check                        1612  22.887974\n",
      "Bank transfer (automatic)           1544  21.922476\n",
      "Credit card (automatic)             1522  21.610109\n",
      "##########################################\n",
      "               SeniorCitizen      Ratio\n",
      "SeniorCitizen                          \n",
      "0                       5901  83.785319\n",
      "1                       1142  16.214681\n",
      "##########################################\n",
      "       Churn      Ratio\n",
      "Churn                  \n",
      "0       5174  73.463013\n",
      "1       1869  26.536987\n",
      "##########################################\n"
     ]
    }
   ],
   "source": [
    "# Looping through each column in the cat_cols list and calling the cat_summary function\n",
    "# This will summarize each categorical column by displaying value counts and optionally plotting the distribution.\n",
    "for col in cat_cols:\n",
    "    cat_summary(df, col)"
   ]
  },
  {
   "cell_type": "markdown",
   "id": "8eaf041e",
   "metadata": {
    "papermill": {
     "duration": 0.025205,
     "end_time": "2024-12-18T09:56:09.850599",
     "exception": false,
     "start_time": "2024-12-18T09:56:09.825394",
     "status": "completed"
    },
    "tags": []
   },
   "source": [
    "## Analysis of Numerical Variables"
   ]
  },
  {
   "cell_type": "code",
   "execution_count": 26,
   "id": "2097d9b4",
   "metadata": {
    "execution": {
     "iopub.execute_input": "2024-12-18T09:56:09.903194Z",
     "iopub.status.busy": "2024-12-18T09:56:09.902774Z",
     "iopub.status.idle": "2024-12-18T09:56:09.909836Z",
     "shell.execute_reply": "2024-12-18T09:56:09.908568Z"
    },
    "papermill": {
     "duration": 0.036282,
     "end_time": "2024-12-18T09:56:09.912122",
     "exception": false,
     "start_time": "2024-12-18T09:56:09.875840",
     "status": "completed"
    },
    "tags": []
   },
   "outputs": [],
   "source": [
    "def num_summary(dataframe, numerical_col, plot=False):\n",
    "    \"\"\"\n",
    "    Summarizes a numerical column with key statistics and quantiles.\n",
    "    Optionally, displays a histogram of the column for visual inspection.\n",
    "\n",
    "    Parameters\n",
    "    ----------\n",
    "    dataframe: pandas.DataFrame\n",
    "        The input dataframe containing the data.\n",
    "    numerical_col: str\n",
    "        The numerical column to summarize.\n",
    "    plot: bool, optional\n",
    "        If True, displays a histogram of the column (default is False).\n",
    "\n",
    "    Returns\n",
    "    -------\n",
    "    None\n",
    "        Prints the summary statistics and optionally shows a plot.\n",
    "    \"\"\"\n",
    "    # Calculate and display summary statistics including specified quantiles\n",
    "    quantiles = [0.05, 0.10, 0.20, 0.30, 0.40, 0.50, 0.60, 0.70, 0.80, 0.90, 0.95, 0.99]\n",
    "    print(dataframe[numerical_col].describe(quantiles).T)\n",
    "\n",
    "    # Optionally plot the histogram if 'plot' is True\n",
    "    if plot:\n",
    "        dataframe[numerical_col].hist(bins=20)\n",
    "        plt.xlabel(numerical_col)\n",
    "        plt.title(numerical_col)\n",
    "        plt.show()"
   ]
  },
  {
   "cell_type": "code",
   "execution_count": 27,
   "id": "1d52f834",
   "metadata": {
    "execution": {
     "iopub.execute_input": "2024-12-18T09:56:09.964735Z",
     "iopub.status.busy": "2024-12-18T09:56:09.964316Z",
     "iopub.status.idle": "2024-12-18T09:56:10.844410Z",
     "shell.execute_reply": "2024-12-18T09:56:10.843286Z"
    },
    "papermill": {
     "duration": 0.909453,
     "end_time": "2024-12-18T09:56:10.846698",
     "exception": false,
     "start_time": "2024-12-18T09:56:09.937245",
     "status": "completed"
    },
    "tags": []
   },
   "outputs": [
    {
     "name": "stdout",
     "output_type": "stream",
     "text": [
      "count    7043.000000\n",
      "mean       32.371149\n",
      "std        24.559481\n",
      "min         0.000000\n",
      "5%          1.000000\n",
      "10%         2.000000\n",
      "20%         6.000000\n",
      "30%        12.000000\n",
      "40%        20.000000\n",
      "50%        29.000000\n",
      "60%        40.000000\n",
      "70%        50.000000\n",
      "80%        60.000000\n",
      "90%        69.000000\n",
      "95%        72.000000\n",
      "99%        72.000000\n",
      "max        72.000000\n",
      "Name: tenure, dtype: float64\n"
     ]
    },
    {
     "data": {
      "image/png": "[encoded data removed]",
      "text/plain": [
       "<Figure size 640x480 with 1 Axes>"
      ]
     },
     "metadata": {},
     "output_type": "display_data"
    },
    {
     "name": "stdout",
     "output_type": "stream",
     "text": [
      "count    7043.000000\n",
      "mean       64.761692\n",
      "std        30.090047\n",
      "min        18.250000\n",
      "5%         19.650000\n",
      "10%        20.050000\n",
      "20%        25.050000\n",
      "30%        45.850000\n",
      "40%        58.830000\n",
      "50%        70.350000\n",
      "60%        79.100000\n",
      "70%        85.500000\n",
      "80%        94.250000\n",
      "90%       102.600000\n",
      "95%       107.400000\n",
      "99%       114.729000\n",
      "max       118.750000\n",
      "Name: MonthlyCharges, dtype: float64\n"
     ]
    },
    {
     "data": {
      "image/png": "[encoded data removed]",
      "text/plain": [
       "<Figure size 640x480 with 1 Axes>"
      ]
     },
     "metadata": {},
     "output_type": "display_data"
    },
    {
     "name": "stdout",
     "output_type": "stream",
     "text": [
      "count    7032.000000\n",
      "mean     2283.300441\n",
      "std      2266.771362\n",
      "min        18.800000\n",
      "5%         49.605000\n",
      "10%        84.600000\n",
      "20%       267.070000\n",
      "30%       551.995000\n",
      "40%       944.170000\n",
      "50%      1397.475000\n",
      "60%      2048.950000\n",
      "70%      3141.130000\n",
      "80%      4475.410000\n",
      "90%      5976.640000\n",
      "95%      6923.590000\n",
      "99%      8039.883000\n",
      "max      8684.800000\n",
      "Name: TotalCharges, dtype: float64\n"
     ]
    },
    {
     "data": {
      "image/png": "[encoded data removed]",
      "text/plain": [
       "<Figure size 640x480 with 1 Axes>"
      ]
     },
     "metadata": {},
     "output_type": "display_data"
    }
   ],
   "source": [
    "# Looping through each column in the num_cols list and calling the num_summary function\n",
    "# This will summarize each numerical column with statistics and optionally display a histogram.\n",
    "for col in num_cols:\n",
    "    num_summary(df, col, plot=True)"
   ]
  },
  {
   "cell_type": "markdown",
   "id": "d62a9808",
   "metadata": {
    "papermill": {
     "duration": 0.026844,
     "end_time": "2024-12-18T09:56:10.900017",
     "exception": false,
     "start_time": "2024-12-18T09:56:10.873173",
     "status": "completed"
    },
    "tags": []
   },
   "source": [
    "## Analysis of Numerical Variables by Target"
   ]
  },
  {
   "cell_type": "code",
   "execution_count": 28,
   "id": "a945d522",
   "metadata": {
    "execution": {
     "iopub.execute_input": "2024-12-18T09:56:10.956340Z",
     "iopub.status.busy": "2024-12-18T09:56:10.955976Z",
     "iopub.status.idle": "2024-12-18T09:56:10.961775Z",
     "shell.execute_reply": "2024-12-18T09:56:10.960640Z"
    },
    "papermill": {
     "duration": 0.036523,
     "end_time": "2024-12-18T09:56:10.963814",
     "exception": false,
     "start_time": "2024-12-18T09:56:10.927291",
     "status": "completed"
    },
    "tags": []
   },
   "outputs": [],
   "source": [
    "def target_summary_with_num(dataframe, target, numerical_col):\n",
    "    \"\"\"\n",
    "    Summarizes the relationship between a numerical column and the target variable by calculating the mean.\n",
    "    \n",
    "    Parameters\n",
    "    ----------\n",
    "    dataframe: pandas.DataFrame\n",
    "        The input dataframe containing the data.\n",
    "    target: str\n",
    "        The target column (typically the dependent variable).\n",
    "    numerical_col: str\n",
    "        The numerical column to summarize.\n",
    "\n",
    "    Returns\n",
    "    -------\n",
    "    None\n",
    "        Prints the mean of the numerical column grouped by the target variable.\n",
    "    \"\"\"\n",
    "    # Group by the target variable and calculate the mean of the numerical column for each target value\n",
    "    print(dataframe.groupby(target).agg({numerical_col: \"mean\"}), end=\"\\n\\n\\n\")"
   ]
  },
  {
   "cell_type": "markdown",
   "id": "9abb3621",
   "metadata": {
    "papermill": {
     "duration": 0.02651,
     "end_time": "2024-12-18T09:56:11.017337",
     "exception": false,
     "start_time": "2024-12-18T09:56:10.990827",
     "status": "completed"
    },
    "tags": []
   },
   "source": [
    "## Analysis of Categorical Variables by Target"
   ]
  },
  {
   "cell_type": "code",
   "execution_count": 29,
   "id": "2b9a66be",
   "metadata": {
    "execution": {
     "iopub.execute_input": "2024-12-18T09:56:11.072786Z",
     "iopub.status.busy": "2024-12-18T09:56:11.072373Z",
     "iopub.status.idle": "2024-12-18T09:56:11.078858Z",
     "shell.execute_reply": "2024-12-18T09:56:11.077729Z"
    },
    "papermill": {
     "duration": 0.036579,
     "end_time": "2024-12-18T09:56:11.081055",
     "exception": false,
     "start_time": "2024-12-18T09:56:11.044476",
     "status": "completed"
    },
    "tags": []
   },
   "outputs": [],
   "source": [
    "def target_summary_with_cat(dataframe, target, categorical_col):\n",
    "    \"\"\"\n",
    "    Summarizes the relationship between a categorical column and the target variable.\n",
    "    Displays the mean of the target variable for each category, along with value counts and ratios for each category.\n",
    "\n",
    "    Parameters\n",
    "    ----------\n",
    "    dataframe: pandas.DataFrame\n",
    "        The input dataframe containing the data.\n",
    "    target: str\n",
    "        The target column (typically the dependent variable).\n",
    "    categorical_col: str\n",
    "        The categorical column to summarize.\n",
    "\n",
    "    Returns\n",
    "    -------\n",
    "    None\n",
    "        Prints a summary of the target variable's mean, count, and ratio for each category in the categorical column.\n",
    "    \"\"\"\n",
    "    # Display the name of the categorical column\n",
    "    print(categorical_col)\n",
    "    \n",
    "    # Group by the categorical column and calculate the mean of the target variable, value counts, and their ratios\n",
    "    summary = pd.DataFrame({\n",
    "        \"TARGET_MEAN\": dataframe.groupby(categorical_col)[target].mean(),\n",
    "        \"Count\": dataframe[categorical_col].value_counts(),\n",
    "        \"Ratio\": 100 * dataframe[categorical_col].value_counts() / len(dataframe)\n",
    "    })\n",
    "    \n",
    "    # Print the summary\n",
    "    print(summary, end=\"\\n\\n\\n\")"
   ]
  },
  {
   "cell_type": "code",
   "execution_count": 30,
   "id": "758036ca",
   "metadata": {
    "execution": {
     "iopub.execute_input": "2024-12-18T09:56:11.137133Z",
     "iopub.status.busy": "2024-12-18T09:56:11.136200Z",
     "iopub.status.idle": "2024-12-18T09:56:11.233329Z",
     "shell.execute_reply": "2024-12-18T09:56:11.232302Z"
    },
    "papermill": {
     "duration": 0.128292,
     "end_time": "2024-12-18T09:56:11.236177",
     "exception": false,
     "start_time": "2024-12-18T09:56:11.107885",
     "status": "completed"
    },
    "tags": []
   },
   "outputs": [
    {
     "name": "stdout",
     "output_type": "stream",
     "text": [
      "gender\n",
      "        TARGET_MEAN  Count     Ratio\n",
      "gender                              \n",
      "Female     0.269209   3488  49.52435\n",
      "Male       0.261603   3555  50.47565\n",
      "\n",
      "\n",
      "Partner\n",
      "         TARGET_MEAN  Count     Ratio\n",
      "Partner                              \n",
      "No          0.329580   3641  51.69672\n",
      "Yes         0.196649   3402  48.30328\n",
      "\n",
      "\n",
      "Dependents\n",
      "            TARGET_MEAN  Count      Ratio\n",
      "Dependents                               \n",
      "No             0.312791   4933  70.041176\n",
      "Yes            0.154502   2110  29.958824\n",
      "\n",
      "\n",
      "PhoneService\n",
      "              TARGET_MEAN  Count      Ratio\n",
      "PhoneService                               \n",
      "No               0.249267    682   9.683374\n",
      "Yes              0.267096   6361  90.316626\n",
      "\n",
      "\n",
      "MultipleLines\n",
      "                  TARGET_MEAN  Count      Ratio\n",
      "MultipleLines                                  \n",
      "No                   0.250442   3390  48.132898\n",
      "No phone service     0.249267    682   9.683374\n",
      "Yes                  0.286099   2971  42.183729\n",
      "\n",
      "\n",
      "InternetService\n",
      "                 TARGET_MEAN  Count      Ratio\n",
      "InternetService                               \n",
      "DSL                 0.189591   2421  34.374556\n",
      "Fiber optic         0.418928   3096  43.958540\n",
      "No                  0.074050   1526  21.666903\n",
      "\n",
      "\n",
      "OnlineSecurity\n",
      "                     TARGET_MEAN  Count      Ratio\n",
      "OnlineSecurity                                    \n",
      "No                      0.417667   3498  49.666335\n",
      "No internet service     0.074050   1526  21.666903\n",
      "Yes                     0.146112   2019  28.666761\n",
      "\n",
      "\n",
      "OnlineBackup\n",
      "                     TARGET_MEAN  Count      Ratio\n",
      "OnlineBackup                                      \n",
      "No                      0.399288   3088  43.844952\n",
      "No internet service     0.074050   1526  21.666903\n",
      "Yes                     0.215315   2429  34.488144\n",
      "\n",
      "\n",
      "DeviceProtection\n",
      "                     TARGET_MEAN  Count      Ratio\n",
      "DeviceProtection                                  \n",
      "No                      0.391276   3095  43.944342\n",
      "No internet service     0.074050   1526  21.666903\n",
      "Yes                     0.225021   2422  34.388755\n",
      "\n",
      "\n",
      "TechSupport\n",
      "                     TARGET_MEAN  Count      Ratio\n",
      "TechSupport                                       \n",
      "No                      0.416355   3473  49.311373\n",
      "No internet service     0.074050   1526  21.666903\n",
      "Yes                     0.151663   2044  29.021724\n",
      "\n",
      "\n",
      "StreamingTV\n",
      "                     TARGET_MEAN  Count      Ratio\n",
      "StreamingTV                                       \n",
      "No                      0.335231   2810  39.897771\n",
      "No internet service     0.074050   1526  21.666903\n",
      "Yes                     0.300702   2707  38.435326\n",
      "\n",
      "\n",
      "StreamingMovies\n",
      "                     TARGET_MEAN  Count      Ratio\n",
      "StreamingMovies                                   \n",
      "No                      0.336804   2785  39.542808\n",
      "No internet service     0.074050   1526  21.666903\n",
      "Yes                     0.299414   2732  38.790288\n",
      "\n",
      "\n",
      "Contract\n",
      "                TARGET_MEAN  Count      Ratio\n",
      "Contract                                     \n",
      "Month-to-month     0.427097   3875  55.019168\n",
      "One year           0.112695   1473  20.914383\n",
      "Two year           0.028319   1695  24.066449\n",
      "\n",
      "\n",
      "PaperlessBilling\n",
      "                  TARGET_MEAN  Count      Ratio\n",
      "PaperlessBilling                               \n",
      "No                   0.163301   2872  40.778078\n",
      "Yes                  0.335651   4171  59.221922\n",
      "\n",
      "\n",
      "PaymentMethod\n",
      "                           TARGET_MEAN  Count      Ratio\n",
      "PaymentMethod                                           \n",
      "Bank transfer (automatic)     0.167098   1544  21.922476\n",
      "Credit card (automatic)       0.152431   1522  21.610109\n",
      "Electronic check              0.452854   2365  33.579441\n",
      "Mailed check                  0.191067   1612  22.887974\n",
      "\n",
      "\n",
      "SeniorCitizen\n",
      "               TARGET_MEAN  Count      Ratio\n",
      "SeniorCitizen                               \n",
      "0                 0.236062   5901  83.785319\n",
      "1                 0.416813   1142  16.214681\n",
      "\n",
      "\n",
      "Churn\n",
      "       TARGET_MEAN  Count      Ratio\n",
      "Churn                               \n",
      "0              0.0   5174  73.463013\n",
      "1              1.0   1869  26.536987\n",
      "\n",
      "\n"
     ]
    }
   ],
   "source": [
    "# Loop through each categorical column and calculate its relationship with the target variable \"Churn\"\n",
    "# For each categorical column, the function `target_summary_with_cat` will be called to print the \n",
    "# mean of the target variable (Churn), count of each category, and the ratio for each category.\n",
    "for col in cat_cols:\n",
    "    target_summary_with_cat(df, \"Churn\", col)"
   ]
  },
  {
   "cell_type": "markdown",
   "id": "3d247590",
   "metadata": {
    "papermill": {
     "duration": 0.026753,
     "end_time": "2024-12-18T09:56:11.289877",
     "exception": false,
     "start_time": "2024-12-18T09:56:11.263124",
     "status": "completed"
    },
    "tags": []
   },
   "source": [
    "## Correlation"
   ]
  },
  {
   "cell_type": "markdown",
   "id": "75fbfccd",
   "metadata": {
    "papermill": {
     "duration": 0.028428,
     "end_time": "2024-12-18T09:56:11.345892",
     "exception": false,
     "start_time": "2024-12-18T09:56:11.317464",
     "status": "completed"
    },
    "tags": []
   },
   "source": [
    "**Correlation** is a measure of the relationship between two or more variables, showing how they move together. It is quantified using a **correlation coefficient** (usually denoted as **r**), which ranges from **-1** to **+1**:\n",
    "\n",
    "- **+1**: Perfect positive correlation (both variables increase together).\n",
    "- **-1**: Perfect negative correlation (one variable increases while the other decreases).\n",
    "- **0**: No correlation (no relationship between the variables).\n",
    "\n",
    "\n",
    "In summary:\n",
    "- **Positive correlation** means both variables increase or decrease together.\n",
    "- **Negative correlation** means one variable increases while the other decreases.\n",
    "- **No correlation** means there is no clear relationship between the variables.\n",
    "Correlation is commonly used to understand how variables are related in datasets, and can be visualized using scatter plots or heatmaps."
   ]
  },
  {
   "cell_type": "code",
   "execution_count": 31,
   "id": "c9bfd259",
   "metadata": {
    "execution": {
     "iopub.execute_input": "2024-12-18T09:56:11.402267Z",
     "iopub.status.busy": "2024-12-18T09:56:11.401586Z",
     "iopub.status.idle": "2024-12-18T09:56:11.415784Z",
     "shell.execute_reply": "2024-12-18T09:56:11.414525Z"
    },
    "papermill": {
     "duration": 0.044835,
     "end_time": "2024-12-18T09:56:11.417912",
     "exception": false,
     "start_time": "2024-12-18T09:56:11.373077",
     "status": "completed"
    },
    "tags": []
   },
   "outputs": [
    {
     "data": {
      "text/html": [
       "<div>\n",
       "<style scoped>\n",
       "    .dataframe tbody tr th:only-of-type {\n",
       "        vertical-align: middle;\n",
       "    }\n",
       "\n",
       "    .dataframe tbody tr th {\n",
       "        vertical-align: top;\n",
       "    }\n",
       "\n",
       "    .dataframe thead th {\n",
       "        text-align: right;\n",
       "    }\n",
       "</style>\n",
       "<table border=\"1\" class=\"dataframe\">\n",
       "  <thead>\n",
       "    <tr style=\"text-align: right;\">\n",
       "      <th></th>\n",
       "      <th>tenure</th>\n",
       "      <th>MonthlyCharges</th>\n",
       "      <th>TotalCharges</th>\n",
       "    </tr>\n",
       "  </thead>\n",
       "  <tbody>\n",
       "    <tr>\n",
       "      <th>tenure</th>\n",
       "      <td>1.00000</td>\n",
       "      <td>0.247900</td>\n",
       "      <td>0.825880</td>\n",
       "    </tr>\n",
       "    <tr>\n",
       "      <th>MonthlyCharges</th>\n",
       "      <td>0.24790</td>\n",
       "      <td>1.000000</td>\n",
       "      <td>0.651065</td>\n",
       "    </tr>\n",
       "    <tr>\n",
       "      <th>TotalCharges</th>\n",
       "      <td>0.82588</td>\n",
       "      <td>0.651065</td>\n",
       "      <td>1.000000</td>\n",
       "    </tr>\n",
       "  </tbody>\n",
       "</table>\n",
       "</div>"
      ],
      "text/plain": [
       "                 tenure  MonthlyCharges  TotalCharges\n",
       "tenure          1.00000        0.247900      0.825880\n",
       "MonthlyCharges  0.24790        1.000000      0.651065\n",
       "TotalCharges    0.82588        0.651065      1.000000"
      ]
     },
     "execution_count": 31,
     "metadata": {},
     "output_type": "execute_result"
    }
   ],
   "source": [
    "# Calculate the correlation matrix for numerical columns\n",
    "df[num_cols].corr()"
   ]
  },
  {
   "cell_type": "code",
   "execution_count": 32,
   "id": "ee97cd38",
   "metadata": {
    "execution": {
     "iopub.execute_input": "2024-12-18T09:56:11.475698Z",
     "iopub.status.busy": "2024-12-18T09:56:11.474801Z",
     "iopub.status.idle": "2024-12-18T09:56:11.789143Z",
     "shell.execute_reply": "2024-12-18T09:56:11.787950Z"
    },
    "papermill": {
     "duration": 0.345667,
     "end_time": "2024-12-18T09:56:11.791585",
     "exception": false,
     "start_time": "2024-12-18T09:56:11.445918",
     "status": "completed"
    },
    "tags": []
   },
   "outputs": [
    {
     "data": {
      "image/png": "[encoded data removed]",
      "text/plain": [
       "<Figure size 1800x1300 with 2 Axes>"
      ]
     },
     "metadata": {},
     "output_type": "display_data"
    }
   ],
   "source": [
    "# Visualizing the correlation matrix using a heatmap\n",
    "f, ax = plt.subplots(figsize=[18, 13])  # Set the figure size for the plot\n",
    "sns.heatmap(df[num_cols].corr(), annot=True, fmt=\".2f\", ax=ax, cmap=\"magma\")  # Draw the correlation matrix as a heatmap\n",
    "ax.set_title(\"Correlation Matrix\", fontsize=20)  # Set the title for the plot\n",
    "plt.show()  # Display the plot"
   ]
  },
  {
   "cell_type": "code",
   "execution_count": 33,
   "id": "e553c2c2",
   "metadata": {
    "execution": {
     "iopub.execute_input": "2024-12-18T09:56:11.850719Z",
     "iopub.status.busy": "2024-12-18T09:56:11.849669Z",
     "iopub.status.idle": "2024-12-18T09:56:11.864437Z",
     "shell.execute_reply": "2024-12-18T09:56:11.863386Z"
    },
    "papermill": {
     "duration": 0.047162,
     "end_time": "2024-12-18T09:56:11.866591",
     "exception": false,
     "start_time": "2024-12-18T09:56:11.819429",
     "status": "completed"
    },
    "tags": []
   },
   "outputs": [
    {
     "data": {
      "text/plain": [
       "Churn             1.000000\n",
       "MonthlyCharges    0.193356\n",
       "SeniorCitizen     0.150889\n",
       "TotalCharges     -0.199484\n",
       "tenure           -0.352229\n",
       "dtype: float64"
      ]
     },
     "execution_count": 33,
     "metadata": {},
     "output_type": "execute_result"
    }
   ],
   "source": [
    "# Select only numeric columns to calculate correlation\n",
    "df_numeric = df.select_dtypes(include=['number'])\n",
    "\n",
    "# Calculate correlation with 'Churn' column\n",
    "df_numeric.corrwith(df[\"Churn\"]).sort_values(ascending=False)"
   ]
  },
  {
   "cell_type": "markdown",
   "id": "0a2acc61",
   "metadata": {
    "papermill": {
     "duration": 0.028087,
     "end_time": "2024-12-18T09:56:11.922845",
     "exception": false,
     "start_time": "2024-12-18T09:56:11.894758",
     "status": "completed"
    },
    "tags": []
   },
   "source": [
    "# FEATURE ENGINEERING"
   ]
  },
  {
   "cell_type": "markdown",
   "id": "71b27985",
   "metadata": {
    "papermill": {
     "duration": 0.027741,
     "end_time": "2024-12-18T09:56:11.978693",
     "exception": false,
     "start_time": "2024-12-18T09:56:11.950952",
     "status": "completed"
    },
    "tags": []
   },
   "source": [
    "**Feature engineering** is the process of using domain knowledge to select, modify, or create new features (variables or columns) from raw data in order to improve the performance of machine learning models. It involves transforming raw data into formats that are more suitable for machine learning algorithms.\n",
    "\n",
    "Some common feature engineering techniques include:\n",
    "\n",
    "1. **Handling missing values**: Filling in missing data with appropriate values or removing rows/columns with missing values.\n",
    "2. **Encoding categorical variables**: Converting categorical data into numerical formats (e.g., using one-hot encoding or label encoding).\n",
    "3. **Feature scaling**: Normalizing or standardizing numerical features so that they have similar scales.\n",
    "4. **Creating new features**: Combining existing features to create new, potentially more informative features (e.g., creating an \"age group\" feature from an \"age\" feature).\n",
    "5.**Dimensionality reduction**: Reducing the number of features to avoid overfitting or improve model efficiency (e.g., using PCA).\n",
    "6. **Binning**: Grouping continuous variables into bins (e.g., turning ages into age groups).\n",
    "7. **Feature extraction**: Extracting features from unstructured data (like text, images, or time series) to use in machine learning models.\n",
    "Effective feature engineering is crucial because it can significantly impact model performance and prediction accuracy."
   ]
  },
  {
   "cell_type": "markdown",
   "id": "12e64b9d",
   "metadata": {
    "papermill": {
     "duration": 0.028227,
     "end_time": "2024-12-18T09:56:12.034868",
     "exception": false,
     "start_time": "2024-12-18T09:56:12.006641",
     "status": "completed"
    },
    "tags": []
   },
   "source": [
    "## Missing Data Analysis"
   ]
  },
  {
   "cell_type": "code",
   "execution_count": 34,
   "id": "39d5fea5",
   "metadata": {
    "execution": {
     "iopub.execute_input": "2024-12-18T09:56:12.092902Z",
     "iopub.status.busy": "2024-12-18T09:56:12.092412Z",
     "iopub.status.idle": "2024-12-18T09:56:12.107538Z",
     "shell.execute_reply": "2024-12-18T09:56:12.106523Z"
    },
    "papermill": {
     "duration": 0.046847,
     "end_time": "2024-12-18T09:56:12.109756",
     "exception": false,
     "start_time": "2024-12-18T09:56:12.062909",
     "status": "completed"
    },
    "tags": []
   },
   "outputs": [
    {
     "data": {
      "text/plain": [
       "customerID           0\n",
       "gender               0\n",
       "SeniorCitizen        0\n",
       "Partner              0\n",
       "Dependents           0\n",
       "tenure               0\n",
       "PhoneService         0\n",
       "MultipleLines        0\n",
       "InternetService      0\n",
       "OnlineSecurity       0\n",
       "OnlineBackup         0\n",
       "DeviceProtection     0\n",
       "TechSupport          0\n",
       "StreamingTV          0\n",
       "StreamingMovies      0\n",
       "Contract             0\n",
       "PaperlessBilling     0\n",
       "PaymentMethod        0\n",
       "MonthlyCharges       0\n",
       "TotalCharges        11\n",
       "Churn                0\n",
       "dtype: int64"
      ]
     },
     "execution_count": 34,
     "metadata": {},
     "output_type": "execute_result"
    }
   ],
   "source": [
    "# Check for missing values (NaN) in each column\n",
    "# This will give the count of missing values for every column in the DataFrame.\n",
    "df.isnull().sum()"
   ]
  },
  {
   "cell_type": "code",
   "execution_count": 35,
   "id": "cfa9f855",
   "metadata": {
    "execution": {
     "iopub.execute_input": "2024-12-18T09:56:12.167539Z",
     "iopub.status.busy": "2024-12-18T09:56:12.167150Z",
     "iopub.status.idle": "2024-12-18T09:56:12.174835Z",
     "shell.execute_reply": "2024-12-18T09:56:12.173713Z"
    },
    "papermill": {
     "duration": 0.0391,
     "end_time": "2024-12-18T09:56:12.177000",
     "exception": false,
     "start_time": "2024-12-18T09:56:12.137900",
     "status": "completed"
    },
    "tags": []
   },
   "outputs": [],
   "source": [
    "def missing_values_table(dataframe, na_name=False):\n",
    "    \"\"\"\n",
    "    Detect and summarize missing values (NaN) in the DataFrame.\n",
    "\n",
    "    Parameters:\n",
    "    ----------\n",
    "    dataframe : DataFrame\n",
    "        The dataset to check for missing values.\n",
    "    na_name : bool, optional\n",
    "        If True, returns the list of columns with missing values. Default is False.\n",
    "    \n",
    "    Returns:\n",
    "    -------\n",
    "    If na_name is True, returns the list of columns with missing values.\n",
    "    Otherwise, prints a summary of missing values and their ratios.\n",
    "    \"\"\"\n",
    "    # Find columns with missing values (NaN)\n",
    "    na_columns = [col for col in dataframe.columns if dataframe[col].isnull().sum() > 0]\n",
    "    \n",
    "    # Count of missing values per column\n",
    "    n_miss = dataframe[na_columns].isnull().sum().sort_values(ascending=False)\n",
    "    \n",
    "    # Percentage of missing values per column\n",
    "    ratio = (dataframe[na_columns].isnull().sum() / dataframe.shape[0] * 100).sort_values(ascending=False)\n",
    "    \n",
    "    # Combine both counts and ratios into a DataFrame for display\n",
    "    missing_df = pd.concat([n_miss, np.round(ratio, 2)], axis=1, keys=['n_miss', 'ratio'])\n",
    "    \n",
    "    # Print missing values summary\n",
    "    print(missing_df, end=\"\\n\")\n",
    "    \n",
    "    # Return the list of columns with missing values if requested\n",
    "    if na_name:\n",
    "        return na_columns"
   ]
  },
  {
   "cell_type": "code",
   "execution_count": 36,
   "id": "d361fee5",
   "metadata": {
    "execution": {
     "iopub.execute_input": "2024-12-18T09:56:12.236821Z",
     "iopub.status.busy": "2024-12-18T09:56:12.236398Z",
     "iopub.status.idle": "2024-12-18T09:56:12.255789Z",
     "shell.execute_reply": "2024-12-18T09:56:12.254596Z"
    },
    "papermill": {
     "duration": 0.051733,
     "end_time": "2024-12-18T09:56:12.258227",
     "exception": false,
     "start_time": "2024-12-18T09:56:12.206494",
     "status": "completed"
    },
    "tags": []
   },
   "outputs": [
    {
     "name": "stdout",
     "output_type": "stream",
     "text": [
      "              n_miss  ratio\n",
      "TotalCharges      11   0.16\n"
     ]
    }
   ],
   "source": [
    "# Get the list of columns with missing values (NaN) by calling the missing_values_table function.\n",
    "# This will return the names of columns containing missing values if 'na_name' is set to True.\n",
    "na_columns = missing_values_table(df, na_name=True)"
   ]
  },
  {
   "cell_type": "code",
   "execution_count": 37,
   "id": "86622c22",
   "metadata": {
    "execution": {
     "iopub.execute_input": "2024-12-18T09:56:12.316789Z",
     "iopub.status.busy": "2024-12-18T09:56:12.316325Z",
     "iopub.status.idle": "2024-12-18T09:56:12.323976Z",
     "shell.execute_reply": "2024-12-18T09:56:12.322829Z"
    },
    "papermill": {
     "duration": 0.039326,
     "end_time": "2024-12-18T09:56:12.326083",
     "exception": false,
     "start_time": "2024-12-18T09:56:12.286757",
     "status": "completed"
    },
    "tags": []
   },
   "outputs": [
    {
     "data": {
      "text/plain": [
       "['TotalCharges']"
      ]
     },
     "execution_count": 37,
     "metadata": {},
     "output_type": "execute_result"
    }
   ],
   "source": [
    "na_columns"
   ]
  },
  {
   "cell_type": "code",
   "execution_count": 38,
   "id": "8dff7b33",
   "metadata": {
    "execution": {
     "iopub.execute_input": "2024-12-18T09:56:12.386918Z",
     "iopub.status.busy": "2024-12-18T09:56:12.386494Z",
     "iopub.status.idle": "2024-12-18T09:56:12.393149Z",
     "shell.execute_reply": "2024-12-18T09:56:12.392121Z"
    },
    "papermill": {
     "duration": 0.040578,
     "end_time": "2024-12-18T09:56:12.395181",
     "exception": false,
     "start_time": "2024-12-18T09:56:12.354603",
     "status": "completed"
    },
    "tags": []
   },
   "outputs": [],
   "source": [
    "# Fill missing values in 'TotalCharges' column with the median value.\n",
    "# This approach is used because median is less sensitive to outliers compared to the mean.\n",
    "# Alternatively, we could drop the 'TotalCharges' column if we believe it doesn't add significant value.\n",
    "df[\"TotalCharges\"].fillna(df[\"TotalCharges\"].median(), inplace=True)"
   ]
  },
  {
   "cell_type": "code",
   "execution_count": 39,
   "id": "c4da06e9",
   "metadata": {
    "execution": {
     "iopub.execute_input": "2024-12-18T09:56:12.455503Z",
     "iopub.status.busy": "2024-12-18T09:56:12.454669Z",
     "iopub.status.idle": "2024-12-18T09:56:12.469189Z",
     "shell.execute_reply": "2024-12-18T09:56:12.468092Z"
    },
    "papermill": {
     "duration": 0.047519,
     "end_time": "2024-12-18T09:56:12.471269",
     "exception": false,
     "start_time": "2024-12-18T09:56:12.423750",
     "status": "completed"
    },
    "tags": []
   },
   "outputs": [
    {
     "data": {
      "text/plain": [
       "customerID          0\n",
       "gender              0\n",
       "SeniorCitizen       0\n",
       "Partner             0\n",
       "Dependents          0\n",
       "tenure              0\n",
       "PhoneService        0\n",
       "MultipleLines       0\n",
       "InternetService     0\n",
       "OnlineSecurity      0\n",
       "OnlineBackup        0\n",
       "DeviceProtection    0\n",
       "TechSupport         0\n",
       "StreamingTV         0\n",
       "StreamingMovies     0\n",
       "Contract            0\n",
       "PaperlessBilling    0\n",
       "PaymentMethod       0\n",
       "MonthlyCharges      0\n",
       "TotalCharges        0\n",
       "Churn               0\n",
       "dtype: int64"
      ]
     },
     "execution_count": 39,
     "metadata": {},
     "output_type": "execute_result"
    }
   ],
   "source": [
    "df.isnull().sum()"
   ]
  },
  {
   "cell_type": "markdown",
   "id": "46ae80b4",
   "metadata": {
    "papermill": {
     "duration": 0.029138,
     "end_time": "2024-12-18T09:56:12.529260",
     "exception": false,
     "start_time": "2024-12-18T09:56:12.500122",
     "status": "completed"
    },
    "tags": []
   },
   "source": [
    "## Building the Base Model"
   ]
  },
  {
   "cell_type": "code",
   "execution_count": 40,
   "id": "8ad6e78c",
   "metadata": {
    "execution": {
     "iopub.execute_input": "2024-12-18T09:56:12.589265Z",
     "iopub.status.busy": "2024-12-18T09:56:12.588881Z",
     "iopub.status.idle": "2024-12-18T09:56:12.594989Z",
     "shell.execute_reply": "2024-12-18T09:56:12.594036Z"
    },
    "papermill": {
     "duration": 0.03891,
     "end_time": "2024-12-18T09:56:12.597003",
     "exception": false,
     "start_time": "2024-12-18T09:56:12.558093",
     "status": "completed"
    },
    "tags": []
   },
   "outputs": [],
   "source": [
    "# Create a copy of the original DataFrame to avoid modifying the original data.\n",
    "# This is useful for preserving the integrity of the original dataset while performing operations on the copy.\n",
    "dff = df.copy()"
   ]
  },
  {
   "cell_type": "code",
   "execution_count": 41,
   "id": "bce38890",
   "metadata": {
    "execution": {
     "iopub.execute_input": "2024-12-18T09:56:12.657270Z",
     "iopub.status.busy": "2024-12-18T09:56:12.656891Z",
     "iopub.status.idle": "2024-12-18T09:56:12.661717Z",
     "shell.execute_reply": "2024-12-18T09:56:12.660877Z"
    },
    "papermill": {
     "duration": 0.037427,
     "end_time": "2024-12-18T09:56:12.663751",
     "exception": false,
     "start_time": "2024-12-18T09:56:12.626324",
     "status": "completed"
    },
    "tags": []
   },
   "outputs": [],
   "source": [
    "# Remove the 'Churn' column from the categorical features list as it is the target variable.\n",
    "# The target variable should not be included in the feature set when building a model.\n",
    "cat_cols = [col for col in cat_cols if col not in [\"Churn\"]]"
   ]
  },
  {
   "cell_type": "code",
   "execution_count": 42,
   "id": "b25376e2",
   "metadata": {
    "execution": {
     "iopub.execute_input": "2024-12-18T09:56:12.723421Z",
     "iopub.status.busy": "2024-12-18T09:56:12.722490Z",
     "iopub.status.idle": "2024-12-18T09:56:12.729175Z",
     "shell.execute_reply": "2024-12-18T09:56:12.728140Z"
    },
    "papermill": {
     "duration": 0.039,
     "end_time": "2024-12-18T09:56:12.731103",
     "exception": false,
     "start_time": "2024-12-18T09:56:12.692103",
     "status": "completed"
    },
    "tags": []
   },
   "outputs": [
    {
     "data": {
      "text/plain": [
       "['gender',\n",
       " 'Partner',\n",
       " 'Dependents',\n",
       " 'PhoneService',\n",
       " 'MultipleLines',\n",
       " 'InternetService',\n",
       " 'OnlineSecurity',\n",
       " 'OnlineBackup',\n",
       " 'DeviceProtection',\n",
       " 'TechSupport',\n",
       " 'StreamingTV',\n",
       " 'StreamingMovies',\n",
       " 'Contract',\n",
       " 'PaperlessBilling',\n",
       " 'PaymentMethod',\n",
       " 'SeniorCitizen']"
      ]
     },
     "execution_count": 42,
     "metadata": {},
     "output_type": "execute_result"
    }
   ],
   "source": [
    "cat_cols"
   ]
  },
  {
   "cell_type": "code",
   "execution_count": 43,
   "id": "b83673cd",
   "metadata": {
    "execution": {
     "iopub.execute_input": "2024-12-18T09:56:12.800084Z",
     "iopub.status.busy": "2024-12-18T09:56:12.799698Z",
     "iopub.status.idle": "2024-12-18T09:56:12.804711Z",
     "shell.execute_reply": "2024-12-18T09:56:12.803704Z"
    },
    "papermill": {
     "duration": 0.046652,
     "end_time": "2024-12-18T09:56:12.806800",
     "exception": false,
     "start_time": "2024-12-18T09:56:12.760148",
     "status": "completed"
    },
    "tags": []
   },
   "outputs": [],
   "source": [
    "# One-Hot Encoding function to convert categorical variables into binary variables.\n",
    "# It creates dummy/indicator variables for each category in the categorical columns.\n",
    "# The 'drop_first' parameter controls whether to drop the first category to avoid multicollinearity.\n",
    "def one_hot_encoder(dataframe, categorical_cols, drop_first=False):\n",
    "    dataframe = pd.get_dummies(dataframe, columns=categorical_cols, drop_first=drop_first)\n",
    "    return dataframe"
   ]
  },
  {
   "cell_type": "markdown",
   "id": "cc5871d6",
   "metadata": {
    "papermill": {
     "duration": 0.028003,
     "end_time": "2024-12-18T09:56:12.863258",
     "exception": false,
     "start_time": "2024-12-18T09:56:12.835255",
     "status": "completed"
    },
    "tags": []
   },
   "source": [
    "**What is One Hot Encoding?**\n",
    "\n",
    "\n",
    "**One Hot Encoding** is a method for converting categorical variables into a binary format. It creates new binary columns (0s and 1s) for each category in the original variable. Each category in the original column is represented as a separate column, where a value of 1 indicates the presence of that category, and 0 indicates its absence."
   ]
  },
  {
   "cell_type": "markdown",
   "id": "1d4a6d63",
   "metadata": {
    "papermill": {
     "duration": 0.02829,
     "end_time": "2024-12-18T09:56:12.919765",
     "exception": false,
     "start_time": "2024-12-18T09:56:12.891475",
     "status": "completed"
    },
    "tags": []
   },
   "source": [
    "**Why Use One Hot Encoding?**\n",
    "\n",
    "The primary purpose of One Hot Encoding is to ensure that categorical data can be effectively used in machine learning models. Key reasons why this technique is beneficial:"
   ]
  },
  {
   "cell_type": "markdown",
   "id": "cb0eb016",
   "metadata": {
    "papermill": {
     "duration": 0.028643,
     "end_time": "2024-12-18T09:56:12.976713",
     "exception": false,
     "start_time": "2024-12-18T09:56:12.948070",
     "status": "completed"
    },
    "tags": []
   },
   "source": [
    "1. **Eliminating Ordinality**: Many categorical variables have no inherent order (e.g., “Male” and “Female”). If we were to assign numerical values (e.g., Male = 0, Female = 1), the model might mistakenly interpret this as a ranking, leading to biased predictions. One Hot Encoding eliminates this risk by treating each category independently.\n",
    "\n",
    "2. **Improving Model Performance**: By providing a more detailed representation of categorical variables, One Hot Encoding can help improve the performance of machine learning models. It allows models to capture complex relationships within the data that might be missed if categorical variables were treated as single entities.\n",
    "\n",
    "3. **Compatibility with Algorithms**: Many machine learning algorithms, particularly those based on linear regression and gradient descent, require numerical input. One Hot Encoding ensures that categorical variables are converted into a suitable format.\n"
   ]
  },
  {
   "attachments": {
    "14319bc5-1d63-4fcd-a0f6-0dfb960fa870.jpg": {
     "image/jpeg": "[encoded data removed]"
    }
   },
   "cell_type": "markdown",
   "id": "7c9b0960",
   "metadata": {
    "papermill": {
     "duration": 0.028351,
     "end_time": "2024-12-18T09:56:13.034416",
     "exception": false,
     "start_time": "2024-12-18T09:56:13.006065",
     "status": "completed"
    },
    "tags": []
   },
   "source": [
    "![onehot.jpg](attachment:14319bc5-1d63-4fcd-a0f6-0dfb960fa870.jpg)"
   ]
  },
  {
   "cell_type": "code",
   "execution_count": 44,
   "id": "a8d169aa",
   "metadata": {
    "execution": {
     "iopub.execute_input": "2024-12-18T09:56:13.092888Z",
     "iopub.status.busy": "2024-12-18T09:56:13.092114Z",
     "iopub.status.idle": "2024-12-18T09:56:13.118220Z",
     "shell.execute_reply": "2024-12-18T09:56:13.117383Z"
    },
    "papermill": {
     "duration": 0.058013,
     "end_time": "2024-12-18T09:56:13.120592",
     "exception": false,
     "start_time": "2024-12-18T09:56:13.062579",
     "status": "completed"
    },
    "tags": []
   },
   "outputs": [],
   "source": [
    "# Apply One-Hot Encoding to the categorical columns in the dataframe.\n",
    "# The 'drop_first=True' parameter drops the first category in each column to avoid multicollinearity.\n",
    "# This ensures that the resulting dummy variables are not highly correlated with each other.\n",
    "dff = one_hot_encoder(dff, cat_cols, drop_first=True)"
   ]
  },
  {
   "cell_type": "code",
   "execution_count": 45,
   "id": "4fe5bec2",
   "metadata": {
    "execution": {
     "iopub.execute_input": "2024-12-18T09:56:13.180277Z",
     "iopub.status.busy": "2024-12-18T09:56:13.179510Z",
     "iopub.status.idle": "2024-12-18T09:56:13.186484Z",
     "shell.execute_reply": "2024-12-18T09:56:13.185686Z"
    },
    "papermill": {
     "duration": 0.039583,
     "end_time": "2024-12-18T09:56:13.188461",
     "exception": false,
     "start_time": "2024-12-18T09:56:13.148878",
     "status": "completed"
    },
    "tags": []
   },
   "outputs": [],
   "source": [
    "# Define the target variable (dependent variable) 'Churn'\n",
    "y = dff[\"Churn\"]\n",
    "\n",
    "# Define the features (independent variables) by dropping the 'Churn' and 'customerID' columns.\n",
    "# 'Churn' is the target variable, and 'customerID' is not relevant for modeling.\n",
    "X = dff.drop([\"Churn\", \"customerID\"], axis=1)"
   ]
  },
  {
   "cell_type": "code",
   "execution_count": 46,
   "id": "c792c63a",
   "metadata": {
    "execution": {
     "iopub.execute_input": "2024-12-18T09:56:13.249496Z",
     "iopub.status.busy": "2024-12-18T09:56:13.248759Z",
     "iopub.status.idle": "2024-12-18T09:56:13.258431Z",
     "shell.execute_reply": "2024-12-18T09:56:13.257552Z"
    },
    "papermill": {
     "duration": 0.042676,
     "end_time": "2024-12-18T09:56:13.260528",
     "exception": false,
     "start_time": "2024-12-18T09:56:13.217852",
     "status": "completed"
    },
    "tags": []
   },
   "outputs": [],
   "source": [
    "# Split the dataset into training and testing sets.\n",
    "# 30% of the data is used for testing and 70% for training.\n",
    "# random_state is set for reproducibility (to ensure the same split each time).\n",
    "X_train, X_test, y_train, y_test = train_test_split(X, y, test_size=0.30, random_state=17)"
   ]
  },
  {
   "cell_type": "code",
   "execution_count": 47,
   "id": "a6341be3",
   "metadata": {
    "execution": {
     "iopub.execute_input": "2024-12-18T09:56:13.319635Z",
     "iopub.status.busy": "2024-12-18T09:56:13.318588Z",
     "iopub.status.idle": "2024-12-18T09:56:13.326442Z",
     "shell.execute_reply": "2024-12-18T09:56:13.325418Z"
    },
    "papermill": {
     "duration": 0.039653,
     "end_time": "2024-12-18T09:56:13.328448",
     "exception": false,
     "start_time": "2024-12-18T09:56:13.288795",
     "status": "completed"
    },
    "tags": []
   },
   "outputs": [
    {
     "data": {
      "text/plain": [
       "(4930, 30)"
      ]
     },
     "execution_count": 47,
     "metadata": {},
     "output_type": "execute_result"
    }
   ],
   "source": [
    "X_train.shape"
   ]
  },
  {
   "cell_type": "code",
   "execution_count": 48,
   "id": "e79902c8",
   "metadata": {
    "execution": {
     "iopub.execute_input": "2024-12-18T09:56:13.388347Z",
     "iopub.status.busy": "2024-12-18T09:56:13.387486Z",
     "iopub.status.idle": "2024-12-18T09:56:13.394316Z",
     "shell.execute_reply": "2024-12-18T09:56:13.393209Z"
    },
    "papermill": {
     "duration": 0.03946,
     "end_time": "2024-12-18T09:56:13.396686",
     "exception": false,
     "start_time": "2024-12-18T09:56:13.357226",
     "status": "completed"
    },
    "tags": []
   },
   "outputs": [
    {
     "data": {
      "text/plain": [
       "(4930,)"
      ]
     },
     "execution_count": 48,
     "metadata": {},
     "output_type": "execute_result"
    }
   ],
   "source": [
    "y_train.shape"
   ]
  },
  {
   "cell_type": "code",
   "execution_count": 49,
   "id": "de898d4a",
   "metadata": {
    "execution": {
     "iopub.execute_input": "2024-12-18T09:56:13.456319Z",
     "iopub.status.busy": "2024-12-18T09:56:13.455456Z",
     "iopub.status.idle": "2024-12-18T09:56:16.825767Z",
     "shell.execute_reply": "2024-12-18T09:56:16.824857Z"
    },
    "papermill": {
     "duration": 3.402943,
     "end_time": "2024-12-18T09:56:16.828193",
     "exception": false,
     "start_time": "2024-12-18T09:56:13.425250",
     "status": "completed"
    },
    "tags": []
   },
   "outputs": [],
   "source": [
    "# Initialize and train a CatBoost classifier model.\n",
    "# 'verbose=False' suppresses detailed output during model training.\n",
    "# 'random_state=12345' ensures reproducibility of the model training.\n",
    "catboost_model = CatBoostClassifier(verbose=False, random_state=12345).fit(X_train, y_train)\n",
    "\n",
    "# Predict the target variable on the test set using the trained CatBoost model.\n",
    "y_pred = catboost_model.predict(X_test)"
   ]
  },
  {
   "attachments": {
    "533900b6-2219-4f90-a15b-8ae99ffb4377.jpg": {
     "image/jpeg": "[encoded data removed]"
    }
   },
   "cell_type": "markdown",
   "id": "45075640",
   "metadata": {
    "papermill": {
     "duration": 0.028268,
     "end_time": "2024-12-18T09:56:16.885019",
     "exception": false,
     "start_time": "2024-12-18T09:56:16.856751",
     "status": "completed"
    },
    "tags": []
   },
   "source": [
    "![catboost.jpg](attachment:533900b6-2219-4f90-a15b-8ae99ffb4377.jpg)"
   ]
  },
  {
   "cell_type": "markdown",
   "id": "de8cb528",
   "metadata": {
    "papermill": {
     "duration": 0.029377,
     "end_time": "2024-12-18T09:56:16.943388",
     "exception": false,
     "start_time": "2024-12-18T09:56:16.914011",
     "status": "completed"
    },
    "tags": []
   },
   "source": [
    "**CatBoostClassifier** is a component of the **CatBoost** algorithm developed by Yandex, and it is a powerful **gradient boosting** model specifically used for **classification problems**. The name \"CatBoost\" stands for **Categorical Boosting**, and it stands out due to its ability to handle **categorical data** efficiently. This feature distinguishes it from traditional **gradient boosting** algorithms (such as XGBoost or LightGBM)."
   ]
  },
  {
   "cell_type": "markdown",
   "id": "2102bfa4",
   "metadata": {
    "papermill": {
     "duration": 0.0286,
     "end_time": "2024-12-18T09:56:17.000772",
     "exception": false,
     "start_time": "2024-12-18T09:56:16.972172",
     "status": "completed"
    },
    "tags": []
   },
   "source": [
    "**Key Features of CatBoostClassifier:**\n",
    "1. **Handling Categorical Data**:\n",
    "\n",
    "* CatBoost is one of the few algorithms that can work directly with categorical data. Typically, categorical data is converted into numerical values (e.g., using one-hot encoding or label encoding). However, CatBoost can perform these transformations automatically and efficiently, saving users time in preprocessing.\n",
    "* CatBoost uses a technique called ordered boosting when working with categorical data, which improves the model's generalization ability in classification and regression tasks.\n",
    "\n",
    "2. **Gradient Boosting Structure**:\n",
    "* Similar to other gradient boosting algorithms, CatBoost builds trees sequentially, where each new tree corrects the errors from the previous iterations. This process follows the principles of ensemble learning, leading to strong predictive performance.\n",
    "* Unlike other boosting algorithms, CatBoost typically works with shallower trees, which can speed up the training process.\n",
    "\n",
    "3. **Combating Overfitting**:\n",
    "* CatBoost uses techniques like ordered boosting and bayesian optimization to prevent overfitting. This feature helps improve the general performance of the model, especially in small and medium-sized datasets.\n",
    "* The algorithm also requires less hyperparameter tuning, making it easier to obtain good results without manual optimization.\n",
    "\n",
    "4. **Speed and Efficiency**:\n",
    "* CatBoost is known for being efficient and faster compared to other gradient boosting algorithms, and it can provide rapid results even with large datasets.\n",
    "* The algorithm supports multi-core processing and GPU acceleration, which allows it to leverage parallel processing and reduce training time.\n",
    "\n",
    "5. **High Performance**:\n",
    "* CatBoost often outperforms alternatives like XGBoost and LightGBM, as it has more customized optimization techniques and can handle a wider variety of data types more effectively.\n",
    "\n",
    "6. **Model Interpretability**:\n",
    "* CatBoost provides various interpretability tools that allow users to understand how the model makes its predictions. It offers feature importance rankings, helping analysts to determine which variables contribute the most to the model’s predictions."
   ]
  },
  {
   "cell_type": "markdown",
   "id": "da1fb83d",
   "metadata": {
    "papermill": {
     "duration": 0.028312,
     "end_time": "2024-12-18T09:56:17.058353",
     "exception": false,
     "start_time": "2024-12-18T09:56:17.030041",
     "status": "completed"
    },
    "tags": []
   },
   "source": [
    "**Use Cases for CatBoostClassifier**:\n",
    "\n",
    "* When dealing with categorical data: In industries like e-commerce, finance, healthcare, and insurance, data often contains categorical features. CatBoost is highly efficient in handling such data.\n",
    "\n",
    "* Large and complex datasets: CatBoost is particularly useful for large datasets, where it provides both high accuracy and speed.\n",
    "\n",
    "* Classification problems: CatBoost can be used for both binary classification (e.g., yes/no outcomes) and multi-class classification (e.g., multiple categories)."
   ]
  },
  {
   "cell_type": "markdown",
   "id": "82863ed4",
   "metadata": {
    "papermill": {
     "duration": 0.028423,
     "end_time": "2024-12-18T09:56:17.115937",
     "exception": false,
     "start_time": "2024-12-18T09:56:17.087514",
     "status": "completed"
    },
    "tags": []
   },
   "source": [
    "**Advantages of CatBoost:**\n",
    "* Native integration with categorical data: CatBoost handles categorical variables without the need for manual encoding, making the data preprocessing and modeling process faster.\n",
    "\n",
    "* High accuracy: CatBoost frequently outperforms other gradient boosting algorithms, particularly on smaller datasets.\n",
    "\n",
    "* Less hyperparameter tuning required: It requires less manual adjustment and hyperparameter optimization compared to other algorithms.\n",
    "\n",
    "* Efficient modeling: It can work efficiently on large datasets with fast training and prediction times.;"
   ]
  },
  {
   "cell_type": "code",
   "execution_count": 50,
   "id": "e3f0af11",
   "metadata": {
    "execution": {
     "iopub.execute_input": "2024-12-18T09:56:17.175183Z",
     "iopub.status.busy": "2024-12-18T09:56:17.174804Z",
     "iopub.status.idle": "2024-12-18T09:56:17.197574Z",
     "shell.execute_reply": "2024-12-18T09:56:17.196352Z"
    },
    "papermill": {
     "duration": 0.055179,
     "end_time": "2024-12-18T09:56:17.199962",
     "exception": false,
     "start_time": "2024-12-18T09:56:17.144783",
     "status": "completed"
    },
    "tags": []
   },
   "outputs": [
    {
     "name": "stdout",
     "output_type": "stream",
     "text": [
      "Accuracy: 0.7847\n",
      "Recall: 0.6331\n",
      "Precision: 0.493\n",
      "F1: 0.5544\n",
      "Auc: 0.7292\n"
     ]
    }
   ],
   "source": [
    "# Print the evaluation metrics for the CatBoost model performance on the test set.\n",
    "# These metrics help assess the model's effectiveness in terms of accuracy, recall, precision, F1 score, and AUC.\n",
    "\n",
    "# Calculate and print accuracy\n",
    "print(f\"Accuracy: {round(accuracy_score(y_pred, y_test), 4)}\")\n",
    "\n",
    "# Calculate and print recall (sensitivity) - ability to correctly identify positive instances\n",
    "print(f\"Recall: {round(recall_score(y_pred, y_test), 4)}\")\n",
    "\n",
    "# Calculate and print precision - ability to correctly identify positive predictions\n",
    "print(f\"Precision: {round(precision_score(y_pred, y_test), 4)}\")\n",
    "\n",
    "# Calculate and print F1 score - harmonic mean of precision and recall, useful for imbalanced classes\n",
    "print(f\"F1: {round(f1_score(y_pred, y_test), 4)}\")\n",
    "\n",
    "# Calculate and print AUC (Area Under the ROC Curve) - measures the model's ability to distinguish between classes\n",
    "print(f\"Auc: {round(roc_auc_score(y_pred, y_test), 4)}\")"
   ]
  },
  {
   "cell_type": "markdown",
   "id": "15c615d5",
   "metadata": {
    "papermill": {
     "duration": 0.030368,
     "end_time": "2024-12-18T09:56:17.260334",
     "exception": false,
     "start_time": "2024-12-18T09:56:17.229966",
     "status": "completed"
    },
    "tags": []
   },
   "source": [
    "**Model evaluation metrics** are quantitative measures used to assess the performance of a machine learning model. These metrics help to determine how well the model makes predictions and whether it meets the specific objectives of the task, such as classification, regression, or others. The choice of evaluation metric depends on the type of problem (e.g., classification or regression) and the business objectives."
   ]
  },
  {
   "attachments": {
    "3b100fbc-5fb2-4507-b93b-29466c758901.jpg": {
     "image/jpeg": "[encoded data removed]"
    },
    "866b8eb6-9d0f-4a9b-ad61-e93da926760b.jpg": {
     "image/jpeg": "[encoded data removed]"
    },
    "a4d7ca3b-f6fa-4aee-9d37-8409807ec9f2.jpg": {
     "image/jpeg": "[encoded data removed]"
    },
    "eb9131fb-d2dd-44c7-bb1b-92c7a7f69cad.jpg": {
     "image/jpeg": "[encoded data removed]"
    }
   },
   "cell_type": "markdown",
   "id": "1495a135",
   "metadata": {
    "papermill": {
     "duration": 0.028472,
     "end_time": "2024-12-18T09:56:17.317440",
     "exception": false,
     "start_time": "2024-12-18T09:56:17.288968",
     "status": "completed"
    },
    "tags": []
   },
   "source": [
    "#### Common Evaluation Metrics for Classification Models:\n",
    "1. **Accuracy:**\n",
    "- It measures the proportion of correct predictions (both true positives and true negatives) out of all predictions.\n",
    "- Best used when the class distribution is balanced.\n",
    "- Formula:\n",
    "![accuracy.jpg](attachment:866b8eb6-9d0f-4a9b-ad61-e93da926760b.jpg)\n",
    "\n",
    "2. **Recall (Sensitivity or True Positive Rate):**\n",
    "- It measures the proportion of actual positive cases that were correctly identified by the model.\n",
    "- Useful when the cost of missing a positive class (false negative) is high.\n",
    "- Formula:\n",
    "![recall.jpg](attachment:eb9131fb-d2dd-44c7-bb1b-92c7a7f69cad.jpg)\n",
    "\n",
    "3. Precision:\n",
    "- It measures the proportion of predicted positive cases that were actually positive.\n",
    "- Important when the cost of a false positive is high (e.g., predicting a disease when there is none).\n",
    "- Formula:\n",
    "![precision.jpg](attachment:3b100fbc-5fb2-4507-b93b-29466c758901.jpg)\n",
    "\n",
    "4. **F1 Score:**\n",
    "- The harmonic mean of **Precision** and **Recall**, providing a balance between the two metrics.\n",
    "- Useful when you need a balance between Precision and Recall, especially when there is an uneven class distribution.\n",
    "- Formula:\n",
    "\n",
    "    ![f1.jpg](attachment:a4d7ca3b-f6fa-4aee-9d37-8409807ec9f2.jpg)\n",
    "\n",
    "5. **AUC (Area Under the Curve):**\n",
    "- It is the area under the **Receiver Operating Characteristic (ROC)** curve, which plots the true positive rate against the false positive rate.\n",
    "- AUC provides an aggregate measure of performance across all classification thresholds, showing how well the model can distinguish between classes.\n",
    "- A value closer to 1 indicates a better model performance."
   ]
  },
  {
   "attachments": {
    "693b972a-741d-4521-a43c-bb19ae47709f.png": {
     "image/png": "[encoded data removed]"
    }
   },
   "cell_type": "markdown",
   "id": "99acc2d9",
   "metadata": {
    "papermill": {
     "duration": 0.028171,
     "end_time": "2024-12-18T09:56:17.375810",
     "exception": false,
     "start_time": "2024-12-18T09:56:17.347639",
     "status": "completed"
    },
    "tags": []
   },
   "source": [
    "![Model-performance-metrics-Visual-representation-of-the-classification-model-metrics.png](attachment:693b972a-741d-4521-a43c-bb19ae47709f.png)"
   ]
  },
  {
   "cell_type": "markdown",
   "id": "8675546c",
   "metadata": {
    "papermill": {
     "duration": 0.028171,
     "end_time": "2024-12-18T09:56:17.432574",
     "exception": false,
     "start_time": "2024-12-18T09:56:17.404403",
     "status": "completed"
    },
    "tags": []
   },
   "source": [
    "**Why are Model Evaluation Metrics Important?**\n",
    "- **Assessing Model Performance**: Metrics help you evaluate how well the model performs and if it is achieving the desired outcomes.\n",
    "- **Comparing Models**: They allow you to compare different models objectively.\n",
    "- **Improving the Model**: Evaluation metrics help in fine-tuning the model, understanding where it is making mistakes, and improving its performance."
   ]
  },
  {
   "cell_type": "markdown",
   "id": "c4725409",
   "metadata": {
    "papermill": {
     "duration": 0.028096,
     "end_time": "2024-12-18T09:56:17.489852",
     "exception": false,
     "start_time": "2024-12-18T09:56:17.461756",
     "status": "completed"
    },
    "tags": []
   },
   "source": [
    "## Outlier Analysis"
   ]
  },
  {
   "cell_type": "code",
   "execution_count": 51,
   "id": "6d9cc290",
   "metadata": {
    "execution": {
     "iopub.execute_input": "2024-12-18T09:56:17.549234Z",
     "iopub.status.busy": "2024-12-18T09:56:17.548329Z",
     "iopub.status.idle": "2024-12-18T09:56:17.555181Z",
     "shell.execute_reply": "2024-12-18T09:56:17.554127Z"
    },
    "papermill": {
     "duration": 0.038882,
     "end_time": "2024-12-18T09:56:17.557192",
     "exception": false,
     "start_time": "2024-12-18T09:56:17.518310",
     "status": "completed"
    },
    "tags": []
   },
   "outputs": [],
   "source": [
    "def outlier_thresholds(dataframe, col_name, q1=0.05, q3=0.95):\n",
    "    \"\"\"\n",
    "    Calculates the lower and upper limits for detecting outliers in a given numerical column \n",
    "    based on the Interquartile Range (IQR) method. \n",
    "\n",
    "    Parameters:\n",
    "    ----------\n",
    "    dataframe: pandas.DataFrame\n",
    "        The dataframe containing the data.\n",
    "    col_name: str\n",
    "        The name of the column for which outlier thresholds need to be calculated.\n",
    "    q1: float, optional (default is 0.05)\n",
    "        The lower quantile (default is 5%), representing the first quartile (25th percentile).\n",
    "    q3: float, optional (default is 0.95)\n",
    "        The upper quantile (default is 95%), representing the third quartile (75th percentile).\n",
    "\n",
    "    Returns:\n",
    "    -------\n",
    "    tuple: (float, float)\n",
    "        The lower limit and the upper limit beyond which data points are considered outliers.\n",
    "\n",
    "    Notes:\n",
    "    ------\n",
    "    The IQR method defines the \"acceptable\" range as Q1 - 1.5 * IQR to Q3 + 1.5 * IQR.\n",
    "    Any value outside this range is considered an outlier.\n",
    "    \"\"\"\n",
    "\n",
    "    # Calculate the first quartile (Q1) and third quartile (Q3)\n",
    "    quartile1 = dataframe[col_name].quantile(q1)  # Lower boundary of the IQR\n",
    "    quartile3 = dataframe[col_name].quantile(q3)  # Upper boundary of the IQR\n",
    "\n",
    "    # Compute the Interquartile Range (IQR)\n",
    "    interquantile_range = quartile3 - quartile1  # The range between Q3 and Q1\n",
    "\n",
    "    # Calculate the upper and lower bounds for outliers\n",
    "    up_limit = quartile3 + 1.5 * interquantile_range  # Upper threshold for outliers\n",
    "    low_limit = quartile1 - 1.5 * interquantile_range  # Lower threshold for outliers\n",
    "\n",
    "    # Return the calculated lower and upper limits\n",
    "    return low_limit, up_limit"
   ]
  },
  {
   "attachments": {
    "385d62f1-e3ea-4212-9049-01681adfc3eb.jpg": {
     "image/jpeg": "[encoded data removed]"
    }
   },
   "cell_type": "markdown",
   "id": "92ea5659",
   "metadata": {
    "papermill": {
     "duration": 0.028187,
     "end_time": "2024-12-18T09:56:17.613976",
     "exception": false,
     "start_time": "2024-12-18T09:56:17.585789",
     "status": "completed"
    },
    "tags": []
   },
   "source": [
    "IQR stands for Interquartile Range. It is a statistical measure of the spread of data, representing the range between the first quartile (Q1) and the third quartile (Q3) of a dataset. The IQR is calculated as the difference between Q3 and Q1.\n",
    "\n",
    "It measures the middle 50% of the data and is used to identify outliers. Values that fall below Q1 minus 1.5 times the IQR or above Q3 plus 1.5 times the IQR are typically considered outliers.\n",
    "\n",
    "![iqr.jpg](attachment:385d62f1-e3ea-4212-9049-01681adfc3eb.jpg)"
   ]
  },
  {
   "cell_type": "code",
   "execution_count": 52,
   "id": "04662c82",
   "metadata": {
    "execution": {
     "iopub.execute_input": "2024-12-18T09:56:17.673935Z",
     "iopub.status.busy": "2024-12-18T09:56:17.672662Z",
     "iopub.status.idle": "2024-12-18T09:56:17.679639Z",
     "shell.execute_reply": "2024-12-18T09:56:17.678432Z"
    },
    "papermill": {
     "duration": 0.039519,
     "end_time": "2024-12-18T09:56:17.682090",
     "exception": false,
     "start_time": "2024-12-18T09:56:17.642571",
     "status": "completed"
    },
    "tags": []
   },
   "outputs": [],
   "source": [
    "def check_outlier(dataframe, col_name):\n",
    "    \"\"\"\n",
    "    Checks if there are outliers in the specified column based on the IQR method.\n",
    "\n",
    "    Parameters:\n",
    "    ----------\n",
    "    dataframe: pandas.DataFrame\n",
    "        The dataframe to check.\n",
    "    col_name: str\n",
    "        The column to check for outliers.\n",
    "\n",
    "    Returns:\n",
    "    -------\n",
    "    bool:\n",
    "        True if there are outliers, otherwise False.\n",
    "    \"\"\"\n",
    "\n",
    "    # Calculate the IQR-based thresholds\n",
    "    low_limit, up_limit = outlier_thresholds(dataframe, col_name)\n",
    "\n",
    "    # Check if any values are outside the thresholds\n",
    "    if dataframe[(dataframe[col_name] > up_limit) | (dataframe[col_name] < low_limit)].any(axis=None):\n",
    "        return True  # Outliers exist\n",
    "    return False  # No outliers"
   ]
  },
  {
   "cell_type": "code",
   "execution_count": 53,
   "id": "95cda3b8",
   "metadata": {
    "execution": {
     "iopub.execute_input": "2024-12-18T09:56:17.742492Z",
     "iopub.status.busy": "2024-12-18T09:56:17.742136Z",
     "iopub.status.idle": "2024-12-18T09:56:17.747985Z",
     "shell.execute_reply": "2024-12-18T09:56:17.746994Z"
    },
    "papermill": {
     "duration": 0.037825,
     "end_time": "2024-12-18T09:56:17.749969",
     "exception": false,
     "start_time": "2024-12-18T09:56:17.712144",
     "status": "completed"
    },
    "tags": []
   },
   "outputs": [],
   "source": [
    "def replace_with_thresholds(dataframe, variable, q1=0.05, q3=0.95):\n",
    "    # Calculate outlier thresholds\n",
    "    low_limit, up_limit = outlier_thresholds(dataframe, variable, q1, q3)\n",
    "\n",
    "    # Replace outliers with limits\n",
    "    dataframe.loc[dataframe[variable] < low_limit, variable] = low_limit\n",
    "    dataframe.loc[dataframe[variable] > up_limit, variable] = up_limit"
   ]
  },
  {
   "cell_type": "code",
   "execution_count": 54,
   "id": "9c95859f",
   "metadata": {
    "execution": {
     "iopub.execute_input": "2024-12-18T09:56:17.809483Z",
     "iopub.status.busy": "2024-12-18T09:56:17.808505Z",
     "iopub.status.idle": "2024-12-18T09:56:17.832558Z",
     "shell.execute_reply": "2024-12-18T09:56:17.831404Z"
    },
    "papermill": {
     "duration": 0.056303,
     "end_time": "2024-12-18T09:56:17.834975",
     "exception": false,
     "start_time": "2024-12-18T09:56:17.778672",
     "status": "completed"
    },
    "tags": []
   },
   "outputs": [
    {
     "name": "stdout",
     "output_type": "stream",
     "text": [
      "tenure False\n",
      "MonthlyCharges False\n",
      "TotalCharges False\n"
     ]
    }
   ],
   "source": [
    "# Outlier Detection and Capping\n",
    "for col in num_cols:\n",
    "    print(col, check_outlier(df, col))  # Check if outliers exist\n",
    "    if check_outlier(df, col):  # If outliers found\n",
    "        replace_with_thresholds(df, col)  # Replace outliers with threshold values"
   ]
  },
  {
   "cell_type": "markdown",
   "id": "b23cc8c6",
   "metadata": {
    "papermill": {
     "duration": 0.028378,
     "end_time": "2024-12-18T09:56:17.892126",
     "exception": false,
     "start_time": "2024-12-18T09:56:17.863748",
     "status": "completed"
    },
    "tags": []
   },
   "source": [
    "## Feature Extraction"
   ]
  },
  {
   "cell_type": "code",
   "execution_count": 55,
   "id": "c027de3b",
   "metadata": {
    "execution": {
     "iopub.execute_input": "2024-12-18T09:56:17.951543Z",
     "iopub.status.busy": "2024-12-18T09:56:17.951155Z",
     "iopub.status.idle": "2024-12-18T09:56:17.967496Z",
     "shell.execute_reply": "2024-12-18T09:56:17.966441Z"
    },
    "papermill": {
     "duration": 0.048884,
     "end_time": "2024-12-18T09:56:17.969894",
     "exception": false,
     "start_time": "2024-12-18T09:56:17.921010",
     "status": "completed"
    },
    "tags": []
   },
   "outputs": [],
   "source": [
    "# Creating a new categorical variable based on 'tenure' (customer's duration in service)\n",
    "df.loc[(df[\"tenure\"]>=0) & (df[\"tenure\"]<=12),\"NEW_TENURE_YEAR\"] = \"0-1 Year\"  # 0 to 1 year\n",
    "df.loc[(df[\"tenure\"]>12) & (df[\"tenure\"]<=24),\"NEW_TENURE_YEAR\"] = \"1-2 Year\"  # 1 to 2 years\n",
    "df.loc[(df[\"tenure\"]>24) & (df[\"tenure\"]<=36),\"NEW_TENURE_YEAR\"] = \"2-3 Year\"  # 2 to 3 years\n",
    "df.loc[(df[\"tenure\"]>36) & (df[\"tenure\"]<=48),\"NEW_TENURE_YEAR\"] = \"3-4 Year\"  # 3 to 4 years\n",
    "df.loc[(df[\"tenure\"]>48) & (df[\"tenure\"]<=60),\"NEW_TENURE_YEAR\"] = \"4-5 Year\"  # 4 to 5 years\n",
    "df.loc[(df[\"tenure\"]>60) & (df[\"tenure\"]<=72),\"NEW_TENURE_YEAR\"] = \"5-6 Year\"  # 5 to 6 years"
   ]
  },
  {
   "cell_type": "code",
   "execution_count": 56,
   "id": "1f7605c0",
   "metadata": {
    "execution": {
     "iopub.execute_input": "2024-12-18T09:56:18.030366Z",
     "iopub.status.busy": "2024-12-18T09:56:18.030010Z",
     "iopub.status.idle": "2024-12-18T09:56:18.039229Z",
     "shell.execute_reply": "2024-12-18T09:56:18.037948Z"
    },
    "papermill": {
     "duration": 0.042561,
     "end_time": "2024-12-18T09:56:18.041707",
     "exception": false,
     "start_time": "2024-12-18T09:56:17.999146",
     "status": "completed"
    },
    "tags": []
   },
   "outputs": [],
   "source": [
    "# Mark customers with 1 or 2 year contract as 'Engaged'\n",
    "df[\"NEW_Engaged\"] = df[\"Contract\"].apply(lambda x: 1 if x in [\"One year\", \"Two year\"] else 0)"
   ]
  },
  {
   "cell_type": "code",
   "execution_count": 57,
   "id": "2a7125a2",
   "metadata": {
    "execution": {
     "iopub.execute_input": "2024-12-18T09:56:18.103058Z",
     "iopub.status.busy": "2024-12-18T09:56:18.102691Z",
     "iopub.status.idle": "2024-12-18T09:56:18.164249Z",
     "shell.execute_reply": "2024-12-18T09:56:18.163319Z"
    },
    "papermill": {
     "duration": 0.094798,
     "end_time": "2024-12-18T09:56:18.166697",
     "exception": false,
     "start_time": "2024-12-18T09:56:18.071899",
     "status": "completed"
    },
    "tags": []
   },
   "outputs": [],
   "source": [
    "# Mark customers who do not have any backup, protection, or tech support\n",
    "df[\"NEW_noProt\"] = df.apply(lambda x: 1 if (x[\"OnlineBackup\"] != \"Yes\") or (x[\"DeviceProtection\"] != \"Yes\") or (x[\"TechSupport\"] != \"Yes\") else 0, axis=1)"
   ]
  },
  {
   "cell_type": "code",
   "execution_count": 58,
   "id": "f7c0cf88",
   "metadata": {
    "execution": {
     "iopub.execute_input": "2024-12-18T09:56:18.227060Z",
     "iopub.status.busy": "2024-12-18T09:56:18.226079Z",
     "iopub.status.idle": "2024-12-18T09:56:18.293650Z",
     "shell.execute_reply": "2024-12-18T09:56:18.292698Z"
    },
    "papermill": {
     "duration": 0.100262,
     "end_time": "2024-12-18T09:56:18.295994",
     "exception": false,
     "start_time": "2024-12-18T09:56:18.195732",
     "status": "completed"
    },
    "tags": []
   },
   "outputs": [],
   "source": [
    "# Mark customers who have a monthly contract and are young (not engaged and senior citizen is 0)\n",
    "df[\"NEW_Young_Not_Engaged\"] = df.apply(lambda x: 1 if (x[\"NEW_Engaged\"] == 0) and (x[\"SeniorCitizen\"] == 0) else 0, axis=1)"
   ]
  },
  {
   "cell_type": "code",
   "execution_count": 59,
   "id": "ed4881cf",
   "metadata": {
    "execution": {
     "iopub.execute_input": "2024-12-18T09:56:18.357735Z",
     "iopub.status.busy": "2024-12-18T09:56:18.357290Z",
     "iopub.status.idle": "2024-12-18T09:56:18.371193Z",
     "shell.execute_reply": "2024-12-18T09:56:18.370016Z"
    },
    "papermill": {
     "duration": 0.048254,
     "end_time": "2024-12-18T09:56:18.373455",
     "exception": false,
     "start_time": "2024-12-18T09:56:18.325201",
     "status": "completed"
    },
    "tags": []
   },
   "outputs": [],
   "source": [
    "# Calculate the total number of services a person has\n",
    "df['NEW_TotalServices'] = (df[['PhoneService', 'InternetService', 'OnlineSecurity',\n",
    "                                'OnlineBackup', 'DeviceProtection', 'TechSupport',\n",
    "                                'StreamingTV', 'StreamingMovies']] == 'Yes').sum(axis=1)"
   ]
  },
  {
   "cell_type": "code",
   "execution_count": 60,
   "id": "f05e986f",
   "metadata": {
    "execution": {
     "iopub.execute_input": "2024-12-18T09:56:18.448488Z",
     "iopub.status.busy": "2024-12-18T09:56:18.447889Z",
     "iopub.status.idle": "2024-12-18T09:56:18.523426Z",
     "shell.execute_reply": "2024-12-18T09:56:18.522402Z"
    },
    "papermill": {
     "duration": 0.122965,
     "end_time": "2024-12-18T09:56:18.526191",
     "exception": false,
     "start_time": "2024-12-18T09:56:18.403226",
     "status": "completed"
    },
    "tags": []
   },
   "outputs": [],
   "source": [
    "# Flag for people who have any streaming service\n",
    "df[\"NEW_FLAG_ANY_STREAMING\"] = df.apply(lambda x: 1 if (x[\"StreamingTV\"] == \"Yes\") or (x[\"StreamingMovies\"] == \"Yes\") else 0, axis=1)"
   ]
  },
  {
   "cell_type": "code",
   "execution_count": 61,
   "id": "054c8acf",
   "metadata": {
    "execution": {
     "iopub.execute_input": "2024-12-18T09:56:18.588193Z",
     "iopub.status.busy": "2024-12-18T09:56:18.587171Z",
     "iopub.status.idle": "2024-12-18T09:56:18.596437Z",
     "shell.execute_reply": "2024-12-18T09:56:18.595367Z"
    },
    "papermill": {
     "duration": 0.042108,
     "end_time": "2024-12-18T09:56:18.598798",
     "exception": false,
     "start_time": "2024-12-18T09:56:18.556690",
     "status": "completed"
    },
    "tags": []
   },
   "outputs": [],
   "source": [
    "# Flag for people who use automatic payment\n",
    "df[\"NEW_FLAG_AutoPayment\"] = df[\"PaymentMethod\"].apply(lambda x: 1 if x in [\"Bank transfer (automatic)\", \"Credit card (automatic)\"] else 0)"
   ]
  },
  {
   "cell_type": "code",
   "execution_count": 62,
   "id": "c8871647",
   "metadata": {
    "execution": {
     "iopub.execute_input": "2024-12-18T09:56:18.658996Z",
     "iopub.status.busy": "2024-12-18T09:56:18.658562Z",
     "iopub.status.idle": "2024-12-18T09:56:18.665214Z",
     "shell.execute_reply": "2024-12-18T09:56:18.664169Z"
    },
    "papermill": {
     "duration": 0.039464,
     "end_time": "2024-12-18T09:56:18.667466",
     "exception": false,
     "start_time": "2024-12-18T09:56:18.628002",
     "status": "completed"
    },
    "tags": []
   },
   "outputs": [],
   "source": [
    "# Calculate average monthly charges\n",
    "df[\"NEW_AVG_Charges\"] = df[\"TotalCharges\"] / (df[\"tenure\"] + 1)"
   ]
  },
  {
   "cell_type": "code",
   "execution_count": 63,
   "id": "7c8fdd6e",
   "metadata": {
    "execution": {
     "iopub.execute_input": "2024-12-18T09:56:18.727085Z",
     "iopub.status.busy": "2024-12-18T09:56:18.726647Z",
     "iopub.status.idle": "2024-12-18T09:56:18.733296Z",
     "shell.execute_reply": "2024-12-18T09:56:18.732122Z"
    },
    "papermill": {
     "duration": 0.039019,
     "end_time": "2024-12-18T09:56:18.735534",
     "exception": false,
     "start_time": "2024-12-18T09:56:18.696515",
     "status": "completed"
    },
    "tags": []
   },
   "outputs": [],
   "source": [
    "# Calculate the increase in the current price compared to the average price\n",
    "df[\"NEW_Increase\"] = df[\"NEW_AVG_Charges\"] / df[\"MonthlyCharges\"]"
   ]
  },
  {
   "cell_type": "code",
   "execution_count": 64,
   "id": "57c7f1be",
   "metadata": {
    "execution": {
     "iopub.execute_input": "2024-12-18T09:56:18.795989Z",
     "iopub.status.busy": "2024-12-18T09:56:18.794944Z",
     "iopub.status.idle": "2024-12-18T09:56:18.801411Z",
     "shell.execute_reply": "2024-12-18T09:56:18.800499Z"
    },
    "papermill": {
     "duration": 0.039113,
     "end_time": "2024-12-18T09:56:18.803536",
     "exception": false,
     "start_time": "2024-12-18T09:56:18.764423",
     "status": "completed"
    },
    "tags": []
   },
   "outputs": [],
   "source": [
    "# Calculate the average service fee per service\n",
    "df[\"NEW_AVG_Service_Fee\"] = df[\"MonthlyCharges\"] / (df['NEW_TotalServices'] + 1)"
   ]
  },
  {
   "cell_type": "code",
   "execution_count": 65,
   "id": "6767fc1c",
   "metadata": {
    "execution": {
     "iopub.execute_input": "2024-12-18T09:56:18.864069Z",
     "iopub.status.busy": "2024-12-18T09:56:18.863596Z",
     "iopub.status.idle": "2024-12-18T09:56:18.887524Z",
     "shell.execute_reply": "2024-12-18T09:56:18.886386Z"
    },
    "papermill": {
     "duration": 0.056762,
     "end_time": "2024-12-18T09:56:18.889710",
     "exception": false,
     "start_time": "2024-12-18T09:56:18.832948",
     "status": "completed"
    },
    "tags": []
   },
   "outputs": [
    {
     "data": {
      "text/html": [
       "<div>\n",
       "<style scoped>\n",
       "    .dataframe tbody tr th:only-of-type {\n",
       "        vertical-align: middle;\n",
       "    }\n",
       "\n",
       "    .dataframe tbody tr th {\n",
       "        vertical-align: top;\n",
       "    }\n",
       "\n",
       "    .dataframe thead th {\n",
       "        text-align: right;\n",
       "    }\n",
       "</style>\n",
       "<table border=\"1\" class=\"dataframe\">\n",
       "  <thead>\n",
       "    <tr style=\"text-align: right;\">\n",
       "      <th></th>\n",
       "      <th>customerID</th>\n",
       "      <th>gender</th>\n",
       "      <th>SeniorCitizen</th>\n",
       "      <th>Partner</th>\n",
       "      <th>Dependents</th>\n",
       "      <th>tenure</th>\n",
       "      <th>PhoneService</th>\n",
       "      <th>MultipleLines</th>\n",
       "      <th>InternetService</th>\n",
       "      <th>OnlineSecurity</th>\n",
       "      <th>...</th>\n",
       "      <th>NEW_TENURE_YEAR</th>\n",
       "      <th>NEW_Engaged</th>\n",
       "      <th>NEW_noProt</th>\n",
       "      <th>NEW_Young_Not_Engaged</th>\n",
       "      <th>NEW_TotalServices</th>\n",
       "      <th>NEW_FLAG_ANY_STREAMING</th>\n",
       "      <th>NEW_FLAG_AutoPayment</th>\n",
       "      <th>NEW_AVG_Charges</th>\n",
       "      <th>NEW_Increase</th>\n",
       "      <th>NEW_AVG_Service_Fee</th>\n",
       "    </tr>\n",
       "  </thead>\n",
       "  <tbody>\n",
       "    <tr>\n",
       "      <th>0</th>\n",
       "      <td>7590-VHVEG</td>\n",
       "      <td>Female</td>\n",
       "      <td>0</td>\n",
       "      <td>Yes</td>\n",
       "      <td>No</td>\n",
       "      <td>1</td>\n",
       "      <td>No</td>\n",
       "      <td>No phone service</td>\n",
       "      <td>DSL</td>\n",
       "      <td>No</td>\n",
       "      <td>...</td>\n",
       "      <td>0-1 Year</td>\n",
       "      <td>0</td>\n",
       "      <td>1</td>\n",
       "      <td>1</td>\n",
       "      <td>1</td>\n",
       "      <td>0</td>\n",
       "      <td>0</td>\n",
       "      <td>14.925000</td>\n",
       "      <td>0.500000</td>\n",
       "      <td>14.9250</td>\n",
       "    </tr>\n",
       "    <tr>\n",
       "      <th>1</th>\n",
       "      <td>5575-GNVDE</td>\n",
       "      <td>Male</td>\n",
       "      <td>0</td>\n",
       "      <td>No</td>\n",
       "      <td>No</td>\n",
       "      <td>34</td>\n",
       "      <td>Yes</td>\n",
       "      <td>No</td>\n",
       "      <td>DSL</td>\n",
       "      <td>Yes</td>\n",
       "      <td>...</td>\n",
       "      <td>2-3 Year</td>\n",
       "      <td>1</td>\n",
       "      <td>1</td>\n",
       "      <td>0</td>\n",
       "      <td>3</td>\n",
       "      <td>0</td>\n",
       "      <td>0</td>\n",
       "      <td>53.985714</td>\n",
       "      <td>0.947949</td>\n",
       "      <td>14.2375</td>\n",
       "    </tr>\n",
       "    <tr>\n",
       "      <th>2</th>\n",
       "      <td>3668-QPYBK</td>\n",
       "      <td>Male</td>\n",
       "      <td>0</td>\n",
       "      <td>No</td>\n",
       "      <td>No</td>\n",
       "      <td>2</td>\n",
       "      <td>Yes</td>\n",
       "      <td>No</td>\n",
       "      <td>DSL</td>\n",
       "      <td>Yes</td>\n",
       "      <td>...</td>\n",
       "      <td>0-1 Year</td>\n",
       "      <td>0</td>\n",
       "      <td>1</td>\n",
       "      <td>1</td>\n",
       "      <td>3</td>\n",
       "      <td>0</td>\n",
       "      <td>0</td>\n",
       "      <td>36.050000</td>\n",
       "      <td>0.669452</td>\n",
       "      <td>13.4625</td>\n",
       "    </tr>\n",
       "    <tr>\n",
       "      <th>3</th>\n",
       "      <td>7795-CFOCW</td>\n",
       "      <td>Male</td>\n",
       "      <td>0</td>\n",
       "      <td>No</td>\n",
       "      <td>No</td>\n",
       "      <td>45</td>\n",
       "      <td>No</td>\n",
       "      <td>No phone service</td>\n",
       "      <td>DSL</td>\n",
       "      <td>Yes</td>\n",
       "      <td>...</td>\n",
       "      <td>3-4 Year</td>\n",
       "      <td>1</td>\n",
       "      <td>1</td>\n",
       "      <td>0</td>\n",
       "      <td>3</td>\n",
       "      <td>0</td>\n",
       "      <td>1</td>\n",
       "      <td>40.016304</td>\n",
       "      <td>0.946012</td>\n",
       "      <td>10.5750</td>\n",
       "    </tr>\n",
       "    <tr>\n",
       "      <th>4</th>\n",
       "      <td>9237-HQITU</td>\n",
       "      <td>Female</td>\n",
       "      <td>0</td>\n",
       "      <td>No</td>\n",
       "      <td>No</td>\n",
       "      <td>2</td>\n",
       "      <td>Yes</td>\n",
       "      <td>No</td>\n",
       "      <td>Fiber optic</td>\n",
       "      <td>No</td>\n",
       "      <td>...</td>\n",
       "      <td>0-1 Year</td>\n",
       "      <td>0</td>\n",
       "      <td>1</td>\n",
       "      <td>1</td>\n",
       "      <td>1</td>\n",
       "      <td>0</td>\n",
       "      <td>0</td>\n",
       "      <td>50.550000</td>\n",
       "      <td>0.714993</td>\n",
       "      <td>35.3500</td>\n",
       "    </tr>\n",
       "  </tbody>\n",
       "</table>\n",
       "<p>5 rows × 31 columns</p>\n",
       "</div>"
      ],
      "text/plain": [
       "   customerID  gender  SeniorCitizen Partner Dependents  tenure PhoneService  \\\n",
       "0  7590-VHVEG  Female              0     Yes         No       1           No   \n",
       "1  5575-GNVDE    Male              0      No         No      34          Yes   \n",
       "2  3668-QPYBK    Male              0      No         No       2          Yes   \n",
       "3  7795-CFOCW    Male              0      No         No      45           No   \n",
       "4  9237-HQITU  Female              0      No         No       2          Yes   \n",
       "\n",
       "      MultipleLines InternetService OnlineSecurity  ... NEW_TENURE_YEAR  \\\n",
       "0  No phone service             DSL             No  ...        0-1 Year   \n",
       "1                No             DSL            Yes  ...        2-3 Year   \n",
       "2                No             DSL            Yes  ...        0-1 Year   \n",
       "3  No phone service             DSL            Yes  ...        3-4 Year   \n",
       "4                No     Fiber optic             No  ...        0-1 Year   \n",
       "\n",
       "  NEW_Engaged NEW_noProt NEW_Young_Not_Engaged NEW_TotalServices  \\\n",
       "0           0          1                     1                 1   \n",
       "1           1          1                     0                 3   \n",
       "2           0          1                     1                 3   \n",
       "3           1          1                     0                 3   \n",
       "4           0          1                     1                 1   \n",
       "\n",
       "  NEW_FLAG_ANY_STREAMING NEW_FLAG_AutoPayment NEW_AVG_Charges  NEW_Increase  \\\n",
       "0                      0                    0       14.925000      0.500000   \n",
       "1                      0                    0       53.985714      0.947949   \n",
       "2                      0                    0       36.050000      0.669452   \n",
       "3                      0                    1       40.016304      0.946012   \n",
       "4                      0                    0       50.550000      0.714993   \n",
       "\n",
       "   NEW_AVG_Service_Fee  \n",
       "0              14.9250  \n",
       "1              14.2375  \n",
       "2              13.4625  \n",
       "3              10.5750  \n",
       "4              35.3500  \n",
       "\n",
       "[5 rows x 31 columns]"
      ]
     },
     "execution_count": 65,
     "metadata": {},
     "output_type": "execute_result"
    }
   ],
   "source": [
    "df.head()"
   ]
  },
  {
   "cell_type": "code",
   "execution_count": 66,
   "id": "25b17742",
   "metadata": {
    "execution": {
     "iopub.execute_input": "2024-12-18T09:56:18.951305Z",
     "iopub.status.busy": "2024-12-18T09:56:18.950908Z",
     "iopub.status.idle": "2024-12-18T09:56:18.957407Z",
     "shell.execute_reply": "2024-12-18T09:56:18.956341Z"
    },
    "papermill": {
     "duration": 0.039883,
     "end_time": "2024-12-18T09:56:18.959490",
     "exception": false,
     "start_time": "2024-12-18T09:56:18.919607",
     "status": "completed"
    },
    "tags": []
   },
   "outputs": [
    {
     "data": {
      "text/plain": [
       "(7043, 31)"
      ]
     },
     "execution_count": 66,
     "metadata": {},
     "output_type": "execute_result"
    }
   ],
   "source": [
    "df.shape"
   ]
  },
  {
   "cell_type": "markdown",
   "id": "cf1be180",
   "metadata": {
    "papermill": {
     "duration": 0.029205,
     "end_time": "2024-12-18T09:56:19.018301",
     "exception": false,
     "start_time": "2024-12-18T09:56:18.989096",
     "status": "completed"
    },
    "tags": []
   },
   "source": [
    "## ENCODING"
   ]
  },
  {
   "cell_type": "code",
   "execution_count": 67,
   "id": "3029e37f",
   "metadata": {
    "execution": {
     "iopub.execute_input": "2024-12-18T09:56:19.078992Z",
     "iopub.status.busy": "2024-12-18T09:56:19.078562Z",
     "iopub.status.idle": "2024-12-18T09:56:19.106840Z",
     "shell.execute_reply": "2024-12-18T09:56:19.105502Z"
    },
    "papermill": {
     "duration": 0.061385,
     "end_time": "2024-12-18T09:56:19.109225",
     "exception": false,
     "start_time": "2024-12-18T09:56:19.047840",
     "status": "completed"
    },
    "tags": []
   },
   "outputs": [
    {
     "name": "stdout",
     "output_type": "stream",
     "text": [
      "Observations: 7043\n",
      "Variables: 31\n",
      "cat_cols: 24\n",
      "num_cols: 6\n",
      "cat_but_car: 1\n",
      "num_but_cat: 8\n"
     ]
    }
   ],
   "source": [
    "# Variables categorization based on their types\n",
    "cat_cols, num_cols, cat_but_car = grab_col_names(df)"
   ]
  },
  {
   "cell_type": "code",
   "execution_count": 68,
   "id": "8b0bdc82",
   "metadata": {
    "execution": {
     "iopub.execute_input": "2024-12-18T09:56:19.171417Z",
     "iopub.status.busy": "2024-12-18T09:56:19.170287Z",
     "iopub.status.idle": "2024-12-18T09:56:19.175916Z",
     "shell.execute_reply": "2024-12-18T09:56:19.174891Z"
    },
    "papermill": {
     "duration": 0.039185,
     "end_time": "2024-12-18T09:56:19.178297",
     "exception": false,
     "start_time": "2024-12-18T09:56:19.139112",
     "status": "completed"
    },
    "tags": []
   },
   "outputs": [],
   "source": [
    "# Label Encoding\n",
    "def label_encoder(dataframe, binary_col):\n",
    "    labelencoder = LabelEncoder()  # Create a label encoder object\n",
    "    dataframe[binary_col] = labelencoder.fit_transform(dataframe[binary_col])  # Encode the column\n",
    "    return dataframe"
   ]
  },
  {
   "cell_type": "markdown",
   "id": "4732b152",
   "metadata": {
    "papermill": {
     "duration": 0.029233,
     "end_time": "2024-12-18T09:56:19.237833",
     "exception": false,
     "start_time": "2024-12-18T09:56:19.208600",
     "status": "completed"
    },
    "tags": []
   },
   "source": [
    "**Label Encoder** is a technique used to convert categorical labels into numerical values. It is commonly used in machine learning when working with categorical data, especially when the algorithm expects numerical input.\n",
    "\n",
    "Here’s how **Label Encoder** works:\n",
    "\n",
    "- It takes a column of categorical data (e.g., \"Yes\", \"No\" or \"Male\", \"Female\") and converts each unique category into a number.\n",
    "- For example, if you have a column with values [\"Yes\", \"No\", \"Yes\", \"No\"], the label encoder will map \"Yes\" to 1 and \"No\" to 0, transforming the data into [1, 0, 1, 0]."
   ]
  },
  {
   "cell_type": "markdown",
   "id": "3922a443",
   "metadata": {
    "papermill": {
     "duration": 0.029617,
     "end_time": "2024-12-18T09:56:19.296868",
     "exception": false,
     "start_time": "2024-12-18T09:56:19.267251",
     "status": "completed"
    },
    "tags": []
   },
   "source": [
    "**Why Use Label Encoder?**\n",
    "1. **Machine Learning Models**: Many machine learning models (e.g., decision trees, linear regression) can handle numerical data better, but they cannot process categorical data directly.\n",
    "2. **Model Performance**: Label encoding ensures that categorical variables can be used in algorithms that require numeric data, such as Random Forest or Gradient Boosting.\n",
    "3. **Speed and Efficiency**: Label encoding is a quick and efficient method for converting categorical features into a numeric format without creating additional features, unlike **One-Hot Encoding**."
   ]
  },
  {
   "attachments": {
    "34827c41-2c7d-4622-aec3-d8a385cfaee8.jpg": {
     "image/jpeg": "[encoded data removed]"
    }
   },
   "cell_type": "markdown",
   "id": "0878ff9d",
   "metadata": {
    "papermill": {
     "duration": 0.030525,
     "end_time": "2024-12-18T09:56:19.372754",
     "exception": false,
     "start_time": "2024-12-18T09:56:19.342229",
     "status": "completed"
    },
    "tags": []
   },
   "source": [
    "![label encoding.jpg](attachment:34827c41-2c7d-4622-aec3-d8a385cfaee8.jpg)"
   ]
  },
  {
   "cell_type": "markdown",
   "id": "8a10ac68",
   "metadata": {
    "papermill": {
     "duration": 0.029596,
     "end_time": "2024-12-18T09:56:19.433522",
     "exception": false,
     "start_time": "2024-12-18T09:56:19.403926",
     "status": "completed"
    },
    "tags": []
   },
   "source": [
    "**Important Notes**:\n",
    "- Label encoding is not suitable for nominal data where there is no ordinal relationship (i.e., the categories have no specific order). For example, if you encode \"Red\", \"Blue\", and \"Green\" as numbers 0, 1, and 2, the model might interpret these numbers as having a natural order, which is not true.\n",
    "- In such cases, **One-Hot Encoding** may be a better choice."
   ]
  },
  {
   "cell_type": "code",
   "execution_count": 69,
   "id": "fec9ab9f",
   "metadata": {
    "execution": {
     "iopub.execute_input": "2024-12-18T09:56:19.494601Z",
     "iopub.status.busy": "2024-12-18T09:56:19.494182Z",
     "iopub.status.idle": "2024-12-18T09:56:19.508966Z",
     "shell.execute_reply": "2024-12-18T09:56:19.507795Z"
    },
    "papermill": {
     "duration": 0.048004,
     "end_time": "2024-12-18T09:56:19.511490",
     "exception": false,
     "start_time": "2024-12-18T09:56:19.463486",
     "status": "completed"
    },
    "tags": []
   },
   "outputs": [],
   "source": [
    "# Identify binary columns (columns with exactly two unique values)\n",
    "binary_cols = [col for col in df.columns if df[col].dtypes == \"O\" and df[col].nunique() == 2]"
   ]
  },
  {
   "cell_type": "code",
   "execution_count": 70,
   "id": "e6c1ca74",
   "metadata": {
    "execution": {
     "iopub.execute_input": "2024-12-18T09:56:19.572853Z",
     "iopub.status.busy": "2024-12-18T09:56:19.572446Z",
     "iopub.status.idle": "2024-12-18T09:56:19.578828Z",
     "shell.execute_reply": "2024-12-18T09:56:19.577796Z"
    },
    "papermill": {
     "duration": 0.039365,
     "end_time": "2024-12-18T09:56:19.581099",
     "exception": false,
     "start_time": "2024-12-18T09:56:19.541734",
     "status": "completed"
    },
    "tags": []
   },
   "outputs": [
    {
     "data": {
      "text/plain": [
       "['gender', 'Partner', 'Dependents', 'PhoneService', 'PaperlessBilling']"
      ]
     },
     "execution_count": 70,
     "metadata": {},
     "output_type": "execute_result"
    }
   ],
   "source": [
    "binary_cols"
   ]
  },
  {
   "cell_type": "code",
   "execution_count": 71,
   "id": "ca998a34",
   "metadata": {
    "execution": {
     "iopub.execute_input": "2024-12-18T09:56:19.643086Z",
     "iopub.status.busy": "2024-12-18T09:56:19.642692Z",
     "iopub.status.idle": "2024-12-18T09:56:19.656810Z",
     "shell.execute_reply": "2024-12-18T09:56:19.655690Z"
    },
    "papermill": {
     "duration": 0.048489,
     "end_time": "2024-12-18T09:56:19.659174",
     "exception": false,
     "start_time": "2024-12-18T09:56:19.610685",
     "status": "completed"
    },
    "tags": []
   },
   "outputs": [],
   "source": [
    "# Apply Label Encoding to each binary column in the DataFrame\n",
    "for col in binary_cols:\n",
    "    df = label_encoder(df, col)"
   ]
  },
  {
   "cell_type": "code",
   "execution_count": 72,
   "id": "96e86004",
   "metadata": {
    "execution": {
     "iopub.execute_input": "2024-12-18T09:56:19.719678Z",
     "iopub.status.busy": "2024-12-18T09:56:19.719195Z",
     "iopub.status.idle": "2024-12-18T09:56:19.741798Z",
     "shell.execute_reply": "2024-12-18T09:56:19.740352Z"
    },
    "papermill": {
     "duration": 0.05555,
     "end_time": "2024-12-18T09:56:19.744124",
     "exception": false,
     "start_time": "2024-12-18T09:56:19.688574",
     "status": "completed"
    },
    "tags": []
   },
   "outputs": [
    {
     "data": {
      "text/html": [
       "<div>\n",
       "<style scoped>\n",
       "    .dataframe tbody tr th:only-of-type {\n",
       "        vertical-align: middle;\n",
       "    }\n",
       "\n",
       "    .dataframe tbody tr th {\n",
       "        vertical-align: top;\n",
       "    }\n",
       "\n",
       "    .dataframe thead th {\n",
       "        text-align: right;\n",
       "    }\n",
       "</style>\n",
       "<table border=\"1\" class=\"dataframe\">\n",
       "  <thead>\n",
       "    <tr style=\"text-align: right;\">\n",
       "      <th></th>\n",
       "      <th>customerID</th>\n",
       "      <th>gender</th>\n",
       "      <th>SeniorCitizen</th>\n",
       "      <th>Partner</th>\n",
       "      <th>Dependents</th>\n",
       "      <th>tenure</th>\n",
       "      <th>PhoneService</th>\n",
       "      <th>MultipleLines</th>\n",
       "      <th>InternetService</th>\n",
       "      <th>OnlineSecurity</th>\n",
       "      <th>...</th>\n",
       "      <th>NEW_TENURE_YEAR</th>\n",
       "      <th>NEW_Engaged</th>\n",
       "      <th>NEW_noProt</th>\n",
       "      <th>NEW_Young_Not_Engaged</th>\n",
       "      <th>NEW_TotalServices</th>\n",
       "      <th>NEW_FLAG_ANY_STREAMING</th>\n",
       "      <th>NEW_FLAG_AutoPayment</th>\n",
       "      <th>NEW_AVG_Charges</th>\n",
       "      <th>NEW_Increase</th>\n",
       "      <th>NEW_AVG_Service_Fee</th>\n",
       "    </tr>\n",
       "  </thead>\n",
       "  <tbody>\n",
       "    <tr>\n",
       "      <th>0</th>\n",
       "      <td>7590-VHVEG</td>\n",
       "      <td>0</td>\n",
       "      <td>0</td>\n",
       "      <td>1</td>\n",
       "      <td>0</td>\n",
       "      <td>1</td>\n",
       "      <td>0</td>\n",
       "      <td>No phone service</td>\n",
       "      <td>DSL</td>\n",
       "      <td>No</td>\n",
       "      <td>...</td>\n",
       "      <td>0-1 Year</td>\n",
       "      <td>0</td>\n",
       "      <td>1</td>\n",
       "      <td>1</td>\n",
       "      <td>1</td>\n",
       "      <td>0</td>\n",
       "      <td>0</td>\n",
       "      <td>14.925000</td>\n",
       "      <td>0.500000</td>\n",
       "      <td>14.9250</td>\n",
       "    </tr>\n",
       "    <tr>\n",
       "      <th>1</th>\n",
       "      <td>5575-GNVDE</td>\n",
       "      <td>1</td>\n",
       "      <td>0</td>\n",
       "      <td>0</td>\n",
       "      <td>0</td>\n",
       "      <td>34</td>\n",
       "      <td>1</td>\n",
       "      <td>No</td>\n",
       "      <td>DSL</td>\n",
       "      <td>Yes</td>\n",
       "      <td>...</td>\n",
       "      <td>2-3 Year</td>\n",
       "      <td>1</td>\n",
       "      <td>1</td>\n",
       "      <td>0</td>\n",
       "      <td>3</td>\n",
       "      <td>0</td>\n",
       "      <td>0</td>\n",
       "      <td>53.985714</td>\n",
       "      <td>0.947949</td>\n",
       "      <td>14.2375</td>\n",
       "    </tr>\n",
       "    <tr>\n",
       "      <th>2</th>\n",
       "      <td>3668-QPYBK</td>\n",
       "      <td>1</td>\n",
       "      <td>0</td>\n",
       "      <td>0</td>\n",
       "      <td>0</td>\n",
       "      <td>2</td>\n",
       "      <td>1</td>\n",
       "      <td>No</td>\n",
       "      <td>DSL</td>\n",
       "      <td>Yes</td>\n",
       "      <td>...</td>\n",
       "      <td>0-1 Year</td>\n",
       "      <td>0</td>\n",
       "      <td>1</td>\n",
       "      <td>1</td>\n",
       "      <td>3</td>\n",
       "      <td>0</td>\n",
       "      <td>0</td>\n",
       "      <td>36.050000</td>\n",
       "      <td>0.669452</td>\n",
       "      <td>13.4625</td>\n",
       "    </tr>\n",
       "    <tr>\n",
       "      <th>3</th>\n",
       "      <td>7795-CFOCW</td>\n",
       "      <td>1</td>\n",
       "      <td>0</td>\n",
       "      <td>0</td>\n",
       "      <td>0</td>\n",
       "      <td>45</td>\n",
       "      <td>0</td>\n",
       "      <td>No phone service</td>\n",
       "      <td>DSL</td>\n",
       "      <td>Yes</td>\n",
       "      <td>...</td>\n",
       "      <td>3-4 Year</td>\n",
       "      <td>1</td>\n",
       "      <td>1</td>\n",
       "      <td>0</td>\n",
       "      <td>3</td>\n",
       "      <td>0</td>\n",
       "      <td>1</td>\n",
       "      <td>40.016304</td>\n",
       "      <td>0.946012</td>\n",
       "      <td>10.5750</td>\n",
       "    </tr>\n",
       "    <tr>\n",
       "      <th>4</th>\n",
       "      <td>9237-HQITU</td>\n",
       "      <td>0</td>\n",
       "      <td>0</td>\n",
       "      <td>0</td>\n",
       "      <td>0</td>\n",
       "      <td>2</td>\n",
       "      <td>1</td>\n",
       "      <td>No</td>\n",
       "      <td>Fiber optic</td>\n",
       "      <td>No</td>\n",
       "      <td>...</td>\n",
       "      <td>0-1 Year</td>\n",
       "      <td>0</td>\n",
       "      <td>1</td>\n",
       "      <td>1</td>\n",
       "      <td>1</td>\n",
       "      <td>0</td>\n",
       "      <td>0</td>\n",
       "      <td>50.550000</td>\n",
       "      <td>0.714993</td>\n",
       "      <td>35.3500</td>\n",
       "    </tr>\n",
       "  </tbody>\n",
       "</table>\n",
       "<p>5 rows × 31 columns</p>\n",
       "</div>"
      ],
      "text/plain": [
       "   customerID  gender  SeniorCitizen  Partner  Dependents  tenure  \\\n",
       "0  7590-VHVEG       0              0        1           0       1   \n",
       "1  5575-GNVDE       1              0        0           0      34   \n",
       "2  3668-QPYBK       1              0        0           0       2   \n",
       "3  7795-CFOCW       1              0        0           0      45   \n",
       "4  9237-HQITU       0              0        0           0       2   \n",
       "\n",
       "   PhoneService     MultipleLines InternetService OnlineSecurity  ...  \\\n",
       "0             0  No phone service             DSL             No  ...   \n",
       "1             1                No             DSL            Yes  ...   \n",
       "2             1                No             DSL            Yes  ...   \n",
       "3             0  No phone service             DSL            Yes  ...   \n",
       "4             1                No     Fiber optic             No  ...   \n",
       "\n",
       "  NEW_TENURE_YEAR NEW_Engaged NEW_noProt NEW_Young_Not_Engaged  \\\n",
       "0        0-1 Year           0          1                     1   \n",
       "1        2-3 Year           1          1                     0   \n",
       "2        0-1 Year           0          1                     1   \n",
       "3        3-4 Year           1          1                     0   \n",
       "4        0-1 Year           0          1                     1   \n",
       "\n",
       "  NEW_TotalServices NEW_FLAG_ANY_STREAMING  NEW_FLAG_AutoPayment  \\\n",
       "0                 1                      0                     0   \n",
       "1                 3                      0                     0   \n",
       "2                 3                      0                     0   \n",
       "3                 3                      0                     1   \n",
       "4                 1                      0                     0   \n",
       "\n",
       "  NEW_AVG_Charges  NEW_Increase  NEW_AVG_Service_Fee  \n",
       "0       14.925000      0.500000              14.9250  \n",
       "1       53.985714      0.947949              14.2375  \n",
       "2       36.050000      0.669452              13.4625  \n",
       "3       40.016304      0.946012              10.5750  \n",
       "4       50.550000      0.714993              35.3500  \n",
       "\n",
       "[5 rows x 31 columns]"
      ]
     },
     "execution_count": 72,
     "metadata": {},
     "output_type": "execute_result"
    }
   ],
   "source": [
    "df.head()"
   ]
  },
  {
   "cell_type": "code",
   "execution_count": 73,
   "id": "18ac5d90",
   "metadata": {
    "execution": {
     "iopub.execute_input": "2024-12-18T09:56:19.806382Z",
     "iopub.status.busy": "2024-12-18T09:56:19.806008Z",
     "iopub.status.idle": "2024-12-18T09:56:19.811323Z",
     "shell.execute_reply": "2024-12-18T09:56:19.810157Z"
    },
    "papermill": {
     "duration": 0.03908,
     "end_time": "2024-12-18T09:56:19.813668",
     "exception": false,
     "start_time": "2024-12-18T09:56:19.774588",
     "status": "completed"
    },
    "tags": []
   },
   "outputs": [],
   "source": [
    "# Update the list of categorical columns for one-hot encoding by excluding binary columns and certain irrelevant columns\n",
    "cat_cols = [col for col in cat_cols if col not in binary_cols and col not in [\"Churn\", \"NEW_TotalServices\"]]"
   ]
  },
  {
   "cell_type": "code",
   "execution_count": 74,
   "id": "488cd9f6",
   "metadata": {
    "execution": {
     "iopub.execute_input": "2024-12-18T09:56:19.875498Z",
     "iopub.status.busy": "2024-12-18T09:56:19.875099Z",
     "iopub.status.idle": "2024-12-18T09:56:19.881931Z",
     "shell.execute_reply": "2024-12-18T09:56:19.880884Z"
    },
    "papermill": {
     "duration": 0.040399,
     "end_time": "2024-12-18T09:56:19.884082",
     "exception": false,
     "start_time": "2024-12-18T09:56:19.843683",
     "status": "completed"
    },
    "tags": []
   },
   "outputs": [
    {
     "data": {
      "text/plain": [
       "['MultipleLines',\n",
       " 'InternetService',\n",
       " 'OnlineSecurity',\n",
       " 'OnlineBackup',\n",
       " 'DeviceProtection',\n",
       " 'TechSupport',\n",
       " 'StreamingTV',\n",
       " 'StreamingMovies',\n",
       " 'Contract',\n",
       " 'PaymentMethod',\n",
       " 'NEW_TENURE_YEAR',\n",
       " 'SeniorCitizen',\n",
       " 'NEW_Engaged',\n",
       " 'NEW_noProt',\n",
       " 'NEW_Young_Not_Engaged',\n",
       " 'NEW_FLAG_ANY_STREAMING',\n",
       " 'NEW_FLAG_AutoPayment']"
      ]
     },
     "execution_count": 74,
     "metadata": {},
     "output_type": "execute_result"
    }
   ],
   "source": [
    "cat_cols"
   ]
  },
  {
   "cell_type": "code",
   "execution_count": 75,
   "id": "d8c4446a",
   "metadata": {
    "execution": {
     "iopub.execute_input": "2024-12-18T09:56:19.946082Z",
     "iopub.status.busy": "2024-12-18T09:56:19.945556Z",
     "iopub.status.idle": "2024-12-18T09:56:19.951024Z",
     "shell.execute_reply": "2024-12-18T09:56:19.949833Z"
    },
    "papermill": {
     "duration": 0.038246,
     "end_time": "2024-12-18T09:56:19.953039",
     "exception": false,
     "start_time": "2024-12-18T09:56:19.914793",
     "status": "completed"
    },
    "tags": []
   },
   "outputs": [],
   "source": [
    "def one_hot_encoder(dataframe, categorical_cols, drop_first=False):\n",
    "    # Generate one-hot encoded columns for the specified categorical columns\n",
    "    dataframe = pd.get_dummies(dataframe, columns=categorical_cols, drop_first=drop_first)\n",
    "    return dataframe"
   ]
  },
  {
   "cell_type": "code",
   "execution_count": 76,
   "id": "f203f259",
   "metadata": {
    "execution": {
     "iopub.execute_input": "2024-12-18T09:56:20.015158Z",
     "iopub.status.busy": "2024-12-18T09:56:20.014734Z",
     "iopub.status.idle": "2024-12-18T09:56:20.043034Z",
     "shell.execute_reply": "2024-12-18T09:56:20.041947Z"
    },
    "papermill": {
     "duration": 0.062609,
     "end_time": "2024-12-18T09:56:20.045663",
     "exception": false,
     "start_time": "2024-12-18T09:56:19.983054",
     "status": "completed"
    },
    "tags": []
   },
   "outputs": [],
   "source": [
    "df = one_hot_encoder(df, cat_cols, drop_first=True)"
   ]
  },
  {
   "cell_type": "code",
   "execution_count": 77,
   "id": "efdaf481",
   "metadata": {
    "execution": {
     "iopub.execute_input": "2024-12-18T09:56:20.110270Z",
     "iopub.status.busy": "2024-12-18T09:56:20.109891Z",
     "iopub.status.idle": "2024-12-18T09:56:20.131263Z",
     "shell.execute_reply": "2024-12-18T09:56:20.130111Z"
    },
    "papermill": {
     "duration": 0.055268,
     "end_time": "2024-12-18T09:56:20.133417",
     "exception": false,
     "start_time": "2024-12-18T09:56:20.078149",
     "status": "completed"
    },
    "tags": []
   },
   "outputs": [
    {
     "data": {
      "text/html": [
       "<div>\n",
       "<style scoped>\n",
       "    .dataframe tbody tr th:only-of-type {\n",
       "        vertical-align: middle;\n",
       "    }\n",
       "\n",
       "    .dataframe tbody tr th {\n",
       "        vertical-align: top;\n",
       "    }\n",
       "\n",
       "    .dataframe thead th {\n",
       "        text-align: right;\n",
       "    }\n",
       "</style>\n",
       "<table border=\"1\" class=\"dataframe\">\n",
       "  <thead>\n",
       "    <tr style=\"text-align: right;\">\n",
       "      <th></th>\n",
       "      <th>customerID</th>\n",
       "      <th>gender</th>\n",
       "      <th>Partner</th>\n",
       "      <th>Dependents</th>\n",
       "      <th>tenure</th>\n",
       "      <th>PhoneService</th>\n",
       "      <th>PaperlessBilling</th>\n",
       "      <th>MonthlyCharges</th>\n",
       "      <th>TotalCharges</th>\n",
       "      <th>Churn</th>\n",
       "      <th>...</th>\n",
       "      <th>NEW_TENURE_YEAR_2-3 Year</th>\n",
       "      <th>NEW_TENURE_YEAR_3-4 Year</th>\n",
       "      <th>NEW_TENURE_YEAR_4-5 Year</th>\n",
       "      <th>NEW_TENURE_YEAR_5-6 Year</th>\n",
       "      <th>SeniorCitizen_1</th>\n",
       "      <th>NEW_Engaged_1</th>\n",
       "      <th>NEW_noProt_1</th>\n",
       "      <th>NEW_Young_Not_Engaged_1</th>\n",
       "      <th>NEW_FLAG_ANY_STREAMING_1</th>\n",
       "      <th>NEW_FLAG_AutoPayment_1</th>\n",
       "    </tr>\n",
       "  </thead>\n",
       "  <tbody>\n",
       "    <tr>\n",
       "      <th>0</th>\n",
       "      <td>7590-VHVEG</td>\n",
       "      <td>0</td>\n",
       "      <td>1</td>\n",
       "      <td>0</td>\n",
       "      <td>1</td>\n",
       "      <td>0</td>\n",
       "      <td>1</td>\n",
       "      <td>29.85</td>\n",
       "      <td>29.85</td>\n",
       "      <td>0</td>\n",
       "      <td>...</td>\n",
       "      <td>False</td>\n",
       "      <td>False</td>\n",
       "      <td>False</td>\n",
       "      <td>False</td>\n",
       "      <td>False</td>\n",
       "      <td>False</td>\n",
       "      <td>True</td>\n",
       "      <td>True</td>\n",
       "      <td>False</td>\n",
       "      <td>False</td>\n",
       "    </tr>\n",
       "    <tr>\n",
       "      <th>1</th>\n",
       "      <td>5575-GNVDE</td>\n",
       "      <td>1</td>\n",
       "      <td>0</td>\n",
       "      <td>0</td>\n",
       "      <td>34</td>\n",
       "      <td>1</td>\n",
       "      <td>0</td>\n",
       "      <td>56.95</td>\n",
       "      <td>1889.50</td>\n",
       "      <td>0</td>\n",
       "      <td>...</td>\n",
       "      <td>True</td>\n",
       "      <td>False</td>\n",
       "      <td>False</td>\n",
       "      <td>False</td>\n",
       "      <td>False</td>\n",
       "      <td>True</td>\n",
       "      <td>True</td>\n",
       "      <td>False</td>\n",
       "      <td>False</td>\n",
       "      <td>False</td>\n",
       "    </tr>\n",
       "    <tr>\n",
       "      <th>2</th>\n",
       "      <td>3668-QPYBK</td>\n",
       "      <td>1</td>\n",
       "      <td>0</td>\n",
       "      <td>0</td>\n",
       "      <td>2</td>\n",
       "      <td>1</td>\n",
       "      <td>1</td>\n",
       "      <td>53.85</td>\n",
       "      <td>108.15</td>\n",
       "      <td>1</td>\n",
       "      <td>...</td>\n",
       "      <td>False</td>\n",
       "      <td>False</td>\n",
       "      <td>False</td>\n",
       "      <td>False</td>\n",
       "      <td>False</td>\n",
       "      <td>False</td>\n",
       "      <td>True</td>\n",
       "      <td>True</td>\n",
       "      <td>False</td>\n",
       "      <td>False</td>\n",
       "    </tr>\n",
       "    <tr>\n",
       "      <th>3</th>\n",
       "      <td>7795-CFOCW</td>\n",
       "      <td>1</td>\n",
       "      <td>0</td>\n",
       "      <td>0</td>\n",
       "      <td>45</td>\n",
       "      <td>0</td>\n",
       "      <td>0</td>\n",
       "      <td>42.30</td>\n",
       "      <td>1840.75</td>\n",
       "      <td>0</td>\n",
       "      <td>...</td>\n",
       "      <td>False</td>\n",
       "      <td>True</td>\n",
       "      <td>False</td>\n",
       "      <td>False</td>\n",
       "      <td>False</td>\n",
       "      <td>True</td>\n",
       "      <td>True</td>\n",
       "      <td>False</td>\n",
       "      <td>False</td>\n",
       "      <td>True</td>\n",
       "    </tr>\n",
       "    <tr>\n",
       "      <th>4</th>\n",
       "      <td>9237-HQITU</td>\n",
       "      <td>0</td>\n",
       "      <td>0</td>\n",
       "      <td>0</td>\n",
       "      <td>2</td>\n",
       "      <td>1</td>\n",
       "      <td>1</td>\n",
       "      <td>70.70</td>\n",
       "      <td>151.65</td>\n",
       "      <td>1</td>\n",
       "      <td>...</td>\n",
       "      <td>False</td>\n",
       "      <td>False</td>\n",
       "      <td>False</td>\n",
       "      <td>False</td>\n",
       "      <td>False</td>\n",
       "      <td>False</td>\n",
       "      <td>True</td>\n",
       "      <td>True</td>\n",
       "      <td>False</td>\n",
       "      <td>False</td>\n",
       "    </tr>\n",
       "  </tbody>\n",
       "</table>\n",
       "<p>5 rows × 46 columns</p>\n",
       "</div>"
      ],
      "text/plain": [
       "   customerID  gender  Partner  Dependents  tenure  PhoneService  \\\n",
       "0  7590-VHVEG       0        1           0       1             0   \n",
       "1  5575-GNVDE       1        0           0      34             1   \n",
       "2  3668-QPYBK       1        0           0       2             1   \n",
       "3  7795-CFOCW       1        0           0      45             0   \n",
       "4  9237-HQITU       0        0           0       2             1   \n",
       "\n",
       "   PaperlessBilling  MonthlyCharges  TotalCharges  Churn  ...  \\\n",
       "0                 1           29.85         29.85      0  ...   \n",
       "1                 0           56.95       1889.50      0  ...   \n",
       "2                 1           53.85        108.15      1  ...   \n",
       "3                 0           42.30       1840.75      0  ...   \n",
       "4                 1           70.70        151.65      1  ...   \n",
       "\n",
       "   NEW_TENURE_YEAR_2-3 Year  NEW_TENURE_YEAR_3-4 Year  \\\n",
       "0                     False                     False   \n",
       "1                      True                     False   \n",
       "2                     False                     False   \n",
       "3                     False                      True   \n",
       "4                     False                     False   \n",
       "\n",
       "   NEW_TENURE_YEAR_4-5 Year  NEW_TENURE_YEAR_5-6 Year  SeniorCitizen_1  \\\n",
       "0                     False                     False            False   \n",
       "1                     False                     False            False   \n",
       "2                     False                     False            False   \n",
       "3                     False                     False            False   \n",
       "4                     False                     False            False   \n",
       "\n",
       "   NEW_Engaged_1  NEW_noProt_1  NEW_Young_Not_Engaged_1  \\\n",
       "0          False          True                     True   \n",
       "1           True          True                    False   \n",
       "2          False          True                     True   \n",
       "3           True          True                    False   \n",
       "4          False          True                     True   \n",
       "\n",
       "   NEW_FLAG_ANY_STREAMING_1  NEW_FLAG_AutoPayment_1  \n",
       "0                     False                   False  \n",
       "1                     False                   False  \n",
       "2                     False                   False  \n",
       "3                     False                    True  \n",
       "4                     False                   False  \n",
       "\n",
       "[5 rows x 46 columns]"
      ]
     },
     "execution_count": 77,
     "metadata": {},
     "output_type": "execute_result"
    }
   ],
   "source": [
    "df.head()"
   ]
  },
  {
   "cell_type": "markdown",
   "id": "dbb02ef0",
   "metadata": {
    "papermill": {
     "duration": 0.031056,
     "end_time": "2024-12-18T09:56:20.195741",
     "exception": false,
     "start_time": "2024-12-18T09:56:20.164685",
     "status": "completed"
    },
    "tags": []
   },
   "source": [
    "## Model Development"
   ]
  },
  {
   "cell_type": "code",
   "execution_count": 78,
   "id": "042007c0",
   "metadata": {
    "execution": {
     "iopub.execute_input": "2024-12-18T09:56:20.258855Z",
     "iopub.status.busy": "2024-12-18T09:56:20.258418Z",
     "iopub.status.idle": "2024-12-18T09:56:20.266005Z",
     "shell.execute_reply": "2024-12-18T09:56:20.265021Z"
    },
    "papermill": {
     "duration": 0.04132,
     "end_time": "2024-12-18T09:56:20.268353",
     "exception": false,
     "start_time": "2024-12-18T09:56:20.227033",
     "status": "completed"
    },
    "tags": []
   },
   "outputs": [],
   "source": [
    "# Set the target variable (dependent variable)\n",
    "y = df[\"Churn\"]  # 'Churn' column is our target variable, representing whether a customer has churned (left) or not.\n",
    "\n",
    "# Set the feature variables (independent variables)\n",
    "X = df.drop([\"Churn\", \"customerID\"], axis=1)  # Dropping 'Churn' (the target variable) and 'customerID' (identifier, not useful as a feature)"
   ]
  },
  {
   "cell_type": "code",
   "execution_count": 79,
   "id": "06da2368",
   "metadata": {
    "execution": {
     "iopub.execute_input": "2024-12-18T09:56:20.332532Z",
     "iopub.status.busy": "2024-12-18T09:56:20.332103Z",
     "iopub.status.idle": "2024-12-18T09:56:20.341843Z",
     "shell.execute_reply": "2024-12-18T09:56:20.340876Z"
    },
    "papermill": {
     "duration": 0.04524,
     "end_time": "2024-12-18T09:56:20.345339",
     "exception": false,
     "start_time": "2024-12-18T09:56:20.300099",
     "status": "completed"
    },
    "tags": []
   },
   "outputs": [],
   "source": [
    "# Split the data into training and testing sets\n",
    "X_train, X_test, y_train, y_test = train_test_split(X, y, test_size=0.30, random_state=17)  "
   ]
  },
  {
   "cell_type": "code",
   "execution_count": 80,
   "id": "f4fe7b50",
   "metadata": {
    "execution": {
     "iopub.execute_input": "2024-12-18T09:56:20.408844Z",
     "iopub.status.busy": "2024-12-18T09:56:20.407808Z",
     "iopub.status.idle": "2024-12-18T09:56:24.651389Z",
     "shell.execute_reply": "2024-12-18T09:56:24.650527Z"
    },
    "papermill": {
     "duration": 4.277771,
     "end_time": "2024-12-18T09:56:24.654027",
     "exception": false,
     "start_time": "2024-12-18T09:56:20.376256",
     "status": "completed"
    },
    "tags": []
   },
   "outputs": [],
   "source": [
    "catboost_model = CatBoostClassifier(verbose=False, random_state=12345).fit(X_train, y_train)\n",
    "y_pred = catboost_model.predict(X_test)"
   ]
  },
  {
   "cell_type": "code",
   "execution_count": 81,
   "id": "8a38c9dd",
   "metadata": {
    "execution": {
     "iopub.execute_input": "2024-12-18T09:56:24.716186Z",
     "iopub.status.busy": "2024-12-18T09:56:24.715760Z",
     "iopub.status.idle": "2024-12-18T09:56:24.734370Z",
     "shell.execute_reply": "2024-12-18T09:56:24.733147Z"
    },
    "papermill": {
     "duration": 0.052215,
     "end_time": "2024-12-18T09:56:24.736588",
     "exception": false,
     "start_time": "2024-12-18T09:56:24.684373",
     "status": "completed"
    },
    "tags": []
   },
   "outputs": [
    {
     "name": "stdout",
     "output_type": "stream",
     "text": [
      "Accuracy: 0.79\n",
      "Recall: 0.65\n",
      "Precision: 0.5\n",
      "F1: 0.56\n",
      "Auc: 0.74\n"
     ]
    }
   ],
   "source": [
    "print(f\"Accuracy: {round(accuracy_score(y_pred, y_test), 2)}\")\n",
    "print(f\"Recall: {round(recall_score(y_pred,y_test),2)}\")\n",
    "print(f\"Precision: {round(precision_score(y_pred,y_test), 2)}\")\n",
    "print(f\"F1: {round(f1_score(y_pred,y_test), 2)}\")\n",
    "print(f\"Auc: {round(roc_auc_score(y_pred,y_test), 2)}\")"
   ]
  },
  {
   "cell_type": "code",
   "execution_count": 82,
   "id": "16cef09d",
   "metadata": {
    "execution": {
     "iopub.execute_input": "2024-12-18T09:56:24.799727Z",
     "iopub.status.busy": "2024-12-18T09:56:24.798529Z",
     "iopub.status.idle": "2024-12-18T09:56:24.804124Z",
     "shell.execute_reply": "2024-12-18T09:56:24.802728Z"
    },
    "papermill": {
     "duration": 0.039678,
     "end_time": "2024-12-18T09:56:24.806479",
     "exception": false,
     "start_time": "2024-12-18T09:56:24.766801",
     "status": "completed"
    },
    "tags": []
   },
   "outputs": [],
   "source": [
    "# comparison\n",
    "\n",
    "# Accuracy: 0.79\n",
    "# Recall: 0.65\n",
    "# Precision: 0.5\n",
    "# F1: 0.56\n",
    "# Auc: 0.74\n",
    "\n",
    "# Accuracy: 0.7847\n",
    "# Recall: 0.6331\n",
    "# Precision: 0.493\n",
    "# F1: 0.5544\n",
    "# Auc: 0.7292"
   ]
  }
 ],
 "metadata": {
  "kaggle": {
   "accelerator": "none",
   "dataSources": [
    {
     "datasetId": 13996,
     "sourceId": 18858,
     "sourceType": "datasetVersion"
    }
   ],
   "dockerImageVersionId": 30804,
   "isGpuEnabled": false,
   "isInternetEnabled": true,
   "language": "python",
   "sourceType": "notebook"
  },
  "kernelspec": {
   "display_name": "Python 3",
   "language": "python",
   "name": "python3"
  },
  "language_info": {
   "codemirror_mode": {
    "name": "ipython",
    "version": 3
   },
   "file_extension": ".py",
   "mimetype": "text/x-python",
   "name": "python",
   "nbconvert_exporter": "python",
   "pygments_lexer": "ipython3",
   "version": "3.10.14"
  },
  "papermill": {
   "default_parameters": {},
   "duration": 35.650419,
   "end_time": "2024-12-18T09:56:25.560280",
   "environment_variables": {},
   "exception": null,
   "input_path": "__notebook__.ipynb",
   "output_path": "__notebook__.ipynb",
   "parameters": {},
   "start_time": "2024-12-18T09:55:49.909861",
   "version": "2.6.0"
  }
 },
 "nbformat": 4,
 "nbformat_minor": 5
}
